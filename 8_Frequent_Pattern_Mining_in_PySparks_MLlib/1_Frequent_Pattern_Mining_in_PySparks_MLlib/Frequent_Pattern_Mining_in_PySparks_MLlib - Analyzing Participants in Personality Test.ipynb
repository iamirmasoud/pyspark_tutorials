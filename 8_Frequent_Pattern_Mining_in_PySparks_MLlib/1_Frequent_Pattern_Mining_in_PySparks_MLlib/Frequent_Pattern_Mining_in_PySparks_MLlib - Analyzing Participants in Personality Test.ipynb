{
 "cells": [
  {
   "cell_type": "markdown",
   "metadata": {},
   "source": [
    "# Frequent Pattern Mining in PySpark's MLlib\n",
    "\n",
    "PySpark offers two algorithms for frequency pattern mining (FPM): \n",
    "\n",
    "- FP-growth\n",
    "- PrefixSpan \n",
    "\n",
    "The distinction is that FP-growth does not use order information in the itemsets, if any, while PrefixSpan is designed for sequential pattern mining where the itemsets are ordered. "
   ]
  },
  {
   "cell_type": "code",
   "execution_count": 1,
   "metadata": {},
   "outputs": [
    {
     "name": "stdout",
     "output_type": "stream",
     "text": [
      "22/10/13 16:23:15 WARN Utils: Your hostname, masoud-ubuntu resolves to a loopback address: 127.0.1.1; using 192.168.7.139 instead (on interface wlp2s0)\n",
      "22/10/13 16:23:15 WARN Utils: Set SPARK_LOCAL_IP if you need to bind to another address\n"
     ]
    },
    {
     "name": "stderr",
     "output_type": "stream",
     "text": [
      "Setting default log level to \"WARN\".\n",
      "To adjust logging level use sc.setLogLevel(newLevel). For SparkR, use setLogLevel(newLevel).\n"
     ]
    },
    {
     "name": "stdout",
     "output_type": "stream",
     "text": [
      "22/10/13 16:23:16 WARN NativeCodeLoader: Unable to load native-hadoop library for your platform... using builtin-java classes where applicable\n",
      "You are working with 1 core(s)\n"
     ]
    },
    {
     "data": {
      "text/html": [
       "\n",
       "            <div>\n",
       "                <p><b>SparkSession - in-memory</b></p>\n",
       "                \n",
       "        <div>\n",
       "            <p><b>SparkContext</b></p>\n",
       "\n",
       "            <p><a href=\"http://192.168.7.139:4040\">Spark UI</a></p>\n",
       "\n",
       "            <dl>\n",
       "              <dt>Version</dt>\n",
       "                <dd><code>v3.3.0</code></dd>\n",
       "              <dt>Master</dt>\n",
       "                <dd><code>local[*]</code></dd>\n",
       "              <dt>AppName</dt>\n",
       "                <dd><code>FPM</code></dd>\n",
       "            </dl>\n",
       "        </div>\n",
       "        \n",
       "            </div>\n",
       "        "
      ],
      "text/plain": [
       "<pyspark.sql.session.SparkSession at 0x7fd39e83eb10>"
      ]
     },
     "execution_count": 1,
     "metadata": {},
     "output_type": "execute_result"
    }
   ],
   "source": [
    "# First let's create our PySpark instance\n",
    "# import findspark\n",
    "# findspark.init()\n",
    "\n",
    "import pyspark  # only run after findspark.init()\n",
    "from pyspark.sql import SparkSession\n",
    "\n",
    "# May take awhile locally\n",
    "spark = SparkSession.builder.appName(\"FPM\").getOrCreate()\n",
    "\n",
    "cores = spark._jsc.sc().getExecutorMemoryStatus().keySet().size()\n",
    "print(\"You are working with\", cores, \"core(s)\")\n",
    "spark\n",
    "# Click the hyperlinked \"Spark UI\" link to view details about your Spark session"
   ]
  },
  {
   "cell_type": "markdown",
   "metadata": {},
   "source": [
    "## Import data\n",
    "\n",
    "### About dataframe\n",
    "\n",
    "This data was collected (2016-2018) through an interactive on-line personality test.\n",
    "The personality test was constructed with the \"Big-Five Factor Markers\" from the IPIP. https://ipip.ori.org/newBigFive5broadKey.htm\n",
    "Participants were informed that their responses would be recorded and used for research at the beginning of the test, and asked to confirm their consent at the end of the test.\n",
    "\n",
    "The following items were presented on one page and each was rated on a five point scale using radio buttons. The order on page was EXT1, AGR1, CSN1, EST1, OPN1, EXT2, etc.\n",
    "The scale was labeled 1=Disagree, 3=Neutral, 5=Agree\n",
    "\n",
    " - EXT1\tI am the life of the party.\n",
    " - EXT2\tI don't talk a lot.\n",
    " - EXT3\tI feel comfortable around people.\n",
    " - EXT4\tI keep in the background.\n",
    " - EXT5\tI start conversations.\n",
    " - EXT6\tI have little to say.\n",
    " - EXT7\tI talk to a lot of different people at parties.\n",
    " - EXT8\tI don't like to draw attention to myself.\n",
    " - EXT9\tI don't mind being the center of attention.\n",
    " - EXT10\tI am quiet around strangers.\n",
    " - EST1\tI get stressed out easily.\n",
    " - EST2\tI am relaxed most of the time.\n",
    " - EST3\tI worry about things.\n",
    " - EST4\tI seldom feel blue.\n",
    " - EST5\tI am easily disturbed.\n",
    " - EST6\tI get upset easily.\n",
    " - EST7\tI change my mood a lot.\n",
    " - EST8\tI have frequent mood swings.\n",
    " - EST9\tI get irritated easily.\n",
    " - EST10\tI often feel blue.\n",
    " - AGR1\tI feel little concern for others.\n",
    " - AGR2\tI am interested in people.\n",
    " - AGR3\tI insult people.\n",
    " - AGR4\tI sympathize with others' feelings.\n",
    " - AGR5\tI am not interested in other people's problems.\n",
    " - AGR6\tI have a soft heart.\n",
    " - AGR7\tI am not really interested in others.\n",
    " - AGR8\tI take time out for others.\n",
    " - AGR9\tI feel others' emotions.\n",
    " - AGR10\tI make people feel at ease.\n",
    " - CSN1\tI am always prepared.\n",
    " - CSN2\tI leave my belongings around.\n",
    " - CSN3\tI pay attention to details.\n",
    " - CSN4\tI make a mess of things.\n",
    " - CSN5\tI get chores done right away.\n",
    " - CSN6\tI often forget to put things back in their proper place.\n",
    " - CSN7\tI like order.\n",
    " - CSN8\tI shirk my duties.\n",
    " - CSN9\tI follow a schedule.\n",
    " - CSN10\tI am exacting in my work.\n",
    " - OPN1\tI have a rich vocabulary.\n",
    " - OPN2\tI have difficulty understanding abstract ideas.\n",
    " - OPN3\tI have a vivid imagination.\n",
    " - OPN4\tI am not interested in abstract ideas.\n",
    " - OPN5\tI have excellent ideas.\n",
    " - OPN6\tI do not have a good imagination.\n",
    " - OPN7\tI am quick to understand things.\n",
    " - OPN8\tI use difficult words.\n",
    " - OPN9\tI spend time reflecting on things.\n",
    " - OPN10\tI am full of ideas.\n",
    "\n",
    "The time spent on each question is also recorded in milliseconds. These are the variables ending in \\_E. This was calculated by taking the time when the button for the question was clicked minus the time of the most recent other button click.\n",
    "```\n",
    "dateload:    The timestamp when the survey was started.\n",
    "\n",
    "screenw:     The width the of user's screen in pixels\n",
    "\n",
    "screenh:     The height of the user's screen in pixels\n",
    "\n",
    "introelapse: The time in seconds spent on the landing / intro page\n",
    "\n",
    "testelapse:  The time in seconds spent on the page with the survey questions\n",
    "\n",
    "endelapse:   The time in seconds spent on the finalization page (where the user was asked to indicate if they has answered accurately and their answers could be stored and used for research. Again: this dataset only includes users who answered \"Yes\" to this question, users were free to answer no and could still view their results either way)\n",
    "\n",
    "IPC:         The number of records from the user's IP address in the dataset. For max cleanliness, only use records where this value is 1. High values can be because of shared networks (e.g. entire universities) or multiple submissions\n",
    "\n",
    "country:     The country, determined by technical information (NOT ASKED AS A QUESTION)\n",
    "\n",
    "lat_appx_lots_of_err:    approximate latitude of user. determined by technical information, THIS IS NOT VERY ACCURATE. Read the article \"How an internet mapping glitch turned a random Kansas farm into a digital hell\" https://splinternews.com/how-an-internet-mapping-glitch-turned-a-random-kansas-f-1793856052 to learn about the perils of relying on this information\n",
    "\n",
    "long_appx_lots_of_err:   approximate longitude of user\n",
    "```\n",
    "\n",
    "**Source:** https://www.kaggle.com/tunguz/big-five-personality-test#data-final.csv"
   ]
  },
  {
   "cell_type": "code",
   "execution_count": 25,
   "metadata": {},
   "outputs": [],
   "source": [
    "from pyspark.sql.functions import expr, array, round, size, col, array_contains\n",
    "from pyspark.ml.fpm import FPGrowth, PrefixSpan"
   ]
  },
  {
   "cell_type": "code",
   "execution_count": 3,
   "metadata": {},
   "outputs": [
    {
     "name": "stderr",
     "output_type": "stream",
     "text": [
      "                                                                                \r"
     ]
    }
   ],
   "source": [
    "path = r\"Datasets/Big Five Personality Test Data/\"\n",
    "df = spark.read.option(\"delimiter\", \"\\t\").csv(\n",
    "    path + \"data-final.csv\", inferSchema=True, header=True\n",
    ")"
   ]
  },
  {
   "cell_type": "code",
   "execution_count": 4,
   "metadata": {},
   "outputs": [
    {
     "name": "stdout",
     "output_type": "stream",
     "text": [
      "22/10/13 16:23:27 WARN package: Truncated the string representation of a plan since it was too large. This behavior can be adjusted by setting 'spark.sql.debug.maxToStringFields'.\n"
     ]
    },
    {
     "data": {
      "text/html": [
       "<div>\n",
       "<style scoped>\n",
       "    .dataframe tbody tr th:only-of-type {\n",
       "        vertical-align: middle;\n",
       "    }\n",
       "\n",
       "    .dataframe tbody tr th {\n",
       "        vertical-align: top;\n",
       "    }\n",
       "\n",
       "    .dataframe thead th {\n",
       "        text-align: right;\n",
       "    }\n",
       "</style>\n",
       "<table border=\"1\" class=\"dataframe\">\n",
       "  <thead>\n",
       "    <tr style=\"text-align: right;\">\n",
       "      <th></th>\n",
       "      <th>EXT1</th>\n",
       "      <th>EXT2</th>\n",
       "      <th>EXT3</th>\n",
       "      <th>EXT4</th>\n",
       "      <th>EXT5</th>\n",
       "      <th>EXT6</th>\n",
       "      <th>EXT7</th>\n",
       "      <th>EXT8</th>\n",
       "      <th>EXT9</th>\n",
       "      <th>EXT10</th>\n",
       "      <th>...</th>\n",
       "      <th>dateload</th>\n",
       "      <th>screenw</th>\n",
       "      <th>screenh</th>\n",
       "      <th>introelapse</th>\n",
       "      <th>testelapse</th>\n",
       "      <th>endelapse</th>\n",
       "      <th>IPC</th>\n",
       "      <th>country</th>\n",
       "      <th>lat_appx_lots_of_err</th>\n",
       "      <th>long_appx_lots_of_err</th>\n",
       "    </tr>\n",
       "  </thead>\n",
       "  <tbody>\n",
       "    <tr>\n",
       "      <th>0</th>\n",
       "      <td>4</td>\n",
       "      <td>1</td>\n",
       "      <td>5</td>\n",
       "      <td>2</td>\n",
       "      <td>5</td>\n",
       "      <td>1</td>\n",
       "      <td>5</td>\n",
       "      <td>2</td>\n",
       "      <td>4</td>\n",
       "      <td>1</td>\n",
       "      <td>...</td>\n",
       "      <td>2016-03-03 02:01:01</td>\n",
       "      <td>768</td>\n",
       "      <td>1024</td>\n",
       "      <td>9</td>\n",
       "      <td>234</td>\n",
       "      <td>6</td>\n",
       "      <td>1</td>\n",
       "      <td>GB</td>\n",
       "      <td>51.5448</td>\n",
       "      <td>0.1991</td>\n",
       "    </tr>\n",
       "    <tr>\n",
       "      <th>1</th>\n",
       "      <td>3</td>\n",
       "      <td>5</td>\n",
       "      <td>3</td>\n",
       "      <td>4</td>\n",
       "      <td>3</td>\n",
       "      <td>3</td>\n",
       "      <td>2</td>\n",
       "      <td>5</td>\n",
       "      <td>1</td>\n",
       "      <td>5</td>\n",
       "      <td>...</td>\n",
       "      <td>2016-03-03 02:01:20</td>\n",
       "      <td>1360</td>\n",
       "      <td>768</td>\n",
       "      <td>12</td>\n",
       "      <td>179</td>\n",
       "      <td>11</td>\n",
       "      <td>1</td>\n",
       "      <td>MY</td>\n",
       "      <td>3.1698</td>\n",
       "      <td>101.706</td>\n",
       "    </tr>\n",
       "    <tr>\n",
       "      <th>2</th>\n",
       "      <td>2</td>\n",
       "      <td>3</td>\n",
       "      <td>4</td>\n",
       "      <td>4</td>\n",
       "      <td>3</td>\n",
       "      <td>2</td>\n",
       "      <td>1</td>\n",
       "      <td>3</td>\n",
       "      <td>2</td>\n",
       "      <td>5</td>\n",
       "      <td>...</td>\n",
       "      <td>2016-03-03 02:01:56</td>\n",
       "      <td>1366</td>\n",
       "      <td>768</td>\n",
       "      <td>3</td>\n",
       "      <td>186</td>\n",
       "      <td>7</td>\n",
       "      <td>1</td>\n",
       "      <td>GB</td>\n",
       "      <td>54.9119</td>\n",
       "      <td>-1.3833</td>\n",
       "    </tr>\n",
       "    <tr>\n",
       "      <th>3</th>\n",
       "      <td>2</td>\n",
       "      <td>2</td>\n",
       "      <td>2</td>\n",
       "      <td>3</td>\n",
       "      <td>4</td>\n",
       "      <td>2</td>\n",
       "      <td>2</td>\n",
       "      <td>4</td>\n",
       "      <td>1</td>\n",
       "      <td>4</td>\n",
       "      <td>...</td>\n",
       "      <td>2016-03-03 02:02:02</td>\n",
       "      <td>1920</td>\n",
       "      <td>1200</td>\n",
       "      <td>186</td>\n",
       "      <td>219</td>\n",
       "      <td>7</td>\n",
       "      <td>1</td>\n",
       "      <td>GB</td>\n",
       "      <td>51.75</td>\n",
       "      <td>-1.25</td>\n",
       "    </tr>\n",
       "  </tbody>\n",
       "</table>\n",
       "<p>4 rows × 110 columns</p>\n",
       "</div>"
      ],
      "text/plain": [
       "  EXT1 EXT2 EXT3 EXT4 EXT5 EXT6 EXT7 EXT8 EXT9 EXT10  ...            dateload  \\\n",
       "0    4    1    5    2    5    1    5    2    4     1  ... 2016-03-03 02:01:01   \n",
       "1    3    5    3    4    3    3    2    5    1     5  ... 2016-03-03 02:01:20   \n",
       "2    2    3    4    4    3    2    1    3    2     5  ... 2016-03-03 02:01:56   \n",
       "3    2    2    2    3    4    2    2    4    1     4  ... 2016-03-03 02:02:02   \n",
       "\n",
       "  screenw screenh introelapse testelapse endelapse IPC country  \\\n",
       "0     768    1024           9        234         6   1      GB   \n",
       "1    1360     768          12        179        11   1      MY   \n",
       "2    1366     768           3        186         7   1      GB   \n",
       "3    1920    1200         186        219         7   1      GB   \n",
       "\n",
       "  lat_appx_lots_of_err long_appx_lots_of_err  \n",
       "0              51.5448                0.1991  \n",
       "1               3.1698               101.706  \n",
       "2              54.9119               -1.3833  \n",
       "3                51.75                 -1.25  \n",
       "\n",
       "[4 rows x 110 columns]"
      ]
     },
     "execution_count": 4,
     "metadata": {},
     "output_type": "execute_result"
    }
   ],
   "source": [
    "df.limit(4).toPandas()"
   ]
  },
  {
   "cell_type": "code",
   "execution_count": 5,
   "metadata": {},
   "outputs": [
    {
     "data": {
      "text/plain": [
       "1015341"
      ]
     },
     "execution_count": 5,
     "metadata": {},
     "output_type": "execute_result"
    }
   ],
   "source": [
    "df.count()"
   ]
  },
  {
   "cell_type": "code",
   "execution_count": 6,
   "metadata": {},
   "outputs": [
    {
     "name": "stdout",
     "output_type": "stream",
     "text": [
      "root\n",
      " |-- EXT1: string (nullable = true)\n",
      " |-- EXT2: string (nullable = true)\n",
      " |-- EXT3: string (nullable = true)\n",
      " |-- EXT4: string (nullable = true)\n",
      " |-- EXT5: string (nullable = true)\n",
      " |-- EXT6: string (nullable = true)\n",
      " |-- EXT7: string (nullable = true)\n",
      " |-- EXT8: string (nullable = true)\n",
      " |-- EXT9: string (nullable = true)\n",
      " |-- EXT10: string (nullable = true)\n",
      " |-- EST1: string (nullable = true)\n",
      " |-- EST2: string (nullable = true)\n",
      " |-- EST3: string (nullable = true)\n",
      " |-- EST4: string (nullable = true)\n",
      " |-- EST5: string (nullable = true)\n",
      " |-- EST6: string (nullable = true)\n",
      " |-- EST7: string (nullable = true)\n",
      " |-- EST8: string (nullable = true)\n",
      " |-- EST9: string (nullable = true)\n",
      " |-- EST10: string (nullable = true)\n",
      " |-- AGR1: string (nullable = true)\n",
      " |-- AGR2: string (nullable = true)\n",
      " |-- AGR3: string (nullable = true)\n",
      " |-- AGR4: string (nullable = true)\n",
      " |-- AGR5: string (nullable = true)\n",
      " |-- AGR6: string (nullable = true)\n",
      " |-- AGR7: string (nullable = true)\n",
      " |-- AGR8: string (nullable = true)\n",
      " |-- AGR9: string (nullable = true)\n",
      " |-- AGR10: string (nullable = true)\n",
      " |-- CSN1: string (nullable = true)\n",
      " |-- CSN2: string (nullable = true)\n",
      " |-- CSN3: string (nullable = true)\n",
      " |-- CSN4: string (nullable = true)\n",
      " |-- CSN5: string (nullable = true)\n",
      " |-- CSN6: string (nullable = true)\n",
      " |-- CSN7: string (nullable = true)\n",
      " |-- CSN8: string (nullable = true)\n",
      " |-- CSN9: string (nullable = true)\n",
      " |-- CSN10: string (nullable = true)\n",
      " |-- OPN1: string (nullable = true)\n",
      " |-- OPN2: string (nullable = true)\n",
      " |-- OPN3: string (nullable = true)\n",
      " |-- OPN4: string (nullable = true)\n",
      " |-- OPN5: string (nullable = true)\n",
      " |-- OPN6: string (nullable = true)\n",
      " |-- OPN7: string (nullable = true)\n",
      " |-- OPN8: string (nullable = true)\n",
      " |-- OPN9: string (nullable = true)\n",
      " |-- OPN10: string (nullable = true)\n",
      " |-- EXT1_E: string (nullable = true)\n",
      " |-- EXT2_E: string (nullable = true)\n",
      " |-- EXT3_E: string (nullable = true)\n",
      " |-- EXT4_E: string (nullable = true)\n",
      " |-- EXT5_E: string (nullable = true)\n",
      " |-- EXT6_E: string (nullable = true)\n",
      " |-- EXT7_E: string (nullable = true)\n",
      " |-- EXT8_E: string (nullable = true)\n",
      " |-- EXT9_E: string (nullable = true)\n",
      " |-- EXT10_E: string (nullable = true)\n",
      " |-- EST1_E: string (nullable = true)\n",
      " |-- EST2_E: string (nullable = true)\n",
      " |-- EST3_E: string (nullable = true)\n",
      " |-- EST4_E: string (nullable = true)\n",
      " |-- EST5_E: string (nullable = true)\n",
      " |-- EST6_E: string (nullable = true)\n",
      " |-- EST7_E: string (nullable = true)\n",
      " |-- EST8_E: string (nullable = true)\n",
      " |-- EST9_E: string (nullable = true)\n",
      " |-- EST10_E: string (nullable = true)\n",
      " |-- AGR1_E: string (nullable = true)\n",
      " |-- AGR2_E: string (nullable = true)\n",
      " |-- AGR3_E: string (nullable = true)\n",
      " |-- AGR4_E: string (nullable = true)\n",
      " |-- AGR5_E: string (nullable = true)\n",
      " |-- AGR6_E: string (nullable = true)\n",
      " |-- AGR7_E: string (nullable = true)\n",
      " |-- AGR8_E: string (nullable = true)\n",
      " |-- AGR9_E: string (nullable = true)\n",
      " |-- AGR10_E: string (nullable = true)\n",
      " |-- CSN1_E: string (nullable = true)\n",
      " |-- CSN2_E: string (nullable = true)\n",
      " |-- CSN3_E: string (nullable = true)\n",
      " |-- CSN4_E: string (nullable = true)\n",
      " |-- CSN5_E: string (nullable = true)\n",
      " |-- CSN6_E: string (nullable = true)\n",
      " |-- CSN7_E: string (nullable = true)\n",
      " |-- CSN8_E: string (nullable = true)\n",
      " |-- CSN9_E: string (nullable = true)\n",
      " |-- CSN10_E: string (nullable = true)\n",
      " |-- OPN1_E: string (nullable = true)\n",
      " |-- OPN2_E: string (nullable = true)\n",
      " |-- OPN3_E: string (nullable = true)\n",
      " |-- OPN4_E: string (nullable = true)\n",
      " |-- OPN5_E: string (nullable = true)\n",
      " |-- OPN6_E: string (nullable = true)\n",
      " |-- OPN7_E: string (nullable = true)\n",
      " |-- OPN8_E: string (nullable = true)\n",
      " |-- OPN9_E: string (nullable = true)\n",
      " |-- OPN10_E: string (nullable = true)\n",
      " |-- dateload: timestamp (nullable = true)\n",
      " |-- screenw: string (nullable = true)\n",
      " |-- screenh: string (nullable = true)\n",
      " |-- introelapse: string (nullable = true)\n",
      " |-- testelapse: string (nullable = true)\n",
      " |-- endelapse: integer (nullable = true)\n",
      " |-- IPC: integer (nullable = true)\n",
      " |-- country: string (nullable = true)\n",
      " |-- lat_appx_lots_of_err: string (nullable = true)\n",
      " |-- long_appx_lots_of_err: string (nullable = true)\n",
      "\n"
     ]
    }
   ],
   "source": [
    "df.printSchema()"
   ]
  },
  {
   "cell_type": "code",
   "execution_count": 7,
   "metadata": {},
   "outputs": [
    {
     "data": {
      "text/plain": [
       "1015341"
      ]
     },
     "execution_count": 7,
     "metadata": {},
     "output_type": "execute_result"
    }
   ],
   "source": [
    "# How many rows do we have in our dataframe?\n",
    "df.count()"
   ]
  },
  {
   "cell_type": "markdown",
   "metadata": {},
   "source": [
    "## Find frequent patterns (unordered)\n",
    "\n",
    "Using the FPGrowth Model\n",
    "\n",
    "In order to fit an FPGrowth model, our data needs to not have any duplicative entries within each row (ex. 1,2,3,1). Therefore we need to recode our values to some way that will have unique values in each row. Let's go ahead do that in a bit of a creative way. I want to know what each persons min, median and max values were for each question in the Ext group. "
   ]
  },
  {
   "cell_type": "code",
   "execution_count": 10,
   "metadata": {},
   "outputs": [
    {
     "data": {
      "text/html": [
       "<div>\n",
       "<style scoped>\n",
       "    .dataframe tbody tr th:only-of-type {\n",
       "        vertical-align: middle;\n",
       "    }\n",
       "\n",
       "    .dataframe tbody tr th {\n",
       "        vertical-align: top;\n",
       "    }\n",
       "\n",
       "    .dataframe thead th {\n",
       "        text-align: right;\n",
       "    }\n",
       "</style>\n",
       "<table border=\"1\" class=\"dataframe\">\n",
       "  <thead>\n",
       "    <tr style=\"text-align: right;\">\n",
       "      <th></th>\n",
       "      <th>items</th>\n",
       "    </tr>\n",
       "  </thead>\n",
       "  <tbody>\n",
       "    <tr>\n",
       "      <th>0</th>\n",
       "      <td>[chill, extrovert]</td>\n",
       "    </tr>\n",
       "    <tr>\n",
       "      <th>1</th>\n",
       "      <td>[neutral, introvert]</td>\n",
       "    </tr>\n",
       "    <tr>\n",
       "      <th>2</th>\n",
       "      <td>[chill, introvert]</td>\n",
       "    </tr>\n",
       "    <tr>\n",
       "      <th>3</th>\n",
       "      <td>[neutral, extrovert]</td>\n",
       "    </tr>\n",
       "  </tbody>\n",
       "</table>\n",
       "</div>"
      ],
      "text/plain": [
       "                  items\n",
       "0    [chill, extrovert]\n",
       "1  [neutral, introvert]\n",
       "2    [chill, introvert]\n",
       "3  [neutral, extrovert]"
      ]
     },
     "execution_count": 10,
     "metadata": {},
     "output_type": "execute_result"
    }
   ],
   "source": [
    "p_types = df.withColumn(\n",
    "    \"vert\",\n",
    "    expr(\n",
    "        \"CASE WHEN EXT1 in('4','5') or EXT5 in('4','5') or EXT7 in('4','5') or EXT9 in('4','5') THEN 'extrovert'\"\n",
    "        \"WHEN EXT1 in('1','2') or EXT5 in('1','2') or EXT7 in('1','2') or EXT9 in('1','2') THEN 'introvert'\"\n",
    "        \"ELSE 'neutrovert' END AS vert\"\n",
    "    ),\n",
    ")\n",
    "p_types = p_types.withColumn(\n",
    "    \"mood\",\n",
    "    expr(\n",
    "        \"CASE WHEN EST2 in('4','5') THEN 'chill'\"\n",
    "        \"WHEN EST2 in('1','2') THEN 'highstrung'\"\n",
    "        \"ELSE 'neutral' END AS mood\"\n",
    "    ),\n",
    ")\n",
    "\n",
    "p_types = p_types.select(array(\"mood\", \"vert\").alias(\"items\"))\n",
    "p_types.limit(4).toPandas()"
   ]
  },
  {
   "cell_type": "markdown",
   "metadata": {},
   "source": [
    "**Fit the model**"
   ]
  },
  {
   "cell_type": "code",
   "execution_count": 13,
   "metadata": {},
   "outputs": [
    {
     "name": "stderr",
     "output_type": "stream",
     "text": [
      "                                                                                \r"
     ]
    }
   ],
   "source": [
    "fpGrowth = FPGrowth(itemsCol=\"items\", minSupport=0.3, minConfidence=0.1)\n",
    "model = fpGrowth.fit(p_types)"
   ]
  },
  {
   "cell_type": "markdown",
   "metadata": {},
   "source": [
    "## Determine item popularity\n",
    "\n",
    "See what combos were most popular"
   ]
  },
  {
   "cell_type": "code",
   "execution_count": 18,
   "metadata": {},
   "outputs": [
    {
     "name": "stdout",
     "output_type": "stream",
     "text": [
      "Top 20\n"
     ]
    },
    {
     "data": {
      "text/html": [
       "<div>\n",
       "<style scoped>\n",
       "    .dataframe tbody tr th:only-of-type {\n",
       "        vertical-align: middle;\n",
       "    }\n",
       "\n",
       "    .dataframe tbody tr th {\n",
       "        vertical-align: top;\n",
       "    }\n",
       "\n",
       "    .dataframe thead th {\n",
       "        text-align: right;\n",
       "    }\n",
       "</style>\n",
       "<table border=\"1\" class=\"dataframe\">\n",
       "  <thead>\n",
       "    <tr style=\"text-align: right;\">\n",
       "      <th></th>\n",
       "      <th>items</th>\n",
       "      <th>freq</th>\n",
       "    </tr>\n",
       "  </thead>\n",
       "  <tbody>\n",
       "    <tr>\n",
       "      <th>0</th>\n",
       "      <td>[extrovert]</td>\n",
       "      <td>673480</td>\n",
       "    </tr>\n",
       "    <tr>\n",
       "      <th>1</th>\n",
       "      <td>[chill]</td>\n",
       "      <td>435011</td>\n",
       "    </tr>\n",
       "    <tr>\n",
       "      <th>2</th>\n",
       "      <td>[introvert]</td>\n",
       "      <td>323170</td>\n",
       "    </tr>\n",
       "    <tr>\n",
       "      <th>3</th>\n",
       "      <td>[chill, extrovert]</td>\n",
       "      <td>314840</td>\n",
       "    </tr>\n",
       "    <tr>\n",
       "      <th>4</th>\n",
       "      <td>[highstrung]</td>\n",
       "      <td>306443</td>\n",
       "    </tr>\n",
       "  </tbody>\n",
       "</table>\n",
       "</div>"
      ],
      "text/plain": [
       "                items    freq\n",
       "0         [extrovert]  673480\n",
       "1             [chill]  435011\n",
       "2         [introvert]  323170\n",
       "3  [chill, extrovert]  314840\n",
       "4        [highstrung]  306443"
      ]
     },
     "execution_count": 18,
     "metadata": {},
     "output_type": "execute_result"
    }
   ],
   "source": [
    "itempopularity = model.freqItemsets\n",
    "itempopularity.createOrReplaceTempView(\"itempopularity\")\n",
    "# Then Query the temp view\n",
    "print(\"Top 20\")\n",
    "spark.sql(\"SELECT * FROM itempopularity ORDER BY freq desc\").limit(20).toPandas()"
   ]
  },
  {
   "cell_type": "code",
   "execution_count": 17,
   "metadata": {},
   "outputs": [
    {
     "data": {
      "text/html": [
       "<div>\n",
       "<style scoped>\n",
       "    .dataframe tbody tr th:only-of-type {\n",
       "        vertical-align: middle;\n",
       "    }\n",
       "\n",
       "    .dataframe tbody tr th {\n",
       "        vertical-align: top;\n",
       "    }\n",
       "\n",
       "    .dataframe thead th {\n",
       "        text-align: right;\n",
       "    }\n",
       "</style>\n",
       "<table border=\"1\" class=\"dataframe\">\n",
       "  <thead>\n",
       "    <tr style=\"text-align: right;\">\n",
       "      <th></th>\n",
       "      <th>items</th>\n",
       "      <th>freq</th>\n",
       "    </tr>\n",
       "  </thead>\n",
       "  <tbody>\n",
       "    <tr>\n",
       "      <th>0</th>\n",
       "      <td>[extrovert]</td>\n",
       "      <td>673480</td>\n",
       "    </tr>\n",
       "    <tr>\n",
       "      <th>1</th>\n",
       "      <td>[chill]</td>\n",
       "      <td>435011</td>\n",
       "    </tr>\n",
       "    <tr>\n",
       "      <th>2</th>\n",
       "      <td>[chill, extrovert]</td>\n",
       "      <td>314840</td>\n",
       "    </tr>\n",
       "    <tr>\n",
       "      <th>3</th>\n",
       "      <td>[introvert]</td>\n",
       "      <td>323170</td>\n",
       "    </tr>\n",
       "    <tr>\n",
       "      <th>4</th>\n",
       "      <td>[highstrung]</td>\n",
       "      <td>306443</td>\n",
       "    </tr>\n",
       "  </tbody>\n",
       "</table>\n",
       "</div>"
      ],
      "text/plain": [
       "                items    freq\n",
       "0         [extrovert]  673480\n",
       "1             [chill]  435011\n",
       "2  [chill, extrovert]  314840\n",
       "3         [introvert]  323170\n",
       "4        [highstrung]  306443"
      ]
     },
     "execution_count": 17,
     "metadata": {},
     "output_type": "execute_result"
    }
   ],
   "source": [
    "itempopularity.limit(5).toPandas()"
   ]
  },
  {
   "cell_type": "markdown",
   "metadata": {},
   "source": [
    "## Review Association Rules\n",
    "\n",
    "In addition to freqItemSets, the FP-growth model also generates **associationRules**. For example, if a shopper purchases peanut butter, what is the probability (or confidence) that they will also purchase jelly.  For more information, a good reference is Susan Li’s *A Gentle Introduction on Market Basket Analysis — Association Rules*\n",
    "\n",
    "A good way to think about association rules is that model determines that if you purchased something (i.e. the antecedent), then you will purchase this other thing (i.e. the consequent) with the following confidence.\n",
    "\n",
    "**Source:** https://databricks.com/blog/2018/09/18/simplify-market-basket-analysis-using-fp-growth-on-databricks.html"
   ]
  },
  {
   "cell_type": "code",
   "execution_count": 19,
   "metadata": {},
   "outputs": [
    {
     "name": "stdout",
     "output_type": "stream",
     "text": [
      "Top 20\n"
     ]
    },
    {
     "data": {
      "text/html": [
       "<div>\n",
       "<style scoped>\n",
       "    .dataframe tbody tr th:only-of-type {\n",
       "        vertical-align: middle;\n",
       "    }\n",
       "\n",
       "    .dataframe tbody tr th {\n",
       "        vertical-align: top;\n",
       "    }\n",
       "\n",
       "    .dataframe thead th {\n",
       "        text-align: right;\n",
       "    }\n",
       "</style>\n",
       "<table border=\"1\" class=\"dataframe\">\n",
       "  <thead>\n",
       "    <tr style=\"text-align: right;\">\n",
       "      <th></th>\n",
       "      <th>antecedent</th>\n",
       "      <th>consequent</th>\n",
       "      <th>confidence</th>\n",
       "      <th>lift</th>\n",
       "      <th>support</th>\n",
       "    </tr>\n",
       "  </thead>\n",
       "  <tbody>\n",
       "    <tr>\n",
       "      <th>0</th>\n",
       "      <td>[chill]</td>\n",
       "      <td>[extrovert]</td>\n",
       "      <td>0.723752</td>\n",
       "      <td>1.091131</td>\n",
       "      <td>0.310083</td>\n",
       "    </tr>\n",
       "    <tr>\n",
       "      <th>1</th>\n",
       "      <td>[extrovert]</td>\n",
       "      <td>[chill]</td>\n",
       "      <td>0.467482</td>\n",
       "      <td>1.091131</td>\n",
       "      <td>0.310083</td>\n",
       "    </tr>\n",
       "  </tbody>\n",
       "</table>\n",
       "</div>"
      ],
      "text/plain": [
       "    antecedent   consequent  confidence      lift   support\n",
       "0      [chill]  [extrovert]    0.723752  1.091131  0.310083\n",
       "1  [extrovert]      [chill]    0.467482  1.091131  0.310083"
      ]
     },
     "execution_count": 19,
     "metadata": {},
     "output_type": "execute_result"
    }
   ],
   "source": [
    "# Display generated association rules.\n",
    "assoc = model.associationRules\n",
    "assoc.createOrReplaceTempView(\"assoc\")\n",
    "# Then Query the temp view\n",
    "print(\"Top 20\")\n",
    "spark.sql(\"SELECT * FROM assoc ORDER BY confidence desc\").limit(20).toPandas()"
   ]
  },
  {
   "cell_type": "markdown",
   "metadata": {},
   "source": [
    "## Predict the consequent on your dataframe\n",
    "\n",
    "You can also transform your original dataframe, or any for that matter, to try to predict the consequent. This is super useful if you want to try to recommend an additional product to a shopper based on what they currently have in their cart. "
   ]
  },
  {
   "cell_type": "code",
   "execution_count": 20,
   "metadata": {},
   "outputs": [
    {
     "data": {
      "text/html": [
       "<div>\n",
       "<style scoped>\n",
       "    .dataframe tbody tr th:only-of-type {\n",
       "        vertical-align: middle;\n",
       "    }\n",
       "\n",
       "    .dataframe tbody tr th {\n",
       "        vertical-align: top;\n",
       "    }\n",
       "\n",
       "    .dataframe thead th {\n",
       "        text-align: right;\n",
       "    }\n",
       "</style>\n",
       "<table border=\"1\" class=\"dataframe\">\n",
       "  <thead>\n",
       "    <tr style=\"text-align: right;\">\n",
       "      <th></th>\n",
       "      <th>items</th>\n",
       "      <th>prediction</th>\n",
       "    </tr>\n",
       "  </thead>\n",
       "  <tbody>\n",
       "    <tr>\n",
       "      <th>0</th>\n",
       "      <td>[chill, extrovert]</td>\n",
       "      <td>[]</td>\n",
       "    </tr>\n",
       "    <tr>\n",
       "      <th>1</th>\n",
       "      <td>[neutral, introvert]</td>\n",
       "      <td>[]</td>\n",
       "    </tr>\n",
       "    <tr>\n",
       "      <th>2</th>\n",
       "      <td>[chill, introvert]</td>\n",
       "      <td>[extrovert]</td>\n",
       "    </tr>\n",
       "    <tr>\n",
       "      <th>3</th>\n",
       "      <td>[neutral, extrovert]</td>\n",
       "      <td>[chill]</td>\n",
       "    </tr>\n",
       "    <tr>\n",
       "      <th>4</th>\n",
       "      <td>[chill, extrovert]</td>\n",
       "      <td>[]</td>\n",
       "    </tr>\n",
       "    <tr>\n",
       "      <th>5</th>\n",
       "      <td>[chill, extrovert]</td>\n",
       "      <td>[]</td>\n",
       "    </tr>\n",
       "    <tr>\n",
       "      <th>6</th>\n",
       "      <td>[chill, extrovert]</td>\n",
       "      <td>[]</td>\n",
       "    </tr>\n",
       "    <tr>\n",
       "      <th>7</th>\n",
       "      <td>[chill, extrovert]</td>\n",
       "      <td>[]</td>\n",
       "    </tr>\n",
       "    <tr>\n",
       "      <th>8</th>\n",
       "      <td>[chill, extrovert]</td>\n",
       "      <td>[]</td>\n",
       "    </tr>\n",
       "    <tr>\n",
       "      <th>9</th>\n",
       "      <td>[neutral, extrovert]</td>\n",
       "      <td>[chill]</td>\n",
       "    </tr>\n",
       "    <tr>\n",
       "      <th>10</th>\n",
       "      <td>[neutral, extrovert]</td>\n",
       "      <td>[chill]</td>\n",
       "    </tr>\n",
       "    <tr>\n",
       "      <th>11</th>\n",
       "      <td>[highstrung, extrovert]</td>\n",
       "      <td>[chill]</td>\n",
       "    </tr>\n",
       "    <tr>\n",
       "      <th>12</th>\n",
       "      <td>[chill, extrovert]</td>\n",
       "      <td>[]</td>\n",
       "    </tr>\n",
       "    <tr>\n",
       "      <th>13</th>\n",
       "      <td>[highstrung, introvert]</td>\n",
       "      <td>[]</td>\n",
       "    </tr>\n",
       "    <tr>\n",
       "      <th>14</th>\n",
       "      <td>[neutral, introvert]</td>\n",
       "      <td>[]</td>\n",
       "    </tr>\n",
       "  </tbody>\n",
       "</table>\n",
       "</div>"
      ],
      "text/plain": [
       "                      items   prediction\n",
       "0        [chill, extrovert]           []\n",
       "1      [neutral, introvert]           []\n",
       "2        [chill, introvert]  [extrovert]\n",
       "3      [neutral, extrovert]      [chill]\n",
       "4        [chill, extrovert]           []\n",
       "5        [chill, extrovert]           []\n",
       "6        [chill, extrovert]           []\n",
       "7        [chill, extrovert]           []\n",
       "8        [chill, extrovert]           []\n",
       "9      [neutral, extrovert]      [chill]\n",
       "10     [neutral, extrovert]      [chill]\n",
       "11  [highstrung, extrovert]      [chill]\n",
       "12       [chill, extrovert]           []\n",
       "13  [highstrung, introvert]           []\n",
       "14     [neutral, introvert]           []"
      ]
     },
     "execution_count": 20,
     "metadata": {},
     "output_type": "execute_result"
    }
   ],
   "source": [
    "# transform examines the input items against all the association rules and summarize the\n",
    "# consequents as prediction\n",
    "predict = model.transform(p_types)\n",
    "predict.limit(15).toPandas()"
   ]
  },
  {
   "cell_type": "markdown",
   "metadata": {},
   "source": [
    "### Take away\n",
    "\n",
    "Great start! We would obviously want to expand our analysis to encompass all of the variables in the dataset but I hope you understand the logic here. We could use this analysis to do any of the following:\n",
    "\n",
    " - These results could be used group together teams that need to be well rounded like half extroverts and half introverts, or the converse if you want to group people by their personality like say sales people need to extroverts. \n",
    " - You could create an application that would ask respondents to answers these same questions and then provide an output that would be your diagnosis of their personality type and perhaps even provide advice based on that finding. For example, types of jobs they would be well suited for or relationship advice."
   ]
  },
  {
   "cell_type": "markdown",
   "metadata": {},
   "source": [
    "## Now try to find patterns where the order DOES matter \n",
    "\n",
    "*Using the prefixspan model*\n",
    "\n",
    "If you examine the EXT statements closely, you will realize that every odd numbered variable is an extrovert statement (ie. EXT1, EXT3, EXT5, etc.) and every even numbered variable is an introvert statement (i.e. EXT2, EXT4,EXT6, etc.). Furthermore, each of the EXT statements can be paired with it's alternate (ie. EXT1 and EXT2), which are converse to each other. So in theory, a person who answers 5 to EXT1, would chose 1 for EXT2 or something similar. \n",
    "\n",
    " - EXT1\tI am the life of the party.\n",
    " - EXT2\tI don't talk a lot.\n",
    " - EXT3\tI feel comfortable around people.\n",
    " - EXT4\tI keep in the background.\n",
    " - EXT5\tI start conversations.\n",
    " - EXT6\tI have little to say.\n",
    " - EXT7\tI talk to a lot of different people at parties.\n",
    " - EXT8\tI don't like to draw attention to myself.\n",
    " - EXT9\tI don't mind being the center of attention.\n",
    " - EXT10\tI am quiet around strangers.\n",
    " \n",
    "\n",
    "So a person who answers [5,1] to all the paired EXT questions would be an extreme extrovert and someone who answers [1,5] to all the paired EXT questions, would be an extreme introvert, and everyone else would be some other variation of this. "
   ]
  },
  {
   "cell_type": "code",
   "execution_count": 21,
   "metadata": {},
   "outputs": [
    {
     "name": "stdout",
     "output_type": "stream",
     "text": [
      "+----------------------------------------+\n",
      "|sequence                                |\n",
      "+----------------------------------------+\n",
      "|[[4, 1], [5, 2], [5, 1], [5, 2], [4, 1]]|\n",
      "|[[3, 5], [3, 4], [3, 3], [2, 5], [1, 5]]|\n",
      "|[[2, 3], [4, 4], [3, 2], [1, 3], [2, 5]]|\n",
      "|[[2, 2], [2, 3], [4, 2], [2, 4], [1, 4]]|\n",
      "|[[3, 3], [3, 3], [5, 3], [3, 5], [3, 4]]|\n",
      "|[[3, 3], [4, 2], [4, 2], [2, 3], [3, 4]]|\n",
      "|[[4, 3], [4, 3], [3, 3], [5, 3], [4, 3]]|\n",
      "|[[3, 1], [5, 2], [5, 2], [5, 2], [3, 2]]|\n",
      "|[[2, 2], [3, 3], [4, 2], [2, 2], [4, 4]]|\n",
      "|[[1, 5], [3, 5], [2, 3], [2, 4], [5, 4]]|\n",
      "|[[3, 3], [2, 3], [3, 2], [4, 3], [3, 5]]|\n",
      "|[[3, 1], [5, 3], [5, 1], [5, 5], [5, 3]]|\n",
      "|[[4, 1], [5, 4], [5, 1], [4, 1], [5, 2]]|\n",
      "|[[1, 5], [1, 5], [1, 5], [1, 5], [1, 5]]|\n",
      "|[[1, 5], [2, 5], [1, 4], [1, 2], [2, 5]]|\n",
      "|[[2, 1], [3, 4], [4, 3], [5, 3], [3, 5]]|\n",
      "|[[1, 4], [2, 4], [2, 3], [2, 4], [2, 4]]|\n",
      "|[[4, 1], [5, 2], [4, 2], [3, 2], [4, 2]]|\n",
      "|[[4, 2], [5, 3], [4, 4], [5, 2], [5, 2]]|\n",
      "|[[5, 1], [5, 2], [5, 1], [5, 3], [5, 4]]|\n",
      "+----------------------------------------+\n",
      "only showing top 20 rows\n",
      "\n"
     ]
    }
   ],
   "source": [
    "df_array = df.select(\n",
    "    array(\n",
    "        array(\"EXT1\", \"EXT2\"),\n",
    "        array(\"EXT3\", \"EXT4\"),\n",
    "        array(\"EXT5\", \"EXT6\"),\n",
    "        array(\"EXT7\", \"EXT8\"),\n",
    "        array(\"EXT9\", \"EXT10\"),\n",
    "    ).alias(\"sequence\")\n",
    ")\n",
    "df_array.show(truncate=False)"
   ]
  },
  {
   "cell_type": "markdown",
   "metadata": {},
   "source": [
    "#### Apply the PrefixSpan algorithm\n",
    "\n",
    "and find the frequent patterns"
   ]
  },
  {
   "cell_type": "code",
   "execution_count": 22,
   "metadata": {},
   "outputs": [
    {
     "name": "stdout",
     "output_type": "stream",
     "text": [
      "22/10/13 22:54:48 WARN PrefixSpan: Input data is not cached.\n"
     ]
    },
    {
     "name": "stderr",
     "output_type": "stream",
     "text": [
      "[Stage 52:>                                                         (0 + 1) / 1]\r"
     ]
    },
    {
     "name": "stdout",
     "output_type": "stream",
     "text": [
      "+----------+------+\n",
      "|  sequence|  freq|\n",
      "+----------+------+\n",
      "|     [[1]]|688392|\n",
      "|     [[5]]|714614|\n",
      "|     [[2]]|857365|\n",
      "|     [[3]]|811456|\n",
      "|     [[4]]|869495|\n",
      "|[[1], [4]]|451389|\n",
      "|[[1], [2]]|451373|\n",
      "|[[1], [3]]|386571|\n",
      "|[[1], [5]]|493284|\n",
      "|[[1], [1]]|435008|\n",
      "+----------+------+\n",
      "only showing top 10 rows\n",
      "\n"
     ]
    },
    {
     "name": "stderr",
     "output_type": "stream",
     "text": [
      "\r",
      "                                                                                \r"
     ]
    }
   ],
   "source": [
    "prefixSpan = PrefixSpan(minSupport=0.3, maxPatternLength=10)\n",
    "\n",
    "# Find frequent sequential patterns.\n",
    "sequence = prefixSpan.findFrequentSequentialPatterns(df_array)\n",
    "sequence.show(10)"
   ]
  },
  {
   "cell_type": "markdown",
   "metadata": {},
   "source": [
    "From the above output, we can see that it's finding patterns of even the single occurance arrays which is not super helpful. We can filter on the size of entire sequence like this if we want...."
   ]
  },
  {
   "cell_type": "code",
   "execution_count": 24,
   "metadata": {},
   "outputs": [
    {
     "name": "stderr",
     "output_type": "stream",
     "text": [
      "[Stage 56:===========================================>              (3 + 1) / 4]\r"
     ]
    },
    {
     "name": "stdout",
     "output_type": "stream",
     "text": [
      "+---------------+------+\n",
      "|       sequence|  freq|\n",
      "+---------------+------+\n",
      "|     [[1], [4]]|451389|\n",
      "|     [[1], [2]]|451373|\n",
      "|     [[1], [3]]|386571|\n",
      "|     [[1], [5]]|493284|\n",
      "|     [[1], [1]]|435008|\n",
      "|     [[5], [4]]|369997|\n",
      "|     [[5], [2]]|371961|\n",
      "|     [[5], [3]]|315709|\n",
      "|     [[5], [5]]|453373|\n",
      "|     [[5], [1]]|372017|\n",
      "|     [[2], [4]]|640768|\n",
      "|  [[2], [4, 2]]|341779|\n",
      "|[[2], [4], [4]]|378550|\n",
      "|[[2], [4], [2]]|354996|\n",
      "|     [[2], [2]]|619741|\n",
      "|[[2], [2], [4]]|371093|\n",
      "|[[2], [2], [2]]|340745|\n",
      "|     [[2], [3]]|535357|\n",
      "|[[2], [3], [4]]|312056|\n",
      "|     [[2], [5]]|491046|\n",
      "+---------------+------+\n",
      "only showing top 20 rows\n",
      "\n"
     ]
    },
    {
     "name": "stderr",
     "output_type": "stream",
     "text": [
      "\r",
      "                                                                                \r"
     ]
    }
   ],
   "source": [
    "sequence.where(size(col(\"sequence\")) > 1).show()"
   ]
  },
  {
   "cell_type": "markdown",
   "metadata": {},
   "source": [
    "But that's not super helpful either. What we need to do is find the size (formerly known as length in python), of each array within the sequence array and filter on that.\n",
    "\n",
    "like this..."
   ]
  },
  {
   "cell_type": "code",
   "execution_count": 26,
   "metadata": {},
   "outputs": [
    {
     "name": "stderr",
     "output_type": "stream",
     "text": [
      "[Stage 65:===========================================>              (3 + 1) / 4]\r"
     ]
    },
    {
     "name": "stdout",
     "output_type": "stream",
     "text": [
      "+-------------+------+------+----------+\n",
      "|     sequence|  freq|  size|percentage|\n",
      "+-------------+------+------+----------+\n",
      "|     [[5, 1]]|356214|   [2]|     35.08|\n",
      "|     [[2, 5]]|324431|   [2]|     31.95|\n",
      "|     [[2, 3]]|369402|   [2]|     36.38|\n",
      "|[[2], [4, 2]]|341779|[1, 2]|     33.66|\n",
      "|[[3], [4, 2]]|306263|[1, 2]|     30.16|\n",
      "|     [[4, 1]]|326818|   [2]|     32.19|\n",
      "|     [[4, 3]]|407520|   [2]|     40.14|\n",
      "|     [[4, 2]]|500865|   [2]|     49.33|\n",
      "|[[4, 2], [4]]|356858|[2, 1]|     35.15|\n",
      "|[[4, 2], [2]]|334139|[2, 1]|     32.91|\n",
      "|[[4], [4, 2]]|348053|[1, 2]|     34.28|\n",
      "+-------------+------+------+----------+\n",
      "\n"
     ]
    },
    {
     "name": "stderr",
     "output_type": "stream",
     "text": [
      "\r",
      "                                                                                \r"
     ]
    }
   ],
   "source": [
    "# get the size of each array within the arrays\n",
    "filtered = sequence.withColumn(\"size\", expr(\"transform(sequence, x -> size(x))\"))\n",
    "# sequence.withColumn(\"length\",size(col(\"sequence\")))\n",
    "\n",
    "# Let's also add a column that tells us the percentage of the sequences\n",
    "row_cnt = df_array.count()\n",
    "filtered = filtered.withColumn(\"percentage\", round((col(\"freq\") / row_cnt) * 100, 2))\n",
    "# Then filter out only the ones with more than 2 elements\n",
    "filtered = filtered.where(array_contains(filtered[\"size\"], 2))\n",
    "filtered.show()"
   ]
  },
  {
   "cell_type": "code",
   "execution_count": 28,
   "metadata": {},
   "outputs": [
    {
     "name": "stderr",
     "output_type": "stream",
     "text": [
      "[Stage 75:===========================================>              (3 + 1) / 4]\r"
     ]
    },
    {
     "name": "stdout",
     "output_type": "stream",
     "text": [
      "+-------------+------+------+----------+\n",
      "|     sequence|  freq|  size|percentage|\n",
      "+-------------+------+------+----------+\n",
      "|     [[5, 1]]|356214|   [2]|     35.08|\n",
      "|     [[2, 5]]|324431|   [2]|     31.95|\n",
      "|     [[2, 3]]|369402|   [2]|     36.38|\n",
      "|[[2], [4, 2]]|341779|[1, 2]|     33.66|\n",
      "|[[3], [4, 2]]|306263|[1, 2]|     30.16|\n",
      "|     [[4, 1]]|326818|   [2]|     32.19|\n",
      "|     [[4, 3]]|407520|   [2]|     40.14|\n",
      "|     [[4, 2]]|500865|   [2]|     49.33|\n",
      "|[[4, 2], [4]]|356858|[2, 1]|     35.15|\n",
      "|[[4, 2], [2]]|334139|[2, 1]|     32.91|\n",
      "+-------------+------+------+----------+\n",
      "only showing top 10 rows\n",
      "\n"
     ]
    },
    {
     "name": "stderr",
     "output_type": "stream",
     "text": [
      "\r",
      "                                                                                \r"
     ]
    }
   ],
   "source": [
    "filtered.show(10)"
   ]
  },
  {
   "cell_type": "markdown",
   "metadata": {},
   "source": [
    "### Take away\n",
    "\n",
    "Now we can see that ~35% of respondents answered at least once in the \"extreme extrovert\" category within the EXT questions, and we didn't have ANY respondents who answered even once in the \"extreme introvert\" category. That's interesting. I guess can assume that this crowd would have fun at a social gathering at least :) "
   ]
  }
 ],
 "metadata": {
  "kernelspec": {
   "display_name": "Python 3 (ipykernel)",
   "language": "python",
   "name": "python3"
  },
  "language_info": {
   "codemirror_mode": {
    "name": "ipython",
    "version": 3
   },
   "file_extension": ".py",
   "mimetype": "text/x-python",
   "name": "python",
   "nbconvert_exporter": "python",
   "pygments_lexer": "ipython3",
   "version": "3.7.10"
  }
 },
 "nbformat": 4,
 "nbformat_minor": 2
}
