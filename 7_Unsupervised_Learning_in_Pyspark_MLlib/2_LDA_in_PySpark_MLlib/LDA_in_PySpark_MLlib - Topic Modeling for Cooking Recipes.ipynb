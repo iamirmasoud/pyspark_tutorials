{
 "cells": [
  {
   "cell_type": "markdown",
   "metadata": {},
   "source": [
    "# LDA in PySparks MLlib\n",
    "\n",
    "**Linear Discriminant Analysis**, otherwise known as *Topic Modeling*, is an unsupervised machine learning method for discovering topics by reducing dimension space. This method is very popular with Natural Language Processing (NLP) where the intent of the analysis is to discover themes or tags in a dataset that contains natural written language like tweets, news paper articles or even recipes! \n",
    "\n",
    "Today we will be analyzing a collection of christmas cooking recipes scraped from BBC Good Food. Let's see if we can try to discover some additional themes amongst these recipes imagining that we want to create our own website that provides a more intelligent tagging system to recipes that are pulled from multiple data sources.\n",
    "\n",
    "**Approach** <br>\n",
    "There are several ways to tackle Topic Modeling out there today so I thought I would spend today introducing you to one of the most popular and traditional approaches just get you comfortable with the concept. The coding leading up to where we pass our data into the LDA algorithm will look much like what we covered in the NLP series where we first cleaned our data, then tokenize the data, remove stopwords, and then create a count vector. Then the next step of our analysis will start to look more like the approach we took in the k-means lecture where we will need to find the \"optimal k\" which in this case we can think of more lore like topics instead of clusters. Then the fun part starts where we can see that kinds of topics our model came up with!\n",
    "\n",
    "So let's dig in and see what it finds!"
   ]
  },
  {
   "cell_type": "code",
   "execution_count": 1,
   "metadata": {},
   "outputs": [
    {
     "name": "stdout",
     "output_type": "stream",
     "text": [
      "22/10/13 02:08:10 WARN Utils: Your hostname, masoud-ubuntu resolves to a loopback address: 127.0.1.1; using 192.168.7.139 instead (on interface wlp2s0)\n",
      "22/10/13 02:08:10 WARN Utils: Set SPARK_LOCAL_IP if you need to bind to another address\n"
     ]
    },
    {
     "name": "stderr",
     "output_type": "stream",
     "text": [
      "Setting default log level to \"WARN\".\n",
      "To adjust logging level use sc.setLogLevel(newLevel). For SparkR, use setLogLevel(newLevel).\n"
     ]
    },
    {
     "name": "stdout",
     "output_type": "stream",
     "text": [
      "22/10/13 02:08:11 WARN NativeCodeLoader: Unable to load native-hadoop library for your platform... using builtin-java classes where applicable\n",
      "22/10/13 02:08:12 WARN Utils: Service 'SparkUI' could not bind on port 4040. Attempting port 4041.\n",
      "You are working with 1 core(s) on appid:  local-1665614292731\n"
     ]
    },
    {
     "data": {
      "text/html": [
       "\n",
       "            <div>\n",
       "                <p><b>SparkSession - in-memory</b></p>\n",
       "                \n",
       "        <div>\n",
       "            <p><b>SparkContext</b></p>\n",
       "\n",
       "            <p><a href=\"http://192.168.7.139:4041\">Spark UI</a></p>\n",
       "\n",
       "            <dl>\n",
       "              <dt>Version</dt>\n",
       "                <dd><code>v3.3.0</code></dd>\n",
       "              <dt>Master</dt>\n",
       "                <dd><code>local[*]</code></dd>\n",
       "              <dt>AppName</dt>\n",
       "                <dd><code>LDA</code></dd>\n",
       "            </dl>\n",
       "        </div>\n",
       "        \n",
       "            </div>\n",
       "        "
      ],
      "text/plain": [
       "<pyspark.sql.session.SparkSession at 0x7fc8aeb01bd0>"
      ]
     },
     "execution_count": 1,
     "metadata": {},
     "output_type": "execute_result"
    }
   ],
   "source": [
    "# First let's create our PySpark instance\n",
    "# import findspark\n",
    "# findspark.init()\n",
    "\n",
    "import pyspark  # only run after findspark.init()\n",
    "from pyspark.sql import SparkSession\n",
    "\n",
    "# May take awhile locally\n",
    "spark = SparkSession.builder.appName(\"LDA\").getOrCreate()\n",
    "\n",
    "cores = spark._jsc.sc().getExecutorMemoryStatus().keySet().size()\n",
    "appid = spark._jsc.sc().applicationId()\n",
    "print(\"You are working with\", cores, \"core(s) on appid: \", appid)\n",
    "spark"
   ]
  },
  {
   "cell_type": "code",
   "execution_count": 2,
   "metadata": {},
   "outputs": [],
   "source": [
    "# Read in dependencies\n",
    "# import string\n",
    "from pyspark.sql.types import IntegerType, StringType, FloatType, DoubleType, ArrayType\n",
    "from pyspark.ml.feature import (\n",
    "    MinMaxScaler,\n",
    "    RegexTokenizer,\n",
    "    StopWordsRemover,\n",
    "    CountVectorizer,\n",
    "    Word2Vec,\n",
    ")\n",
    "from pyspark.ml.clustering import LDA\n",
    "from pyspark.sql.functions import (\n",
    "    col,\n",
    "    avg,\n",
    "    min,\n",
    "    lower,\n",
    "    regexp_replace,\n",
    "    udf,\n",
    "    array_max,\n",
    ")\n",
    "import matplotlib.pyplot as plt\n",
    "from mpl_toolkits.mplot3d import Axes3D\n",
    "import numpy as np\n",
    "\n",
    "# For pipeline development in case you need it (but we won't use it here)\n",
    "from pyspark.ml import Pipeline"
   ]
  },
  {
   "cell_type": "markdown",
   "metadata": {},
   "source": [
    "## Dataset\n",
    "\n",
    "This JSON lines file contains 1600 christmas cooking recipes scraped from BBC Good Food.\n",
    "\n",
    "### Content\n",
    "\n",
    " - Recipe Title\n",
    " - Recipe Description (we are going to focus on this variable for our analysis)\n",
    " - Recipe Author\n",
    " - Ingredients list\n",
    " - Step by step method\n",
    "\n",
    "**Source:** https://www.yanlong.app/gjbroughton/christmas-recipes\n",
    "\n",
    "\n",
    "\n",
    "**Read in the data**"
   ]
  },
  {
   "cell_type": "code",
   "execution_count": 3,
   "metadata": {},
   "outputs": [
    {
     "name": "stderr",
     "output_type": "stream",
     "text": [
      "\r",
      "[Stage 0:>                                                          (0 + 1) / 1]\r",
      "\r",
      "                                                                                \r"
     ]
    }
   ],
   "source": [
    "path = \"Datasets/\"\n",
    "df = spark.read.json(path + \"recipes.json\")"
   ]
  },
  {
   "cell_type": "markdown",
   "metadata": {},
   "source": [
    "**View data as always**"
   ]
  },
  {
   "cell_type": "code",
   "execution_count": 4,
   "metadata": {},
   "outputs": [
    {
     "data": {
      "text/html": [
       "<div>\n",
       "<style scoped>\n",
       "    .dataframe tbody tr th:only-of-type {\n",
       "        vertical-align: middle;\n",
       "    }\n",
       "\n",
       "    .dataframe tbody tr th {\n",
       "        vertical-align: top;\n",
       "    }\n",
       "\n",
       "    .dataframe thead th {\n",
       "        text-align: right;\n",
       "    }\n",
       "</style>\n",
       "<table border=\"1\" class=\"dataframe\">\n",
       "  <thead>\n",
       "    <tr style=\"text-align: right;\">\n",
       "      <th></th>\n",
       "      <th>Author</th>\n",
       "      <th>Description</th>\n",
       "      <th>Ingredients</th>\n",
       "      <th>Method</th>\n",
       "      <th>Name</th>\n",
       "      <th>url</th>\n",
       "    </tr>\n",
       "  </thead>\n",
       "  <tbody>\n",
       "    <tr>\n",
       "      <th>0</th>\n",
       "      <td>Mary Cadogan</td>\n",
       "      <td>Combine a few key Christmas flavours here to m...</td>\n",
       "      <td>[2 tbsp olive oil, knob butter, 1 onion, finel...</td>\n",
       "      <td>[Heat oven to 190C/fan 170C/gas 5. Heat 1 tbsp...</td>\n",
       "      <td>Christmas pie</td>\n",
       "      <td>https://www.bbcgoodfood.com/recipes/2793/chris...</td>\n",
       "    </tr>\n",
       "    <tr>\n",
       "      <th>1</th>\n",
       "      <td>Mary Cadogan</td>\n",
       "      <td>An easy-to-make alternative to traditional Chr...</td>\n",
       "      <td>[175g butter, chopped, 200g dark muscovado sug...</td>\n",
       "      <td>[Put the butter, sugar, fruit, zests, juice an...</td>\n",
       "      <td>Simmer-&amp;-stir Christmas cake</td>\n",
       "      <td>https://www.bbcgoodfood.com/recipes/1160/simme...</td>\n",
       "    </tr>\n",
       "    <tr>\n",
       "      <th>2</th>\n",
       "      <td>Sara Buenfeld</td>\n",
       "      <td>These beautiful and classy little cakes make l...</td>\n",
       "      <td>[200g dark muscovado sugar, 175g butter, chopp...</td>\n",
       "      <td>[Tip the sugar, butter, dried fruit, whole che...</td>\n",
       "      <td>Christmas cupcakes</td>\n",
       "      <td>https://www.bbcgoodfood.com/recipes/72622/chri...</td>\n",
       "    </tr>\n",
       "    <tr>\n",
       "      <th>3</th>\n",
       "      <td>Paul Hollywood</td>\n",
       "      <td>Paul Hollywood's fruit rolls can be made ahead...</td>\n",
       "      <td>[500g strong white flour, plus extra for dusti...</td>\n",
       "      <td>[Put the flour and 1 tsp salt into a large bow...</td>\n",
       "      <td>Christmas buns</td>\n",
       "      <td>https://www.bbcgoodfood.com/recipes/1803633/ch...</td>\n",
       "    </tr>\n",
       "    <tr>\n",
       "      <th>4</th>\n",
       "      <td>Barney Desmazery</td>\n",
       "      <td>Made these for the second time today, and I ha...</td>\n",
       "      <td>[280g self-raising flour, 175g golden caster s...</td>\n",
       "      <td>[Heat oven to 190C/170 fan/gas 5 and line a 12...</td>\n",
       "      <td>Christmas cupcakes</td>\n",
       "      <td>https://www.bbcgoodfood.com/recipes/981634/chr...</td>\n",
       "    </tr>\n",
       "  </tbody>\n",
       "</table>\n",
       "</div>"
      ],
      "text/plain": [
       "             Author                                        Description  \\\n",
       "0      Mary Cadogan  Combine a few key Christmas flavours here to m...   \n",
       "1      Mary Cadogan  An easy-to-make alternative to traditional Chr...   \n",
       "2     Sara Buenfeld  These beautiful and classy little cakes make l...   \n",
       "3    Paul Hollywood  Paul Hollywood's fruit rolls can be made ahead...   \n",
       "4  Barney Desmazery  Made these for the second time today, and I ha...   \n",
       "\n",
       "                                         Ingredients  \\\n",
       "0  [2 tbsp olive oil, knob butter, 1 onion, finel...   \n",
       "1  [175g butter, chopped, 200g dark muscovado sug...   \n",
       "2  [200g dark muscovado sugar, 175g butter, chopp...   \n",
       "3  [500g strong white flour, plus extra for dusti...   \n",
       "4  [280g self-raising flour, 175g golden caster s...   \n",
       "\n",
       "                                              Method  \\\n",
       "0  [Heat oven to 190C/fan 170C/gas 5. Heat 1 tbsp...   \n",
       "1  [Put the butter, sugar, fruit, zests, juice an...   \n",
       "2  [Tip the sugar, butter, dried fruit, whole che...   \n",
       "3  [Put the flour and 1 tsp salt into a large bow...   \n",
       "4  [Heat oven to 190C/170 fan/gas 5 and line a 12...   \n",
       "\n",
       "                           Name  \\\n",
       "0                 Christmas pie   \n",
       "1  Simmer-&-stir Christmas cake   \n",
       "2            Christmas cupcakes   \n",
       "3                Christmas buns   \n",
       "4            Christmas cupcakes   \n",
       "\n",
       "                                                 url  \n",
       "0  https://www.bbcgoodfood.com/recipes/2793/chris...  \n",
       "1  https://www.bbcgoodfood.com/recipes/1160/simme...  \n",
       "2  https://www.bbcgoodfood.com/recipes/72622/chri...  \n",
       "3  https://www.bbcgoodfood.com/recipes/1803633/ch...  \n",
       "4  https://www.bbcgoodfood.com/recipes/981634/chr...  "
      ]
     },
     "execution_count": 4,
     "metadata": {},
     "output_type": "execute_result"
    }
   ],
   "source": [
    "df.limit(5).toPandas()"
   ]
  },
  {
   "cell_type": "markdown",
   "metadata": {},
   "source": [
    "**And of course the schema**"
   ]
  },
  {
   "cell_type": "code",
   "execution_count": 5,
   "metadata": {},
   "outputs": [
    {
     "name": "stdout",
     "output_type": "stream",
     "text": [
      "root\n",
      " |-- Author: string (nullable = true)\n",
      " |-- Description: string (nullable = true)\n",
      " |-- Ingredients: array (nullable = true)\n",
      " |    |-- element: string (containsNull = true)\n",
      " |-- Method: array (nullable = true)\n",
      " |    |-- element: string (containsNull = true)\n",
      " |-- Name: string (nullable = true)\n",
      " |-- url: string (nullable = true)\n",
      "\n"
     ]
    }
   ],
   "source": [
    "df.printSchema()"
   ]
  },
  {
   "cell_type": "markdown",
   "metadata": {},
   "source": [
    "## Investigate missing values"
   ]
  },
  {
   "cell_type": "code",
   "execution_count": 6,
   "metadata": {},
   "outputs": [
    {
     "name": "stderr",
     "output_type": "stream",
     "text": [
      "\r",
      "[Stage 23:>                                                         (0 + 1) / 1]\r",
      "\r",
      "                                                                                \r"
     ]
    },
    {
     "name": "stdout",
     "output_type": "stream",
     "text": [
      "+-----------+-----------------+------------------+\n",
      "|Column_Name|Null_Values_Count|Null_Value_Percent|\n",
      "+-----------+-----------------+------------------+\n",
      "|     Author|                6|0.3710575139146568|\n",
      "|Description|              188|11.626468769325912|\n",
      "+-----------+-----------------+------------------+\n",
      "\n"
     ]
    }
   ],
   "source": [
    "def null_value_calc(df):\n",
    "    null_columns_counts = []\n",
    "    numRows = df.count()\n",
    "    for k in df.columns:\n",
    "        nullRows = df.where(col(k).isNull()).count()\n",
    "        if nullRows > 0:\n",
    "            temp = k, nullRows, (nullRows / numRows) * 100\n",
    "            null_columns_counts.append(temp)\n",
    "    return null_columns_counts\n",
    "\n",
    "\n",
    "null_columns_calc_list = null_value_calc(df)\n",
    "spark.createDataFrame(\n",
    "    null_columns_calc_list, [\"Column_Name\", \"Null_Values_Count\", \"Null_Value_Percent\"]\n",
    ").show()"
   ]
  },
  {
   "cell_type": "markdown",
   "metadata": {},
   "source": [
    "## Drop missing values\n",
    "\n",
    "Since we are focusing on the description variable for our analysis today, I'm just going to drop the rows that have missing values in that column. "
   ]
  },
  {
   "cell_type": "code",
   "execution_count": 7,
   "metadata": {},
   "outputs": [
    {
     "data": {
      "text/plain": [
       "1429"
      ]
     },
     "execution_count": 7,
     "metadata": {},
     "output_type": "execute_result"
    }
   ],
   "source": [
    "# drop missing values for the sake of the example\n",
    "df = df.na.drop(subset=[\"Description\"])\n",
    "df.count()"
   ]
  },
  {
   "cell_type": "markdown",
   "metadata": {},
   "source": [
    "## Prep the data (the NLP part)\n",
    "\n",
    "This will include the following steps:\n",
    "\n",
    " - Clean text\n",
    " - Tokenize\n",
    " - Remove Stopwords\n",
    " - Create Count Vector of your words (features)\n"
   ]
  },
  {
   "cell_type": "code",
   "execution_count": 8,
   "metadata": {},
   "outputs": [
    {
     "name": "stdout",
     "output_type": "stream",
     "text": [
      "+------------------------------------------------------------------------------------------------+\n",
      "|Description                                                                                     |\n",
      "+------------------------------------------------------------------------------------------------+\n",
      "|Combine a few key Christmas flavours here to make a pie that both children and adults will adore|\n",
      "|An easy-to-make alternative to traditional Christmas cakes which requires no beating            |\n",
      "+------------------------------------------------------------------------------------------------+\n",
      "only showing top 2 rows\n",
      "\n"
     ]
    }
   ],
   "source": [
    "# Let's see a few full rows for the description column\n",
    "df.select(\"Description\").show(2, False)"
   ]
  },
  {
   "cell_type": "markdown",
   "metadata": {},
   "source": [
    "Looks like pretty standard text with punctuation, camel casing and hyphenated words. We can use a pretty simple approach for this using two of the regex replace methods we saw in the NLP lecture and the lower method which lower cases all the text. "
   ]
  },
  {
   "cell_type": "code",
   "execution_count": 9,
   "metadata": {},
   "outputs": [
    {
     "name": "stdout",
     "output_type": "stream",
     "text": [
      "+------------------------------------------------------------------------------------------------+\n",
      "|Description                                                                                     |\n",
      "+------------------------------------------------------------------------------------------------+\n",
      "|combine a few key christmas flavours here to make a pie that both children and adults will adore|\n",
      "|an easy to make alternative to traditional christmas cakes which requires no beating            |\n",
      "+------------------------------------------------------------------------------------------------+\n",
      "only showing top 2 rows\n",
      "\n"
     ]
    }
   ],
   "source": [
    "############## Clean text ##############\n",
    "\n",
    "# Removing anything that is not a letter\n",
    "df_clean = df.withColumn(\n",
    "    \"Description\", lower(regexp_replace(col(\"Description\"), \"[^A-Za-z ]+\", \" \"))\n",
    ")\n",
    "# Remove multiple spaces (because we replaced punctuation with a space)\n",
    "df_clean = df_clean.withColumn(\n",
    "    \"Description\", regexp_replace(col(\"Description\"), \" +\", \" \")\n",
    ")\n",
    "df_clean.select(\"Description\").show(2, False)"
   ]
  },
  {
   "cell_type": "markdown",
   "metadata": {},
   "source": [
    "**Tokenize, remove stopwords and create a count vector**\n",
    "\n",
    "We will use a pipeline for this. "
   ]
  },
  {
   "cell_type": "code",
   "execution_count": 10,
   "metadata": {},
   "outputs": [
    {
     "name": "stderr",
     "output_type": "stream",
     "text": [
      "\r",
      "[Stage 31:>                                                         (0 + 1) / 1]\r",
      "\r",
      "                                                                                \r"
     ]
    }
   ],
   "source": [
    "# Tokenize\n",
    "regex_tokenizer = RegexTokenizer(\n",
    "    inputCol=\"Description\", outputCol=\"words\", pattern=\"\\\\W\"\n",
    ")\n",
    "raw_words = regex_tokenizer.transform(df_clean)\n",
    "\n",
    "# Remove Stop words\n",
    "remover = StopWordsRemover(inputCol=\"words\", outputCol=\"filtered\")\n",
    "words_df = remover.transform(raw_words)\n",
    "\n",
    "cv = CountVectorizer(inputCol=\"filtered\", outputCol=\"features\")\n",
    "cvmodel = cv.fit(words_df)\n",
    "df_vect = cvmodel.transform(words_df)"
   ]
  },
  {
   "cell_type": "code",
   "execution_count": 11,
   "metadata": {},
   "outputs": [
    {
     "data": {
      "text/html": [
       "<div>\n",
       "<style scoped>\n",
       "    .dataframe tbody tr th:only-of-type {\n",
       "        vertical-align: middle;\n",
       "    }\n",
       "\n",
       "    .dataframe tbody tr th {\n",
       "        vertical-align: top;\n",
       "    }\n",
       "\n",
       "    .dataframe thead th {\n",
       "        text-align: right;\n",
       "    }\n",
       "</style>\n",
       "<table border=\"1\" class=\"dataframe\">\n",
       "  <thead>\n",
       "    <tr style=\"text-align: right;\">\n",
       "      <th></th>\n",
       "      <th>Author</th>\n",
       "      <th>Description</th>\n",
       "      <th>Ingredients</th>\n",
       "      <th>Method</th>\n",
       "      <th>Name</th>\n",
       "      <th>url</th>\n",
       "      <th>words</th>\n",
       "      <th>filtered</th>\n",
       "      <th>features</th>\n",
       "    </tr>\n",
       "  </thead>\n",
       "  <tbody>\n",
       "    <tr>\n",
       "      <th>0</th>\n",
       "      <td>Mary Cadogan</td>\n",
       "      <td>combine a few key christmas flavours here to m...</td>\n",
       "      <td>[2 tbsp olive oil, knob butter, 1 onion, finel...</td>\n",
       "      <td>[Heat oven to 190C/fan 170C/gas 5. Heat 1 tbsp...</td>\n",
       "      <td>Christmas pie</td>\n",
       "      <td>https://www.bbcgoodfood.com/recipes/2793/chris...</td>\n",
       "      <td>[combine, a, few, key, christmas, flavours, he...</td>\n",
       "      <td>[combine, key, christmas, flavours, make, pie,...</td>\n",
       "      <td>(1.0, 1.0, 0.0, 0.0, 0.0, 0.0, 0.0, 0.0, 0.0, ...</td>\n",
       "    </tr>\n",
       "    <tr>\n",
       "      <th>1</th>\n",
       "      <td>Mary Cadogan</td>\n",
       "      <td>an easy to make alternative to traditional chr...</td>\n",
       "      <td>[175g butter, chopped, 200g dark muscovado sug...</td>\n",
       "      <td>[Put the butter, sugar, fruit, zests, juice an...</td>\n",
       "      <td>Simmer-&amp;-stir Christmas cake</td>\n",
       "      <td>https://www.bbcgoodfood.com/recipes/1160/simme...</td>\n",
       "      <td>[an, easy, to, make, alternative, to, traditio...</td>\n",
       "      <td>[easy, make, alternative, traditional, christm...</td>\n",
       "      <td>(1.0, 1.0, 0.0, 0.0, 0.0, 0.0, 0.0, 1.0, 0.0, ...</td>\n",
       "    </tr>\n",
       "  </tbody>\n",
       "</table>\n",
       "</div>"
      ],
      "text/plain": [
       "         Author                                        Description  \\\n",
       "0  Mary Cadogan  combine a few key christmas flavours here to m...   \n",
       "1  Mary Cadogan  an easy to make alternative to traditional chr...   \n",
       "\n",
       "                                         Ingredients  \\\n",
       "0  [2 tbsp olive oil, knob butter, 1 onion, finel...   \n",
       "1  [175g butter, chopped, 200g dark muscovado sug...   \n",
       "\n",
       "                                              Method  \\\n",
       "0  [Heat oven to 190C/fan 170C/gas 5. Heat 1 tbsp...   \n",
       "1  [Put the butter, sugar, fruit, zests, juice an...   \n",
       "\n",
       "                           Name  \\\n",
       "0                 Christmas pie   \n",
       "1  Simmer-&-stir Christmas cake   \n",
       "\n",
       "                                                 url  \\\n",
       "0  https://www.bbcgoodfood.com/recipes/2793/chris...   \n",
       "1  https://www.bbcgoodfood.com/recipes/1160/simme...   \n",
       "\n",
       "                                               words  \\\n",
       "0  [combine, a, few, key, christmas, flavours, he...   \n",
       "1  [an, easy, to, make, alternative, to, traditio...   \n",
       "\n",
       "                                            filtered  \\\n",
       "0  [combine, key, christmas, flavours, make, pie,...   \n",
       "1  [easy, make, alternative, traditional, christm...   \n",
       "\n",
       "                                            features  \n",
       "0  (1.0, 1.0, 0.0, 0.0, 0.0, 0.0, 0.0, 0.0, 0.0, ...  \n",
       "1  (1.0, 1.0, 0.0, 0.0, 0.0, 0.0, 0.0, 1.0, 0.0, ...  "
      ]
     },
     "execution_count": 11,
     "metadata": {},
     "output_type": "execute_result"
    }
   ],
   "source": [
    "# View the new dataframe\n",
    "df_vect.limit(2).toPandas()"
   ]
  },
  {
   "cell_type": "markdown",
   "metadata": {},
   "source": [
    "## Determine Optimal K for LDA\n",
    "\n",
    "This portion is going to be more like our k-means analysis where we plot our results and look for the elbow except this time we will be using the following metrics (the only ones PySpark provides):\n",
    "\n",
    "**Log likelihood:** Calculates a lower bound on the log likelihood of the entire corpus. We want higher numbers here. See Equation (16) in the Online LDA paper (Hoffman et al., 2010).\n",
    "\n",
    "**Log Perplexity:** Calculate an upper bound on perplexity. See Equation (16) in the Online LDA paper (Hoffman et al., 2010). We want lower numbers here, however keep in mind that this evaluation metric is debatable as many have shown that, surprisingly, perplexity and human judgment are often not correlated, and even sometimes slightly anti-correlated. Here is one interesting paper here on the subject: http://qpleple.com/perplexity-to-evaluate-topic-models/"
   ]
  },
  {
   "cell_type": "code",
   "execution_count": 12,
   "metadata": {},
   "outputs": [
    {
     "name": "stdout",
     "output_type": "stream",
     "text": [
      "22/10/13 02:08:25 WARN BLAS: Failed to load implementation from: com.github.fommil.netlib.NativeSystemBLAS\n",
      "22/10/13 02:08:25 WARN BLAS: Failed to load implementation from: com.github.fommil.netlib.NativeRefBLAS\n"
     ]
    },
    {
     "name": "stderr",
     "output_type": "stream",
     "text": [
      "                                                                                \r"
     ]
    },
    {
     "data": {
      "text/plain": [
       "Text(0, 0.5, 'lp')"
      ]
     },
     "execution_count": 12,
     "metadata": {},
     "output_type": "execute_result"
    },
    {
     "data": {
      "image/png": "[encoded data removed]",
      "text/plain": [
       "<Figure size 800x600 with 1 Axes>"
      ]
     },
     "metadata": {},
     "output_type": "display_data"
    },
    {
     "data": {
      "image/png": "[encoded data removed]",
      "text/plain": [
       "<Figure size 800x600 with 1 Axes>"
      ]
     },
     "metadata": {},
     "output_type": "display_data"
    }
   ],
   "source": [
    "kmax = 30\n",
    "ll = np.zeros(kmax)\n",
    "lp = np.zeros(kmax)\n",
    "for k in range(2, kmax):\n",
    "    lda = LDA(k=k, maxIter=10)\n",
    "    model = lda.fit(df_vect)\n",
    "    ll[k] = model.logLikelihood(df_vect)\n",
    "    lp[k] = model.logPerplexity(df_vect)\n",
    "\n",
    "fig, ax = plt.subplots(1, 1, figsize=(8, 6))\n",
    "ax.plot(range(2, kmax), ll[2:kmax])\n",
    "ax.set_xlabel(\"k\")\n",
    "ax.set_ylabel(\"ll\")\n",
    "\n",
    "fig, ax = plt.subplots(1, 1, figsize=(8, 6))\n",
    "ax.plot(range(2, kmax), lp[2:kmax])\n",
    "ax.set_xlabel(\"k\")\n",
    "ax.set_ylabel(\"lp\")"
   ]
  },
  {
   "cell_type": "markdown",
   "metadata": {},
   "source": [
    "### Conclusions from graph output obove\n",
    "Looks like in both cases (ll and lp) our model gets worse as k increases. So let's go with a low number of k. I'm going to go with 4 for the purpose of demonstration but we might want to play around with this a bit in a real analysis.\n",
    "\n",
    "\n",
    "## Train your Final LDA Model using preferred K"
   ]
  },
  {
   "cell_type": "code",
   "execution_count": 13,
   "metadata": {},
   "outputs": [],
   "source": [
    "# Trains a LDA model.\n",
    "lda = LDA(k=4, maxIter=10)\n",
    "model = lda.fit(df_vect)"
   ]
  },
  {
   "cell_type": "markdown",
   "metadata": {},
   "source": [
    "Here is where things get fun!"
   ]
  },
  {
   "cell_type": "code",
   "execution_count": 14,
   "metadata": {},
   "outputs": [
    {
     "name": "stdout",
     "output_type": "stream",
     "text": [
      "Recap of ll and lp:\n"
     ]
    },
    {
     "name": "stderr",
     "output_type": "stream",
     "text": [
      "                                                                                \r"
     ]
    },
    {
     "name": "stdout",
     "output_type": "stream",
     "text": [
      "The lower bound on the log likelihood of the entire corpus: -162686.95802877666\n",
      "The upper bound on perplexity: 8.066588557555368\n",
      "Vocab Size:  3476\n",
      "The topics described by their top-weighted terms:\n",
      " \n",
      "TOPIC: 0\n",
      "dish 0.001\n",
      "indulgent 0.001\n",
      "makes 0.001\n",
      "filo 0.001\n",
      "pastry 0.001\n",
      " \n",
      "TOPIC: 1\n",
      "christmas 0.007\n",
      "make 0.005\n",
      "really 0.004\n",
      "party 0.004\n",
      "made 0.004\n",
      " \n",
      "TOPIC: 2\n",
      "christmas 0.009\n",
      "make 0.008\n",
      "recipe 0.008\n",
      "made 0.005\n",
      "like 0.005\n",
      " \n",
      "TOPIC: 3\n",
      "festive 0.003\n",
      "meal 0.002\n",
      "christmas 0.002\n",
      "simple 0.002\n",
      "classic 0.002\n"
     ]
    }
   ],
   "source": [
    "print(\"Recap of ll and lp:\")\n",
    "ll = model.logLikelihood(df_vect)\n",
    "lp = model.logPerplexity(df_vect)\n",
    "print(\"The lower bound on the log likelihood of the entire corpus: \" + str(ll))\n",
    "print(\"The upper bound on perplexity: \" + str(lp))\n",
    "print(\"Vocab Size: \", model.vocabSize())\n",
    "\n",
    "# Describe topics.\n",
    "print(\"The topics described by their top-weighted terms:\")\n",
    "topics = model.describeTopics(maxTermsPerTopic=5)\n",
    "# topics.show(truncate=False)\n",
    "topics = topics.collect()\n",
    "vocablist = cvmodel.vocabulary\n",
    "# Enumerate adds a counter to topics and returns it in a form of enumerate object.\n",
    "for x, topic in enumerate(topics):\n",
    "    print(\" \")\n",
    "    print(\"TOPIC: \" + str(x))\n",
    "    # This is like a temp holder\n",
    "    topic = topics\n",
    "    # Then we extract the words from the topics\n",
    "    words = topic[x][1]\n",
    "    weights = topic[x][2]\n",
    "    # Then print the words by topics\n",
    "    for n in range(len(words)):\n",
    "        print(vocablist[words[n]] + \" \" + str(np.round(weights[n], 3)))"
   ]
  },
  {
   "cell_type": "markdown",
   "metadata": {},
   "source": [
    "Cool! Looks like there are some relativley interesting topics but not super clear. From here we would need to create our own naming convention for each topic, like for example, topic 2 might be \"Traditional Chocolate Cake Recipes\". Or you could add tags to the recipes. Now let's see if we can recommend a topic for each row in the dataframe.\n",
    "\n",
    "\n",
    "## Recommend a Topic for each row"
   ]
  },
  {
   "cell_type": "code",
   "execution_count": 23,
   "metadata": {},
   "outputs": [
    {
     "name": "stdout",
     "output_type": "stream",
     "text": [
      "root\n",
      " |-- Author: string (nullable = true)\n",
      " |-- Description: string (nullable = true)\n",
      " |-- Ingredients: array (nullable = true)\n",
      " |    |-- element: string (containsNull = true)\n",
      " |-- Method: array (nullable = true)\n",
      " |    |-- element: string (containsNull = true)\n",
      " |-- Name: string (nullable = true)\n",
      " |-- url: string (nullable = true)\n",
      " |-- words: array (nullable = true)\n",
      " |    |-- element: string (containsNull = true)\n",
      " |-- filtered: array (nullable = true)\n",
      " |    |-- element: string (containsNull = true)\n",
      " |-- features: vector (nullable = true)\n",
      " |-- topicDistribution: vector (nullable = true)\n",
      " |-- topicID: integer (nullable = true)\n",
      "\n"
     ]
    },
    {
     "data": {
      "text/html": [
       "<div>\n",
       "<style scoped>\n",
       "    .dataframe tbody tr th:only-of-type {\n",
       "        vertical-align: middle;\n",
       "    }\n",
       "\n",
       "    .dataframe tbody tr th {\n",
       "        vertical-align: top;\n",
       "    }\n",
       "\n",
       "    .dataframe thead th {\n",
       "        text-align: right;\n",
       "    }\n",
       "</style>\n",
       "<table border=\"1\" class=\"dataframe\">\n",
       "  <thead>\n",
       "    <tr style=\"text-align: right;\">\n",
       "      <th></th>\n",
       "      <th>Author</th>\n",
       "      <th>Description</th>\n",
       "      <th>Ingredients</th>\n",
       "      <th>Method</th>\n",
       "      <th>Name</th>\n",
       "      <th>url</th>\n",
       "      <th>words</th>\n",
       "      <th>filtered</th>\n",
       "      <th>features</th>\n",
       "      <th>topicDistribution</th>\n",
       "      <th>topicID</th>\n",
       "    </tr>\n",
       "  </thead>\n",
       "  <tbody>\n",
       "    <tr>\n",
       "      <th>0</th>\n",
       "      <td>Mary Cadogan</td>\n",
       "      <td>combine a few key christmas flavours here to m...</td>\n",
       "      <td>[2 tbsp olive oil, knob butter, 1 onion, finel...</td>\n",
       "      <td>[Heat oven to 190C/fan 170C/gas 5. Heat 1 tbsp...</td>\n",
       "      <td>Christmas pie</td>\n",
       "      <td>https://www.bbcgoodfood.com/recipes/2793/chris...</td>\n",
       "      <td>[combine, a, few, key, christmas, flavours, he...</td>\n",
       "      <td>[combine, key, christmas, flavours, make, pie,...</td>\n",
       "      <td>(1.0, 1.0, 0.0, 0.0, 0.0, 0.0, 0.0, 0.0, 0.0, ...</td>\n",
       "      <td>[0.02049651750453438, 0.02431336204599207, 0.9...</td>\n",
       "      <td>2</td>\n",
       "    </tr>\n",
       "    <tr>\n",
       "      <th>1</th>\n",
       "      <td>Mary Cadogan</td>\n",
       "      <td>an easy to make alternative to traditional chr...</td>\n",
       "      <td>[175g butter, chopped, 200g dark muscovado sug...</td>\n",
       "      <td>[Put the butter, sugar, fruit, zests, juice an...</td>\n",
       "      <td>Simmer-&amp;-stir Christmas cake</td>\n",
       "      <td>https://www.bbcgoodfood.com/recipes/1160/simme...</td>\n",
       "      <td>[an, easy, to, make, alternative, to, traditio...</td>\n",
       "      <td>[easy, make, alternative, traditional, christm...</td>\n",
       "      <td>(1.0, 1.0, 0.0, 0.0, 0.0, 0.0, 0.0, 1.0, 0.0, ...</td>\n",
       "      <td>[0.02280308454300211, 0.027234824658309828, 0....</td>\n",
       "      <td>2</td>\n",
       "    </tr>\n",
       "    <tr>\n",
       "      <th>2</th>\n",
       "      <td>Sara Buenfeld</td>\n",
       "      <td>these beautiful and classy little cakes make l...</td>\n",
       "      <td>[200g dark muscovado sugar, 175g butter, chopp...</td>\n",
       "      <td>[Tip the sugar, butter, dried fruit, whole che...</td>\n",
       "      <td>Christmas cupcakes</td>\n",
       "      <td>https://www.bbcgoodfood.com/recipes/72622/chri...</td>\n",
       "      <td>[these, beautiful, and, classy, little, cakes,...</td>\n",
       "      <td>[beautiful, classy, little, cakes, make, lovel...</td>\n",
       "      <td>(0.0, 1.0, 0.0, 0.0, 0.0, 0.0, 0.0, 0.0, 0.0, ...</td>\n",
       "      <td>[0.01853564618160716, 0.02222910187032948, 0.9...</td>\n",
       "      <td>2</td>\n",
       "    </tr>\n",
       "    <tr>\n",
       "      <th>3</th>\n",
       "      <td>Paul Hollywood</td>\n",
       "      <td>paul hollywood s fruit rolls can be made ahead...</td>\n",
       "      <td>[500g strong white flour, plus extra for dusti...</td>\n",
       "      <td>[Put the flour and 1 tsp salt into a large bow...</td>\n",
       "      <td>Christmas buns</td>\n",
       "      <td>https://www.bbcgoodfood.com/recipes/1803633/ch...</td>\n",
       "      <td>[paul, hollywood, s, fruit, rolls, can, be, ma...</td>\n",
       "      <td>[paul, hollywood, fruit, rolls, made, ahead, h...</td>\n",
       "      <td>(0.0, 0.0, 0.0, 0.0, 1.0, 0.0, 0.0, 0.0, 0.0, ...</td>\n",
       "      <td>[0.015742215945646728, 0.018796159669613458, 0...</td>\n",
       "      <td>2</td>\n",
       "    </tr>\n",
       "    <tr>\n",
       "      <th>4</th>\n",
       "      <td>Barney Desmazery</td>\n",
       "      <td>made these for the second time today and i hav...</td>\n",
       "      <td>[280g self-raising flour, 175g golden caster s...</td>\n",
       "      <td>[Heat oven to 190C/170 fan/gas 5 and line a 12...</td>\n",
       "      <td>Christmas cupcakes</td>\n",
       "      <td>https://www.bbcgoodfood.com/recipes/981634/chr...</td>\n",
       "      <td>[made, these, for, the, second, time, today, a...</td>\n",
       "      <td>[made, second, time, today, say, turned, great...</td>\n",
       "      <td>(1.0, 1.0, 0.0, 0.0, 2.0, 1.0, 0.0, 0.0, 0.0, ...</td>\n",
       "      <td>[0.009208230744743513, 0.0109527987039113, 0.9...</td>\n",
       "      <td>2</td>\n",
       "    </tr>\n",
       "    <tr>\n",
       "      <th>5</th>\n",
       "      <td>Good Food</td>\n",
       "      <td>a nutty winter salad which is superhealthy qui...</td>\n",
       "      <td>[2 carrots, halved, ½ white cabbage, shredded,...</td>\n",
       "      <td>[Peel strips from the carrots using a vegetabl...</td>\n",
       "      <td>Christmas slaw</td>\n",
       "      <td>https://www.bbcgoodfood.com/recipes/890635/chr...</td>\n",
       "      <td>[a, nutty, winter, salad, which, is, superheal...</td>\n",
       "      <td>[nutty, winter, salad, superhealthy, quick, pr...</td>\n",
       "      <td>(0.0, 0.0, 0.0, 0.0, 0.0, 0.0, 0.0, 0.0, 0.0, ...</td>\n",
       "      <td>[0.016963777923234072, 0.9394782643190203, 0.0...</td>\n",
       "      <td>1</td>\n",
       "    </tr>\n",
       "    <tr>\n",
       "      <th>6</th>\n",
       "      <td>Caroline Hire</td>\n",
       "      <td>delicious and a synch to make have made this a...</td>\n",
       "      <td>[600ml double cream, 400g Greek yoghurt, 4 tbs...</td>\n",
       "      <td>[In a small saucepan gently heat the frozen be...</td>\n",
       "      <td>Christmas mess</td>\n",
       "      <td>https://www.bbcgoodfood.com/recipes/2806664/ch...</td>\n",
       "      <td>[delicious, and, a, synch, to, make, have, mad...</td>\n",
       "      <td>[delicious, synch, make, made, couple, times, ...</td>\n",
       "      <td>(0.0, 1.0, 0.0, 0.0, 2.0, 1.0, 0.0, 0.0, 1.0, ...</td>\n",
       "      <td>[0.005546646858933777, 0.006743405606077416, 0...</td>\n",
       "      <td>2</td>\n",
       "    </tr>\n",
       "    <tr>\n",
       "      <th>7</th>\n",
       "      <td>Miriam Nice</td>\n",
       "      <td>can i made these the day before</td>\n",
       "      <td>[200g unsalted buttercut into cubes, plus extr...</td>\n",
       "      <td>[Grease and line a 20cm x 20cm brownie tin. He...</td>\n",
       "      <td>Christmas brownies</td>\n",
       "      <td>https://www.bbcgoodfood.com/recipes/christmas-...</td>\n",
       "      <td>[can, i, made, these, the, day, before]</td>\n",
       "      <td>[made, day]</td>\n",
       "      <td>(0.0, 0.0, 0.0, 0.0, 1.0, 0.0, 0.0, 0.0, 0.0, ...</td>\n",
       "      <td>[0.0689713134630643, 0.08596341135321717, 0.77...</td>\n",
       "      <td>2</td>\n",
       "    </tr>\n",
       "    <tr>\n",
       "      <th>8</th>\n",
       "      <td>Good Food</td>\n",
       "      <td>how many servings have you gotten using the ab...</td>\n",
       "      <td>[500ml vodka, 500ml gingerwine, 1l cranberry j...</td>\n",
       "      <td>[Mix the vodka and ginger wine in a jug. Stir ...</td>\n",
       "      <td>Christmas cosmopolitan</td>\n",
       "      <td>https://www.bbcgoodfood.com/recipes/889643/chr...</td>\n",
       "      <td>[how, many, servings, have, you, gotten, using...</td>\n",
       "      <td>[many, servings, gotten, using, measures]</td>\n",
       "      <td>(0.0, 0.0, 0.0, 0.0, 0.0, 0.0, 0.0, 0.0, 0.0, ...</td>\n",
       "      <td>[0.03420563340792444, 0.8812347701101177, 0.04...</td>\n",
       "      <td>1</td>\n",
       "    </tr>\n",
       "    <tr>\n",
       "      <th>9</th>\n",
       "      <td>Katy Greenwood</td>\n",
       "      <td>use up leftover roast turkey and sausagemeat s...</td>\n",
       "      <td>[145g pizza basemix, 6 tbsp tomato pasta sauce...</td>\n",
       "      <td>[Heat oven to 220C/200C fan/gas 7. Prepare the...</td>\n",
       "      <td>Christmas pizza</td>\n",
       "      <td>https://www.bbcgoodfood.com/recipes/christmas-...</td>\n",
       "      <td>[use, up, leftover, roast, turkey, and, sausag...</td>\n",
       "      <td>[use, leftover, roast, turkey, sausagemeat, st...</td>\n",
       "      <td>(0.0, 0.0, 0.0, 0.0, 0.0, 0.0, 0.0, 0.0, 0.0, ...</td>\n",
       "      <td>[0.018486534943701796, 0.02173955256198561, 0....</td>\n",
       "      <td>2</td>\n",
       "    </tr>\n",
       "  </tbody>\n",
       "</table>\n",
       "</div>"
      ],
      "text/plain": [
       "             Author                                        Description  \\\n",
       "0      Mary Cadogan  combine a few key christmas flavours here to m...   \n",
       "1      Mary Cadogan  an easy to make alternative to traditional chr...   \n",
       "2     Sara Buenfeld  these beautiful and classy little cakes make l...   \n",
       "3    Paul Hollywood  paul hollywood s fruit rolls can be made ahead...   \n",
       "4  Barney Desmazery  made these for the second time today and i hav...   \n",
       "5         Good Food  a nutty winter salad which is superhealthy qui...   \n",
       "6     Caroline Hire  delicious and a synch to make have made this a...   \n",
       "7       Miriam Nice                    can i made these the day before   \n",
       "8         Good Food  how many servings have you gotten using the ab...   \n",
       "9    Katy Greenwood  use up leftover roast turkey and sausagemeat s...   \n",
       "\n",
       "                                         Ingredients  \\\n",
       "0  [2 tbsp olive oil, knob butter, 1 onion, finel...   \n",
       "1  [175g butter, chopped, 200g dark muscovado sug...   \n",
       "2  [200g dark muscovado sugar, 175g butter, chopp...   \n",
       "3  [500g strong white flour, plus extra for dusti...   \n",
       "4  [280g self-raising flour, 175g golden caster s...   \n",
       "5  [2 carrots, halved, ½ white cabbage, shredded,...   \n",
       "6  [600ml double cream, 400g Greek yoghurt, 4 tbs...   \n",
       "7  [200g unsalted buttercut into cubes, plus extr...   \n",
       "8  [500ml vodka, 500ml gingerwine, 1l cranberry j...   \n",
       "9  [145g pizza basemix, 6 tbsp tomato pasta sauce...   \n",
       "\n",
       "                                              Method  \\\n",
       "0  [Heat oven to 190C/fan 170C/gas 5. Heat 1 tbsp...   \n",
       "1  [Put the butter, sugar, fruit, zests, juice an...   \n",
       "2  [Tip the sugar, butter, dried fruit, whole che...   \n",
       "3  [Put the flour and 1 tsp salt into a large bow...   \n",
       "4  [Heat oven to 190C/170 fan/gas 5 and line a 12...   \n",
       "5  [Peel strips from the carrots using a vegetabl...   \n",
       "6  [In a small saucepan gently heat the frozen be...   \n",
       "7  [Grease and line a 20cm x 20cm brownie tin. He...   \n",
       "8  [Mix the vodka and ginger wine in a jug. Stir ...   \n",
       "9  [Heat oven to 220C/200C fan/gas 7. Prepare the...   \n",
       "\n",
       "                           Name  \\\n",
       "0                 Christmas pie   \n",
       "1  Simmer-&-stir Christmas cake   \n",
       "2            Christmas cupcakes   \n",
       "3                Christmas buns   \n",
       "4            Christmas cupcakes   \n",
       "5                Christmas slaw   \n",
       "6                Christmas mess   \n",
       "7            Christmas brownies   \n",
       "8        Christmas cosmopolitan   \n",
       "9               Christmas pizza   \n",
       "\n",
       "                                                 url  \\\n",
       "0  https://www.bbcgoodfood.com/recipes/2793/chris...   \n",
       "1  https://www.bbcgoodfood.com/recipes/1160/simme...   \n",
       "2  https://www.bbcgoodfood.com/recipes/72622/chri...   \n",
       "3  https://www.bbcgoodfood.com/recipes/1803633/ch...   \n",
       "4  https://www.bbcgoodfood.com/recipes/981634/chr...   \n",
       "5  https://www.bbcgoodfood.com/recipes/890635/chr...   \n",
       "6  https://www.bbcgoodfood.com/recipes/2806664/ch...   \n",
       "7  https://www.bbcgoodfood.com/recipes/christmas-...   \n",
       "8  https://www.bbcgoodfood.com/recipes/889643/chr...   \n",
       "9  https://www.bbcgoodfood.com/recipes/christmas-...   \n",
       "\n",
       "                                               words  \\\n",
       "0  [combine, a, few, key, christmas, flavours, he...   \n",
       "1  [an, easy, to, make, alternative, to, traditio...   \n",
       "2  [these, beautiful, and, classy, little, cakes,...   \n",
       "3  [paul, hollywood, s, fruit, rolls, can, be, ma...   \n",
       "4  [made, these, for, the, second, time, today, a...   \n",
       "5  [a, nutty, winter, salad, which, is, superheal...   \n",
       "6  [delicious, and, a, synch, to, make, have, mad...   \n",
       "7            [can, i, made, these, the, day, before]   \n",
       "8  [how, many, servings, have, you, gotten, using...   \n",
       "9  [use, up, leftover, roast, turkey, and, sausag...   \n",
       "\n",
       "                                            filtered  \\\n",
       "0  [combine, key, christmas, flavours, make, pie,...   \n",
       "1  [easy, make, alternative, traditional, christm...   \n",
       "2  [beautiful, classy, little, cakes, make, lovel...   \n",
       "3  [paul, hollywood, fruit, rolls, made, ahead, h...   \n",
       "4  [made, second, time, today, say, turned, great...   \n",
       "5  [nutty, winter, salad, superhealthy, quick, pr...   \n",
       "6  [delicious, synch, make, made, couple, times, ...   \n",
       "7                                        [made, day]   \n",
       "8          [many, servings, gotten, using, measures]   \n",
       "9  [use, leftover, roast, turkey, sausagemeat, st...   \n",
       "\n",
       "                                            features  \\\n",
       "0  (1.0, 1.0, 0.0, 0.0, 0.0, 0.0, 0.0, 0.0, 0.0, ...   \n",
       "1  (1.0, 1.0, 0.0, 0.0, 0.0, 0.0, 0.0, 1.0, 0.0, ...   \n",
       "2  (0.0, 1.0, 0.0, 0.0, 0.0, 0.0, 0.0, 0.0, 0.0, ...   \n",
       "3  (0.0, 0.0, 0.0, 0.0, 1.0, 0.0, 0.0, 0.0, 0.0, ...   \n",
       "4  (1.0, 1.0, 0.0, 0.0, 2.0, 1.0, 0.0, 0.0, 0.0, ...   \n",
       "5  (0.0, 0.0, 0.0, 0.0, 0.0, 0.0, 0.0, 0.0, 0.0, ...   \n",
       "6  (0.0, 1.0, 0.0, 0.0, 2.0, 1.0, 0.0, 0.0, 1.0, ...   \n",
       "7  (0.0, 0.0, 0.0, 0.0, 1.0, 0.0, 0.0, 0.0, 0.0, ...   \n",
       "8  (0.0, 0.0, 0.0, 0.0, 0.0, 0.0, 0.0, 0.0, 0.0, ...   \n",
       "9  (0.0, 0.0, 0.0, 0.0, 0.0, 0.0, 0.0, 0.0, 0.0, ...   \n",
       "\n",
       "                                   topicDistribution  topicID  \n",
       "0  [0.02049651750453438, 0.02431336204599207, 0.9...        2  \n",
       "1  [0.02280308454300211, 0.027234824658309828, 0....        2  \n",
       "2  [0.01853564618160716, 0.02222910187032948, 0.9...        2  \n",
       "3  [0.015742215945646728, 0.018796159669613458, 0...        2  \n",
       "4  [0.009208230744743513, 0.0109527987039113, 0.9...        2  \n",
       "5  [0.016963777923234072, 0.9394782643190203, 0.0...        1  \n",
       "6  [0.005546646858933777, 0.006743405606077416, 0...        2  \n",
       "7  [0.0689713134630643, 0.08596341135321717, 0.77...        2  \n",
       "8  [0.03420563340792444, 0.8812347701101177, 0.04...        1  \n",
       "9  [0.018486534943701796, 0.02173955256198561, 0....        2  "
      ]
     },
     "execution_count": 23,
     "metadata": {},
     "output_type": "execute_result"
    }
   ],
   "source": [
    "# Make predictions\n",
    "transformed = model.transform(df_vect)\n",
    "\n",
    "\n",
    "# Convert topicdistribution col from vector to array\n",
    "# We need to create a udf for this one\n",
    "# to_array = udf(lambda x: x.toArray().tolist(), ArrayType(DoubleType()))\n",
    "# recommendations = transformed.withColumn(\"array\", to_array(\"topicDistribution\"))\n",
    "\n",
    "# # Find the best topic value that we will call \"max\"\n",
    "# max_vals = recommendations.withColumn(\"max\", array_max(\"array\"))\n",
    "\n",
    "# # Find the index of the max value found above which translates to our topic!\n",
    "# argmaxUdf = udf(lambda x, y: [i for i, e in enumerate(x) if e == y])\n",
    "# results = max_vals.withColumn(\"topic\", argmaxUdf(max_vals[\"array\"], max_vals[\"max\"]))\n",
    "\n",
    "max_index = udf(lambda x: x.tolist().index(max(x)), IntegerType())\n",
    "results = transformed.withColumn(\"topicID\", max_index(\"topicDistribution\"))\n",
    "results.printSchema()\n",
    "results.limit(10).toPandas()"
   ]
  },
  {
   "cell_type": "markdown",
   "metadata": {},
   "source": [
    "## Next Steps\n",
    "\n",
    "Awesome! Now that we have our data in a manageable form, we could use this to autocategorize recipes in a new recipe site we create into meaningful tabs like \"chocolate\" or \"baking\". We could also just auto-tag any recipes that are uploaded by users too which would also users to search our database more easily. How cool would that be?! It might also be cool look at the most common topics by Author or common ingredient."
   ]
  }
 ],
 "metadata": {
  "kernelspec": {
   "display_name": "Python 3 (ipykernel)",
   "language": "python",
   "name": "python3"
  },
  "language_info": {
   "codemirror_mode": {
    "name": "ipython",
    "version": 3
   },
   "file_extension": ".py",
   "mimetype": "text/x-python",
   "name": "python",
   "nbconvert_exporter": "python",
   "pygments_lexer": "ipython3",
   "version": "3.7.10"
  }
 },
 "nbformat": 4,
 "nbformat_minor": 2
}
