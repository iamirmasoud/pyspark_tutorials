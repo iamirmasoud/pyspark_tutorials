{
 "cells": [
  {
   "cell_type": "markdown",
   "metadata": {},
   "source": [
    "# Gaussian Mixture Modeling in PySpark's MLlib \n",
    "\n",
    "GMM is a \"soft\" clustering method that provides a probability of how associated a data point is with a cluster as opposed to simply which cluster the data point is associated with. It works especially well for data that has multiple distributions, but can be used for any kind of data.\n",
    "\n",
    "If you would like to learn even more about GMM I recommend the following article: https://towardsdatascience.com/gaussian-mixture-models-explained-6986aaf5a95\n",
    "\n",
    "**Link to GMM in PySpark Documentation:**<br>\n",
    "https://spark.apache.org/docs/latest/api/python/pyspark.ml.html#pyspark.ml.clustering.GaussianMixture"
   ]
  },
  {
   "cell_type": "code",
   "execution_count": 2,
   "metadata": {},
   "outputs": [
    {
     "name": "stdout",
     "output_type": "stream",
     "text": [
      "You are working with 1 core(s)\n"
     ]
    },
    {
     "data": {
      "text/html": [
       "\n",
       "            <div>\n",
       "                <p><b>SparkSession - in-memory</b></p>\n",
       "                \n",
       "        <div>\n",
       "            <p><b>SparkContext</b></p>\n",
       "\n",
       "            <p><a href=\"http://192.168.7.139:4040\">Spark UI</a></p>\n",
       "\n",
       "            <dl>\n",
       "              <dt>Version</dt>\n",
       "                <dd><code>v3.3.0</code></dd>\n",
       "              <dt>Master</dt>\n",
       "                <dd><code>local[*]</code></dd>\n",
       "              <dt>AppName</dt>\n",
       "                <dd><code>Gix</code></dd>\n",
       "            </dl>\n",
       "        </div>\n",
       "        \n",
       "            </div>\n",
       "        "
      ],
      "text/plain": [
       "<pyspark.sql.session.SparkSession at 0x7f0dcc234a50>"
      ]
     },
     "execution_count": 2,
     "metadata": {},
     "output_type": "execute_result"
    }
   ],
   "source": [
    "# First let's create our PySpark instance\n",
    "# import findspark\n",
    "# findspark.init()\n",
    "\n",
    "import pyspark  # only run after findspark.init()\n",
    "from pyspark.sql import SparkSession\n",
    "\n",
    "# May take awhile locally\n",
    "spark = SparkSession.builder.appName(\"Gix\").getOrCreate()\n",
    "\n",
    "cores = spark._jsc.sc().getExecutorMemoryStatus().keySet().size()\n",
    "print(\"You are working with\", cores, \"core(s)\")\n",
    "spark"
   ]
  },
  {
   "cell_type": "markdown",
   "metadata": {},
   "source": [
    "## About this data\n",
    "\n",
    "Sample Sales Data, Order Info, Sales, Customer, Shipping, etc., Used for Segmentation, Customer Analytics, Clustering and More. Inspired for retail analytics. This was originally used for Pentaho DI Kettle, But I found the set could be useful for Sales Simulation training.\n",
    "\n",
    "Originally Written by María Carina Roldán, Pentaho Community Member, BI consultant (Assert Solutions), Argentina. This work is licensed under the Creative Commons Attribution-Noncommercial-Share Alike 3.0 Unported License. Modified by Gus Segura June 2014.\n",
    "\n",
    "**Source:** https://www.kaggle.com/kyanyoga/sample-sales-data"
   ]
  },
  {
   "cell_type": "code",
   "execution_count": 3,
   "metadata": {},
   "outputs": [],
   "source": [
    "path = \"Datasets/\"\n",
    "df = spark.read.csv(path + \"sales_data_sample.csv\", inferSchema=True, header=True)"
   ]
  },
  {
   "cell_type": "code",
   "execution_count": 4,
   "metadata": {},
   "outputs": [
    {
     "data": {
      "text/html": [
       "<div>\n",
       "<style scoped>\n",
       "    .dataframe tbody tr th:only-of-type {\n",
       "        vertical-align: middle;\n",
       "    }\n",
       "\n",
       "    .dataframe tbody tr th {\n",
       "        vertical-align: top;\n",
       "    }\n",
       "\n",
       "    .dataframe thead th {\n",
       "        text-align: right;\n",
       "    }\n",
       "</style>\n",
       "<table border=\"1\" class=\"dataframe\">\n",
       "  <thead>\n",
       "    <tr style=\"text-align: right;\">\n",
       "      <th></th>\n",
       "      <th>ORDERNUMBER</th>\n",
       "      <th>QUANTITYORDERED</th>\n",
       "      <th>PRICEEACH</th>\n",
       "      <th>ORDERLINENUMBER</th>\n",
       "      <th>SALES</th>\n",
       "      <th>ORDERDATE</th>\n",
       "      <th>STATUS</th>\n",
       "      <th>QTR_ID</th>\n",
       "      <th>MONTH_ID</th>\n",
       "      <th>YEAR_ID</th>\n",
       "      <th>...</th>\n",
       "      <th>ADDRESSLINE1</th>\n",
       "      <th>ADDRESSLINE2</th>\n",
       "      <th>CITY</th>\n",
       "      <th>STATE</th>\n",
       "      <th>POSTALCODE</th>\n",
       "      <th>COUNTRY</th>\n",
       "      <th>TERRITORY</th>\n",
       "      <th>CONTACTLASTNAME</th>\n",
       "      <th>CONTACTFIRSTNAME</th>\n",
       "      <th>DEALSIZE</th>\n",
       "    </tr>\n",
       "  </thead>\n",
       "  <tbody>\n",
       "    <tr>\n",
       "      <th>0</th>\n",
       "      <td>10107</td>\n",
       "      <td>30</td>\n",
       "      <td>95.70</td>\n",
       "      <td>2</td>\n",
       "      <td>2871.00</td>\n",
       "      <td>2/24/2003 0:00</td>\n",
       "      <td>Shipped</td>\n",
       "      <td>1</td>\n",
       "      <td>2</td>\n",
       "      <td>2003</td>\n",
       "      <td>...</td>\n",
       "      <td>897 Long Airport Avenue</td>\n",
       "      <td>None</td>\n",
       "      <td>NYC</td>\n",
       "      <td>NY</td>\n",
       "      <td>10022</td>\n",
       "      <td>USA</td>\n",
       "      <td>NA</td>\n",
       "      <td>Yu</td>\n",
       "      <td>Kwai</td>\n",
       "      <td>Small</td>\n",
       "    </tr>\n",
       "    <tr>\n",
       "      <th>1</th>\n",
       "      <td>10121</td>\n",
       "      <td>34</td>\n",
       "      <td>81.35</td>\n",
       "      <td>5</td>\n",
       "      <td>2765.90</td>\n",
       "      <td>5/7/2003 0:00</td>\n",
       "      <td>Shipped</td>\n",
       "      <td>2</td>\n",
       "      <td>5</td>\n",
       "      <td>2003</td>\n",
       "      <td>...</td>\n",
       "      <td>59 rue de l'Abbaye</td>\n",
       "      <td>None</td>\n",
       "      <td>Reims</td>\n",
       "      <td>None</td>\n",
       "      <td>51100</td>\n",
       "      <td>France</td>\n",
       "      <td>EMEA</td>\n",
       "      <td>Henriot</td>\n",
       "      <td>Paul</td>\n",
       "      <td>Small</td>\n",
       "    </tr>\n",
       "    <tr>\n",
       "      <th>2</th>\n",
       "      <td>10134</td>\n",
       "      <td>41</td>\n",
       "      <td>94.74</td>\n",
       "      <td>2</td>\n",
       "      <td>3884.34</td>\n",
       "      <td>7/1/2003 0:00</td>\n",
       "      <td>Shipped</td>\n",
       "      <td>3</td>\n",
       "      <td>7</td>\n",
       "      <td>2003</td>\n",
       "      <td>...</td>\n",
       "      <td>27 rue du Colonel Pierre Avia</td>\n",
       "      <td>None</td>\n",
       "      <td>Paris</td>\n",
       "      <td>None</td>\n",
       "      <td>75508</td>\n",
       "      <td>France</td>\n",
       "      <td>EMEA</td>\n",
       "      <td>Da Cunha</td>\n",
       "      <td>Daniel</td>\n",
       "      <td>Medium</td>\n",
       "    </tr>\n",
       "    <tr>\n",
       "      <th>3</th>\n",
       "      <td>10145</td>\n",
       "      <td>45</td>\n",
       "      <td>83.26</td>\n",
       "      <td>6</td>\n",
       "      <td>3746.70</td>\n",
       "      <td>8/25/2003 0:00</td>\n",
       "      <td>Shipped</td>\n",
       "      <td>3</td>\n",
       "      <td>8</td>\n",
       "      <td>2003</td>\n",
       "      <td>...</td>\n",
       "      <td>78934 Hillside Dr.</td>\n",
       "      <td>None</td>\n",
       "      <td>Pasadena</td>\n",
       "      <td>CA</td>\n",
       "      <td>90003</td>\n",
       "      <td>USA</td>\n",
       "      <td>NA</td>\n",
       "      <td>Young</td>\n",
       "      <td>Julie</td>\n",
       "      <td>Medium</td>\n",
       "    </tr>\n",
       "    <tr>\n",
       "      <th>4</th>\n",
       "      <td>10159</td>\n",
       "      <td>49</td>\n",
       "      <td>100.00</td>\n",
       "      <td>14</td>\n",
       "      <td>5205.27</td>\n",
       "      <td>10/10/2003 0:00</td>\n",
       "      <td>Shipped</td>\n",
       "      <td>4</td>\n",
       "      <td>10</td>\n",
       "      <td>2003</td>\n",
       "      <td>...</td>\n",
       "      <td>7734 Strong St.</td>\n",
       "      <td>None</td>\n",
       "      <td>San Francisco</td>\n",
       "      <td>CA</td>\n",
       "      <td>None</td>\n",
       "      <td>USA</td>\n",
       "      <td>NA</td>\n",
       "      <td>Brown</td>\n",
       "      <td>Julie</td>\n",
       "      <td>Medium</td>\n",
       "    </tr>\n",
       "  </tbody>\n",
       "</table>\n",
       "<p>5 rows × 25 columns</p>\n",
       "</div>"
      ],
      "text/plain": [
       "   ORDERNUMBER  QUANTITYORDERED  PRICEEACH  ORDERLINENUMBER    SALES  \\\n",
       "0        10107               30      95.70                2  2871.00   \n",
       "1        10121               34      81.35                5  2765.90   \n",
       "2        10134               41      94.74                2  3884.34   \n",
       "3        10145               45      83.26                6  3746.70   \n",
       "4        10159               49     100.00               14  5205.27   \n",
       "\n",
       "         ORDERDATE   STATUS  QTR_ID  MONTH_ID  YEAR_ID  ...  \\\n",
       "0   2/24/2003 0:00  Shipped       1         2     2003  ...   \n",
       "1    5/7/2003 0:00  Shipped       2         5     2003  ...   \n",
       "2    7/1/2003 0:00  Shipped       3         7     2003  ...   \n",
       "3   8/25/2003 0:00  Shipped       3         8     2003  ...   \n",
       "4  10/10/2003 0:00  Shipped       4        10     2003  ...   \n",
       "\n",
       "                    ADDRESSLINE1  ADDRESSLINE2           CITY STATE  \\\n",
       "0        897 Long Airport Avenue          None            NYC    NY   \n",
       "1             59 rue de l'Abbaye          None          Reims  None   \n",
       "2  27 rue du Colonel Pierre Avia          None          Paris  None   \n",
       "3             78934 Hillside Dr.          None       Pasadena    CA   \n",
       "4                7734 Strong St.          None  San Francisco    CA   \n",
       "\n",
       "  POSTALCODE COUNTRY TERRITORY CONTACTLASTNAME CONTACTFIRSTNAME DEALSIZE  \n",
       "0      10022     USA        NA              Yu             Kwai    Small  \n",
       "1      51100  France      EMEA         Henriot             Paul    Small  \n",
       "2      75508  France      EMEA        Da Cunha           Daniel   Medium  \n",
       "3      90003     USA        NA           Young            Julie   Medium  \n",
       "4       None     USA        NA           Brown            Julie   Medium  \n",
       "\n",
       "[5 rows x 25 columns]"
      ]
     },
     "execution_count": 4,
     "metadata": {},
     "output_type": "execute_result"
    }
   ],
   "source": [
    "df.limit(5).toPandas()"
   ]
  },
  {
   "cell_type": "code",
   "execution_count": 5,
   "metadata": {},
   "outputs": [
    {
     "name": "stdout",
     "output_type": "stream",
     "text": [
      "root\n",
      " |-- ORDERNUMBER: integer (nullable = true)\n",
      " |-- QUANTITYORDERED: integer (nullable = true)\n",
      " |-- PRICEEACH: double (nullable = true)\n",
      " |-- ORDERLINENUMBER: integer (nullable = true)\n",
      " |-- SALES: double (nullable = true)\n",
      " |-- ORDERDATE: string (nullable = true)\n",
      " |-- STATUS: string (nullable = true)\n",
      " |-- QTR_ID: integer (nullable = true)\n",
      " |-- MONTH_ID: integer (nullable = true)\n",
      " |-- YEAR_ID: integer (nullable = true)\n",
      " |-- PRODUCTLINE: string (nullable = true)\n",
      " |-- MSRP: integer (nullable = true)\n",
      " |-- PRODUCTCODE: string (nullable = true)\n",
      " |-- CUSTOMERNAME: string (nullable = true)\n",
      " |-- PHONE: string (nullable = true)\n",
      " |-- ADDRESSLINE1: string (nullable = true)\n",
      " |-- ADDRESSLINE2: string (nullable = true)\n",
      " |-- CITY: string (nullable = true)\n",
      " |-- STATE: string (nullable = true)\n",
      " |-- POSTALCODE: string (nullable = true)\n",
      " |-- COUNTRY: string (nullable = true)\n",
      " |-- TERRITORY: string (nullable = true)\n",
      " |-- CONTACTLASTNAME: string (nullable = true)\n",
      " |-- CONTACTFIRSTNAME: string (nullable = true)\n",
      " |-- DEALSIZE: string (nullable = true)\n",
      "\n"
     ]
    }
   ],
   "source": [
    "df.printSchema()"
   ]
  },
  {
   "cell_type": "markdown",
   "metadata": {},
   "source": [
    "## Import some libraries we will need\n",
    "\n",
    "You will notice that some of these are pythonic which means they won't distribute accross our dataframe, but we will only use them on situations were distribution is not usually necessary. I always try to use PySpark functions where ever I can, but sometimes the functionality I need is not available. In these cases I lean back on my trusty Python libraries :)"
   ]
  },
  {
   "cell_type": "code",
   "execution_count": 7,
   "metadata": {},
   "outputs": [],
   "source": [
    "import matplotlib.pyplot as plt\n",
    "from mpl_toolkits.mplot3d import Axes3D\n",
    "from pyspark.sql.functions import col, avg\n",
    "from pyspark.ml.feature import VectorAssembler\n",
    "from pyspark.ml.clustering import GaussianMixture\n",
    "import numpy as np"
   ]
  },
  {
   "cell_type": "code",
   "execution_count": 9,
   "metadata": {},
   "outputs": [
    {
     "data": {
      "text/html": [
       "<div>\n",
       "<style scoped>\n",
       "    .dataframe tbody tr th:only-of-type {\n",
       "        vertical-align: middle;\n",
       "    }\n",
       "\n",
       "    .dataframe tbody tr th {\n",
       "        vertical-align: top;\n",
       "    }\n",
       "\n",
       "    .dataframe thead th {\n",
       "        text-align: right;\n",
       "    }\n",
       "</style>\n",
       "<table border=\"1\" class=\"dataframe\">\n",
       "  <thead>\n",
       "    <tr style=\"text-align: right;\">\n",
       "      <th></th>\n",
       "      <th>QUANTITYORDERED</th>\n",
       "      <th>PRICEEACH</th>\n",
       "      <th>SALES</th>\n",
       "    </tr>\n",
       "  </thead>\n",
       "  <tbody>\n",
       "    <tr>\n",
       "      <th>0</th>\n",
       "      <td>30</td>\n",
       "      <td>95.70</td>\n",
       "      <td>2871.00</td>\n",
       "    </tr>\n",
       "    <tr>\n",
       "      <th>1</th>\n",
       "      <td>34</td>\n",
       "      <td>81.35</td>\n",
       "      <td>2765.90</td>\n",
       "    </tr>\n",
       "    <tr>\n",
       "      <th>2</th>\n",
       "      <td>41</td>\n",
       "      <td>94.74</td>\n",
       "      <td>3884.34</td>\n",
       "    </tr>\n",
       "    <tr>\n",
       "      <th>3</th>\n",
       "      <td>45</td>\n",
       "      <td>83.26</td>\n",
       "      <td>3746.70</td>\n",
       "    </tr>\n",
       "    <tr>\n",
       "      <th>4</th>\n",
       "      <td>49</td>\n",
       "      <td>100.00</td>\n",
       "      <td>5205.27</td>\n",
       "    </tr>\n",
       "  </tbody>\n",
       "</table>\n",
       "</div>"
      ],
      "text/plain": [
       "   QUANTITYORDERED  PRICEEACH    SALES\n",
       "0               30      95.70  2871.00\n",
       "1               34      81.35  2765.90\n",
       "2               41      94.74  3884.34\n",
       "3               45      83.26  3746.70\n",
       "4               49     100.00  5205.27"
      ]
     },
     "execution_count": 9,
     "metadata": {},
     "output_type": "execute_result"
    }
   ],
   "source": [
    "# Fill in null values with average\n",
    "# Since this function passes in a df, we don't need to (and cannot) create a UDF for it\n",
    "# It will distribute accross our dataframe because the functions within the function are from PySpark\n",
    "def fill_with_mean(df, include=set()):\n",
    "    stats = df.agg(*(avg(c).alias(c) for c in df.columns if c in include))\n",
    "    #     stats = stats.select(*(col(c).cast(\"int\").alias(c) for c in stats.columns)) #IntegerType()\n",
    "    return df.na.fill(stats.first().asDict())\n",
    "\n",
    "\n",
    "cols_list = [\"QUANTITYORDERED\", \"PRICEEACH\", \"SALES\"]\n",
    "df = df.select(cols_list)\n",
    "columns = df.columns\n",
    "df = fill_with_mean(df, columns)\n",
    "df.limit(5).toPandas()"
   ]
  },
  {
   "cell_type": "markdown",
   "metadata": {},
   "source": [
    "Convert all input columns into a vector as usual"
   ]
  },
  {
   "cell_type": "code",
   "execution_count": 18,
   "metadata": {},
   "outputs": [
    {
     "name": "stdout",
     "output_type": "stream",
     "text": [
      "+---------------+---------+-------+--------------------+\n",
      "|QUANTITYORDERED|PRICEEACH|  SALES|            features|\n",
      "+---------------+---------+-------+--------------------+\n",
      "|             30|     95.7| 2871.0|  [30.0,95.7,2871.0]|\n",
      "|             34|    81.35| 2765.9| [34.0,81.35,2765.9]|\n",
      "|             41|    94.74|3884.34|[41.0,94.74,3884.34]|\n",
      "|             45|    83.26| 3746.7| [45.0,83.26,3746.7]|\n",
      "|             49|    100.0|5205.27|[49.0,100.0,5205.27]|\n",
      "|             36|    96.66|3479.76|[36.0,96.66,3479.76]|\n",
      "|             29|    86.13|2497.77|[29.0,86.13,2497.77]|\n",
      "|             48|    100.0|5512.32|[48.0,100.0,5512.32]|\n",
      "|             22|    98.57|2168.54|[22.0,98.57,2168.54]|\n",
      "|             41|    100.0|4708.44|[41.0,100.0,4708.44]|\n",
      "|             37|    100.0|3965.66|[37.0,100.0,3965.66]|\n",
      "|             23|    100.0|2333.12|[23.0,100.0,2333.12]|\n",
      "|             28|    100.0|3188.64|[28.0,100.0,3188.64]|\n",
      "|             34|    100.0|3676.76|[34.0,100.0,3676.76]|\n",
      "|             45|    92.83|4177.35|[45.0,92.83,4177.35]|\n",
      "|             36|    100.0|4099.68|[36.0,100.0,4099.68]|\n",
      "|             23|    100.0|2597.39|[23.0,100.0,2597.39]|\n",
      "|             41|    100.0|4394.38|[41.0,100.0,4394.38]|\n",
      "|             46|    94.74|4358.04|[46.0,94.74,4358.04]|\n",
      "|             42|    100.0|4396.14|[42.0,100.0,4396.14]|\n",
      "+---------------+---------+-------+--------------------+\n",
      "only showing top 20 rows\n",
      "\n"
     ]
    }
   ],
   "source": [
    "input_columns = df.columns  # Collect the column names as a list\n",
    "vecAssembler = VectorAssembler(inputCols=input_columns, outputCol=\"features\")\n",
    "final_df = vecAssembler.transform(df)\n",
    "final_df.show()"
   ]
  },
  {
   "cell_type": "markdown",
   "metadata": {},
   "source": [
    "## Determine optimal K"
   ]
  },
  {
   "cell_type": "code",
   "execution_count": 19,
   "metadata": {},
   "outputs": [],
   "source": [
    "kmax = 50\n",
    "ll = np.zeros(kmax)\n",
    "for k in range(2, kmax):\n",
    "    gm = GaussianMixture(k=k, tol=0.0001, maxIter=10, seed=10)\n",
    "    model = gm.fit(final_df)\n",
    "    summary = model.summary\n",
    "    ll[k] = summary.logLikelihood"
   ]
  },
  {
   "cell_type": "code",
   "execution_count": 20,
   "metadata": {},
   "outputs": [
    {
     "data": {
      "text/plain": [
       "Text(0, 0.5, 'll')"
      ]
     },
     "execution_count": 20,
     "metadata": {},
     "output_type": "execute_result"
    },
    {
     "data": {
      "image/png": "[encoded data removed]",
      "text/plain": [
       "<Figure size 800x600 with 1 Axes>"
      ]
     },
     "metadata": {},
     "output_type": "display_data"
    }
   ],
   "source": [
    "fig, ax = plt.subplots(1, 1, figsize=(8, 6))\n",
    "ax.plot(range(2, kmax), ll[2:kmax])\n",
    "ax.set_xlabel(\"k\")\n",
    "ax.set_ylabel(\"ll\")"
   ]
  },
  {
   "cell_type": "code",
   "execution_count": 21,
   "metadata": {},
   "outputs": [
    {
     "name": "stdout",
     "output_type": "stream",
     "text": [
      "Clusters:  5\n",
      "Cluster Sizes:  [21, 500, 1321, 606, 375]\n",
      "Log Likelihood:  -38536.03520287095\n",
      "Model Weights: : 5\n",
      "Means:  Row(mean=DenseVector([57.1921, 94.5371, 8600.5984]))\n",
      "Cov:  Row(cov=DenseMatrix(3, 3, [368.922, -23.1032, 17376.6617, -23.1032, 75.6298, 19941.3381, 17376.6617, 19941.3381, 11924651.5438], False))\n"
     ]
    }
   ],
   "source": [
    "# for the sake of speed and simplicity we will stick with k = 5\n",
    "gm = GaussianMixture(k=5, maxIter=10, seed=10)\n",
    "model = gm.fit(final_df)\n",
    "\n",
    "summary = model.summary\n",
    "print(\"Clusters: \", summary.k)\n",
    "print(\"Cluster Sizes: \", summary.clusterSizes)\n",
    "print(\"Log Likelihood: \", summary.logLikelihood)\n",
    "\n",
    "weights = model.weights\n",
    "print(\"Model Weights: :\", len(weights))\n",
    "\n",
    "print(\"Means: \", model.gaussiansDF.select(\"mean\").head())\n",
    "\n",
    "print(\"Cov: \", model.gaussiansDF.select(\"cov\").head())\n",
    "\n",
    "transformed = model.transform(final_df)  # .select(\"features\", \"prediction\")"
   ]
  },
  {
   "cell_type": "markdown",
   "metadata": {},
   "source": [
    "## Reflection\n",
    "\n",
    "Look at the 5 clusters that our model identified range in size quite a bit. There is one cluster that only has 7 cases in it as opposed to 1,307 in the largest cluster. If we were using this dataset to target customers, we may want to focus our efforts on the largest group first as we would have more bange for our buck. "
   ]
  },
  {
   "cell_type": "code",
   "execution_count": 22,
   "metadata": {},
   "outputs": [
    {
     "data": {
      "text/html": [
       "<div>\n",
       "<style scoped>\n",
       "    .dataframe tbody tr th:only-of-type {\n",
       "        vertical-align: middle;\n",
       "    }\n",
       "\n",
       "    .dataframe tbody tr th {\n",
       "        vertical-align: top;\n",
       "    }\n",
       "\n",
       "    .dataframe thead th {\n",
       "        text-align: right;\n",
       "    }\n",
       "</style>\n",
       "<table border=\"1\" class=\"dataframe\">\n",
       "  <thead>\n",
       "    <tr style=\"text-align: right;\">\n",
       "      <th></th>\n",
       "      <th>QUANTITYORDERED</th>\n",
       "      <th>PRICEEACH</th>\n",
       "      <th>SALES</th>\n",
       "      <th>features</th>\n",
       "      <th>probability</th>\n",
       "      <th>prediction</th>\n",
       "    </tr>\n",
       "  </thead>\n",
       "  <tbody>\n",
       "    <tr>\n",
       "      <th>0</th>\n",
       "      <td>30</td>\n",
       "      <td>95.70</td>\n",
       "      <td>2871.00</td>\n",
       "      <td>[30.0, 95.7, 2871.0]</td>\n",
       "      <td>[0.00012319578267814814, 3.165096578077064e-10...</td>\n",
       "      <td>3</td>\n",
       "    </tr>\n",
       "    <tr>\n",
       "      <th>1</th>\n",
       "      <td>34</td>\n",
       "      <td>81.35</td>\n",
       "      <td>2765.90</td>\n",
       "      <td>[34.0, 81.35, 2765.9]</td>\n",
       "      <td>[0.00010533648381889139, 0.0003406214189990852...</td>\n",
       "      <td>3</td>\n",
       "    </tr>\n",
       "    <tr>\n",
       "      <th>2</th>\n",
       "      <td>41</td>\n",
       "      <td>94.74</td>\n",
       "      <td>3884.34</td>\n",
       "      <td>[41.0, 94.74, 3884.34]</td>\n",
       "      <td>[0.0001387056507756689, 2.406405253782782e-05,...</td>\n",
       "      <td>4</td>\n",
       "    </tr>\n",
       "    <tr>\n",
       "      <th>3</th>\n",
       "      <td>45</td>\n",
       "      <td>83.26</td>\n",
       "      <td>3746.70</td>\n",
       "      <td>[45.0, 83.26, 3746.7]</td>\n",
       "      <td>[7.52931151353599e-05, 4.5788906790414644e-05,...</td>\n",
       "      <td>4</td>\n",
       "    </tr>\n",
       "    <tr>\n",
       "      <th>4</th>\n",
       "      <td>49</td>\n",
       "      <td>100.00</td>\n",
       "      <td>5205.27</td>\n",
       "      <td>[49.0, 100.0, 5205.27]</td>\n",
       "      <td>[0.00021276862280714313, 2.833230760746279e-10...</td>\n",
       "      <td>2</td>\n",
       "    </tr>\n",
       "    <tr>\n",
       "      <th>5</th>\n",
       "      <td>36</td>\n",
       "      <td>96.66</td>\n",
       "      <td>3479.76</td>\n",
       "      <td>[36.0, 96.66, 3479.76]</td>\n",
       "      <td>[0.0053272425312154694, 0.00013024432790413452...</td>\n",
       "      <td>4</td>\n",
       "    </tr>\n",
       "    <tr>\n",
       "      <th>6</th>\n",
       "      <td>29</td>\n",
       "      <td>86.13</td>\n",
       "      <td>2497.77</td>\n",
       "      <td>[29.0, 86.13, 2497.77]</td>\n",
       "      <td>[6.515802527983164e-05, 7.484417939349283e-10,...</td>\n",
       "      <td>3</td>\n",
       "    </tr>\n",
       "  </tbody>\n",
       "</table>\n",
       "</div>"
      ],
      "text/plain": [
       "   QUANTITYORDERED  PRICEEACH    SALES                features  \\\n",
       "0               30      95.70  2871.00    [30.0, 95.7, 2871.0]   \n",
       "1               34      81.35  2765.90   [34.0, 81.35, 2765.9]   \n",
       "2               41      94.74  3884.34  [41.0, 94.74, 3884.34]   \n",
       "3               45      83.26  3746.70   [45.0, 83.26, 3746.7]   \n",
       "4               49     100.00  5205.27  [49.0, 100.0, 5205.27]   \n",
       "5               36      96.66  3479.76  [36.0, 96.66, 3479.76]   \n",
       "6               29      86.13  2497.77  [29.0, 86.13, 2497.77]   \n",
       "\n",
       "                                         probability  prediction  \n",
       "0  [0.00012319578267814814, 3.165096578077064e-10...           3  \n",
       "1  [0.00010533648381889139, 0.0003406214189990852...           3  \n",
       "2  [0.0001387056507756689, 2.406405253782782e-05,...           4  \n",
       "3  [7.52931151353599e-05, 4.5788906790414644e-05,...           4  \n",
       "4  [0.00021276862280714313, 2.833230760746279e-10...           2  \n",
       "5  [0.0053272425312154694, 0.00013024432790413452...           4  \n",
       "6  [6.515802527983164e-05, 7.484417939349283e-10,...           3  "
      ]
     },
     "execution_count": 22,
     "metadata": {},
     "output_type": "execute_result"
    }
   ],
   "source": [
    "transformed.limit(7).toPandas()"
   ]
  },
  {
   "cell_type": "markdown",
   "metadata": {},
   "source": [
    "Let's see if we can try to learn something about our clusters!"
   ]
  },
  {
   "cell_type": "code",
   "execution_count": 23,
   "metadata": {
    "scrolled": true
   },
   "outputs": [
    {
     "name": "stdout",
     "output_type": "stream",
     "text": [
      "+---------------+---------+------+------------------+----------------------------------------------------------------------------------------------------------+----------+\n",
      "|QUANTITYORDERED|PRICEEACH|SALES |features          |probability                                                                                               |prediction|\n",
      "+---------------+---------+------+------------------+----------------------------------------------------------------------------------------------------------+----------+\n",
      "|30             |95.7     |2871.0|[30.0,95.7,2871.0]|[1.2319578267814814E-4,3.165096578077064E-10,3.139419657318812E-10,0.9998708129044579,5.99068241217983E-6]|3         |\n",
      "+---------------+---------+------+------------------+----------------------------------------------------------------------------------------------------------+----------+\n",
      "only showing top 1 row\n",
      "\n"
     ]
    }
   ],
   "source": [
    "transformed.show(1, False)"
   ]
  },
  {
   "cell_type": "code",
   "execution_count": 28,
   "metadata": {},
   "outputs": [
    {
     "name": "stdout",
     "output_type": "stream",
     "text": [
      "+----------+--------------+--------------------+-----------------+----------+\n",
      "|prediction|min(PRICEEACH)|min(QUANTITYORDERED)|count(prediction)|min(SALES)|\n",
      "+----------+--------------+--------------------+-----------------+----------+\n",
      "|         0|         66.99|                   6|               21|    541.14|\n",
      "|         1|         26.88|                  11|              500|    482.13|\n",
      "|         2|         98.18|                   6|             1321|    785.64|\n",
      "|         3|         51.15|                  10|              606|     881.4|\n",
      "|         4|          60.9|                  35|              375|   2783.25|\n",
      "+----------+--------------+--------------------+-----------------+----------+\n",
      "\n"
     ]
    }
   ],
   "source": [
    "transformed.groupBy(\"prediction\").agg(\n",
    "    {\n",
    "        \"prediction\": \"count\",\n",
    "        \"QUANTITYORDERED\": \"min\",\n",
    "        \"PRICEEACH\": \"min\",\n",
    "        \"SALES\": \"min\",\n",
    "    }\n",
    ").orderBy(\"prediction\").show()"
   ]
  },
  {
   "cell_type": "code",
   "execution_count": 29,
   "metadata": {},
   "outputs": [
    {
     "name": "stdout",
     "output_type": "stream",
     "text": [
      "+----------+--------------+--------------------+-----------------+----------+\n",
      "|prediction|max(PRICEEACH)|max(QUANTITYORDERED)|count(prediction)|max(SALES)|\n",
      "+----------+--------------+--------------------+-----------------+----------+\n",
      "|         0|         100.0|                  97|               21|   14082.8|\n",
      "|         1|          71.0|                  64|              500|    3880.2|\n",
      "|         2|         100.0|                  70|             1321|   10758.0|\n",
      "|         3|         99.04|                  39|              606|   3431.75|\n",
      "|         4|         99.55|                  59|              375|    5168.4|\n",
      "+----------+--------------+--------------------+-----------------+----------+\n",
      "\n"
     ]
    }
   ],
   "source": [
    "transformed.groupBy(\"prediction\").agg(\n",
    "    {\n",
    "        \"prediction\": \"count\",\n",
    "        \"QUANTITYORDERED\": \"max\",\n",
    "        \"PRICEEACH\": \"max\",\n",
    "        \"SALES\": \"max\",\n",
    "    }\n",
    ").orderBy(\"prediction\").show()"
   ]
  },
  {
   "cell_type": "code",
   "execution_count": 30,
   "metadata": {},
   "outputs": [
    {
     "name": "stdout",
     "output_type": "stream",
     "text": [
      "+----------+------------------+--------------------+-----------------+------------------+\n",
      "|prediction|    avg(PRICEEACH)|avg(QUANTITYORDERED)|count(prediction)|        avg(SALES)|\n",
      "+----------+------------------+--------------------+-----------------+------------------+\n",
      "|         0| 93.64809523809524|  59.904761904761905|               21| 8883.508095238098|\n",
      "|         1|49.456159999999954|              37.188|              500|1862.3539200000007|\n",
      "|         2| 99.98517032551098|  35.012869038607114|             1321| 4766.839182437543|\n",
      "|         3|  76.8291914191419|   27.32838283828383|              606|  2101.78193069307|\n",
      "|         4| 82.22527999999998|   43.73866666666667|              375| 3584.596826666667|\n",
      "+----------+------------------+--------------------+-----------------+------------------+\n",
      "\n"
     ]
    }
   ],
   "source": [
    "transformed.groupBy(\"prediction\").agg(\n",
    "    {\n",
    "        \"prediction\": \"count\",\n",
    "        \"QUANTITYORDERED\": \"mean\",\n",
    "        \"PRICEEACH\": \"mean\",\n",
    "        \"SALES\": \"mean\",\n",
    "    }\n",
    ").orderBy(\"prediction\").show()"
   ]
  },
  {
   "cell_type": "code",
   "execution_count": 31,
   "metadata": {},
   "outputs": [
    {
     "name": "stdout",
     "output_type": "stream",
     "text": [
      "Total Cases in this Cluster:  21\n"
     ]
    },
    {
     "data": {
      "text/html": [
       "<div>\n",
       "<style scoped>\n",
       "    .dataframe tbody tr th:only-of-type {\n",
       "        vertical-align: middle;\n",
       "    }\n",
       "\n",
       "    .dataframe tbody tr th {\n",
       "        vertical-align: top;\n",
       "    }\n",
       "\n",
       "    .dataframe thead th {\n",
       "        text-align: right;\n",
       "    }\n",
       "</style>\n",
       "<table border=\"1\" class=\"dataframe\">\n",
       "  <thead>\n",
       "    <tr style=\"text-align: right;\">\n",
       "      <th></th>\n",
       "      <th>summary</th>\n",
       "      <th>QUANTITYORDERED</th>\n",
       "      <th>PRICEEACH</th>\n",
       "      <th>SALES</th>\n",
       "      <th>prediction</th>\n",
       "    </tr>\n",
       "  </thead>\n",
       "  <tbody>\n",
       "    <tr>\n",
       "      <th>0</th>\n",
       "      <td>min</td>\n",
       "      <td>6</td>\n",
       "      <td>66.99</td>\n",
       "      <td>541.14</td>\n",
       "      <td>0</td>\n",
       "    </tr>\n",
       "    <tr>\n",
       "      <th>1</th>\n",
       "      <td>mean</td>\n",
       "      <td>59.904761904761905</td>\n",
       "      <td>93.64809523809524</td>\n",
       "      <td>8883.508095238098</td>\n",
       "      <td>0.0</td>\n",
       "    </tr>\n",
       "    <tr>\n",
       "      <th>2</th>\n",
       "      <td>max</td>\n",
       "      <td>97</td>\n",
       "      <td>100.0</td>\n",
       "      <td>14082.8</td>\n",
       "      <td>0</td>\n",
       "    </tr>\n",
       "  </tbody>\n",
       "</table>\n",
       "</div>"
      ],
      "text/plain": [
       "  summary     QUANTITYORDERED          PRICEEACH              SALES prediction\n",
       "0     min                   6              66.99             541.14          0\n",
       "1    mean  59.904761904761905  93.64809523809524  8883.508095238098        0.0\n",
       "2     max                  97              100.0            14082.8          0"
      ]
     },
     "execution_count": 31,
     "metadata": {},
     "output_type": "execute_result"
    }
   ],
   "source": [
    "limited = transformed.filter(\"prediction == 0\")\n",
    "aggregates = limited.summary(\"min\", \"mean\", \"max\")\n",
    "print(\"Total Cases in this Cluster: \", limited.count())\n",
    "aggregates.toPandas()"
   ]
  },
  {
   "cell_type": "markdown",
   "metadata": {},
   "source": [
    "# Conclusions\n",
    "\n",
    "Of the 5 clusters, the first one seems to buy for quality (highest price per item and max sales), while the last cluster seems to be the \"buy in bulk\" shoppers. Cluster 3 seems to be more of a bargain hunter (lowest price each and avg sales)."
   ]
  }
 ],
 "metadata": {
  "kernelspec": {
   "display_name": "Python 3 (ipykernel)",
   "language": "python",
   "name": "python3"
  },
  "language_info": {
   "codemirror_mode": {
    "name": "ipython",
    "version": 3
   },
   "file_extension": ".py",
   "mimetype": "text/x-python",
   "name": "python",
   "nbconvert_exporter": "python",
   "pygments_lexer": "ipython3",
   "version": "3.7.10"
  }
 },
 "nbformat": 4,
 "nbformat_minor": 2
}
