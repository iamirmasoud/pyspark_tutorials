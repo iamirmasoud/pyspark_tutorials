{
 "cells": [
  {
   "cell_type": "markdown",
   "metadata": {},
   "source": [
    "# NLP in Pyspark's MLlib Project Solution\n",
    "\n",
    "## Fake Job Posting Predictions\n",
    "\n",
    "Indeed.com has just hired you to create a system that automatically flags suspicious job postings on it's website. It has recently seen an influx of fake job postings that is negativley impacting it's customer experience. Becuase of the high volume of job postings it receives everyday, their employees don't have the capacity to check every posting so they would like an automated system that prioritizes which postings to review before deleting it. \n",
    "\n",
    "#### Your task\n",
    "Use the attached dataset to create an NLP alogorthim which automatically flags suspicious posts for review. \n",
    "\n",
    "#### The data\n",
    "This dataset contains 18K job descriptions out of which about 800 are fake. The data consists of both textual information and meta-information about the jobs.\n",
    "\n",
    "**Data Source:** https://www.kaggle.com/shivamb/real-or-fake-fake-jobposting-prediction\n",
    "\n",
    "#### My basic approach\n",
    "I think I will use just the job description variable (there are a few lengthier text variables we could have chosen from) for my analysis for now and think about the company profile for another analysis later on. Something that would be cool here would be to create multiple models that all work together to provide a recommendation or a score of how likley it is that a job posting is fake. "
   ]
  },
  {
   "cell_type": "code",
   "execution_count": 32,
   "metadata": {},
   "outputs": [
    {
     "name": "stdout",
     "output_type": "stream",
     "text": [
      "You are working with 1 core(s)\n"
     ]
    },
    {
     "data": {
      "text/html": [
       "\n",
       "            <div>\n",
       "                <p><b>SparkSession - in-memory</b></p>\n",
       "                \n",
       "        <div>\n",
       "            <p><b>SparkContext</b></p>\n",
       "\n",
       "            <p><a href=\"http://192.168.1.157:4040\">Spark UI</a></p>\n",
       "\n",
       "            <dl>\n",
       "              <dt>Version</dt>\n",
       "                <dd><code>v3.3.0</code></dd>\n",
       "              <dt>Master</dt>\n",
       "                <dd><code>local[*]</code></dd>\n",
       "              <dt>AppName</dt>\n",
       "                <dd><code>NLP</code></dd>\n",
       "            </dl>\n",
       "        </div>\n",
       "        \n",
       "            </div>\n",
       "        "
      ],
      "text/plain": [
       "<pyspark.sql.session.SparkSession at 0x7f01bcd85090>"
      ]
     },
     "execution_count": 32,
     "metadata": {},
     "output_type": "execute_result"
    }
   ],
   "source": [
    "# First let's create our PySpark instance\n",
    "# import findspark\n",
    "# findspark.init()\n",
    "\n",
    "import pyspark  # only run after findspark.init()\n",
    "from pyspark.sql import SparkSession\n",
    "\n",
    "# May take awhile locally\n",
    "spark = SparkSession.builder.appName(\"NLP\").getOrCreate()\n",
    "\n",
    "cores = spark._jsc.sc().getExecutorMemoryStatus().keySet().size()\n",
    "print(\"You are working with\", cores, \"core(s)\")\n",
    "spark"
   ]
  },
  {
   "cell_type": "markdown",
   "metadata": {},
   "source": [
    "**Read in dependencies**"
   ]
  },
  {
   "cell_type": "code",
   "execution_count": 33,
   "metadata": {},
   "outputs": [],
   "source": [
    "from pyspark.ml.feature import (\n",
    "    MinMaxScaler,\n",
    "    CountVectorizer,\n",
    "    StringIndexer,\n",
    "    RegexTokenizer,\n",
    "    StopWordsRemover,\n",
    "    HashingTF,\n",
    "    IDF,\n",
    "    Word2Vec,\n",
    ")\n",
    "from pyspark.sql.functions import (\n",
    "    col,\n",
    "    udf,\n",
    "    regexp_replace,\n",
    "    isnull,\n",
    "    translate,\n",
    "    lower,\n",
    "    countDistinct,\n",
    ")\n",
    "from pyspark.sql.types import StringType, IntegerType\n",
    "from pyspark.ml.classification import (\n",
    "    LogisticRegression,\n",
    "    OneVsRest,\n",
    "    MultilayerPerceptronClassifier,\n",
    "    NaiveBayes,\n",
    "    LinearSVC,\n",
    "    RandomForestClassifier,\n",
    "    DecisionTreeClassifier,\n",
    "    GBTClassifier,\n",
    ")\n",
    "from pyspark.ml.evaluation import (\n",
    "    BinaryClassificationEvaluator,\n",
    "    MulticlassClassificationEvaluator,\n",
    ")\n",
    "from pyspark.ml.tuning import CrossValidator, ParamGridBuilder\n",
    "\n",
    "# For pipeline development\n",
    "from pyspark.ml import Pipeline"
   ]
  },
  {
   "cell_type": "markdown",
   "metadata": {},
   "source": [
    "**And the dataset**"
   ]
  },
  {
   "cell_type": "code",
   "execution_count": 34,
   "metadata": {},
   "outputs": [],
   "source": [
    "path = \"Datasets/\"\n",
    "\n",
    "# CSV\n",
    "postings = spark.read.csv(path + \"fake_job_postings.csv\", inferSchema=True, header=True)"
   ]
  },
  {
   "cell_type": "markdown",
   "metadata": {},
   "source": [
    "**View the data for QA**"
   ]
  },
  {
   "cell_type": "code",
   "execution_count": 35,
   "metadata": {},
   "outputs": [
    {
     "data": {
      "text/html": [
       "<div>\n",
       "<style scoped>\n",
       "    .dataframe tbody tr th:only-of-type {\n",
       "        vertical-align: middle;\n",
       "    }\n",
       "\n",
       "    .dataframe tbody tr th {\n",
       "        vertical-align: top;\n",
       "    }\n",
       "\n",
       "    .dataframe thead th {\n",
       "        text-align: right;\n",
       "    }\n",
       "</style>\n",
       "<table border=\"1\" class=\"dataframe\">\n",
       "  <thead>\n",
       "    <tr style=\"text-align: right;\">\n",
       "      <th></th>\n",
       "      <th>job_id</th>\n",
       "      <th>title</th>\n",
       "      <th>location</th>\n",
       "      <th>department</th>\n",
       "      <th>salary_range</th>\n",
       "      <th>company_profile</th>\n",
       "      <th>description</th>\n",
       "      <th>requirements</th>\n",
       "      <th>benefits</th>\n",
       "      <th>telecommuting</th>\n",
       "      <th>has_company_logo</th>\n",
       "      <th>has_questions</th>\n",
       "      <th>employment_type</th>\n",
       "      <th>required_experience</th>\n",
       "      <th>required_education</th>\n",
       "      <th>industry</th>\n",
       "      <th>function</th>\n",
       "      <th>fraudulent</th>\n",
       "    </tr>\n",
       "  </thead>\n",
       "  <tbody>\n",
       "    <tr>\n",
       "      <th>0</th>\n",
       "      <td>1</td>\n",
       "      <td>Marketing Intern</td>\n",
       "      <td>US, NY, New York</td>\n",
       "      <td>Marketing</td>\n",
       "      <td>None</td>\n",
       "      <td>We're Food52, and we've created a groundbreaki...</td>\n",
       "      <td>Food52, a fast-growing, James Beard Award-winn...</td>\n",
       "      <td>Experience with content management systems a m...</td>\n",
       "      <td>None</td>\n",
       "      <td>0</td>\n",
       "      <td>1</td>\n",
       "      <td>0</td>\n",
       "      <td>Other</td>\n",
       "      <td>Internship</td>\n",
       "      <td>None</td>\n",
       "      <td>None</td>\n",
       "      <td>Marketing</td>\n",
       "      <td>0</td>\n",
       "    </tr>\n",
       "    <tr>\n",
       "      <th>1</th>\n",
       "      <td>2</td>\n",
       "      <td>Customer Service - Cloud Video Production</td>\n",
       "      <td>NZ, , Auckland</td>\n",
       "      <td>Success</td>\n",
       "      <td>None</td>\n",
       "      <td>90 Seconds, the worlds Cloud Video Production ...</td>\n",
       "      <td>Organised - Focused - Vibrant - Awesome!Do you...</td>\n",
       "      <td>What we expect from you:Your key responsibilit...</td>\n",
       "      <td>What you will get from usThrough being part of...</td>\n",
       "      <td>0</td>\n",
       "      <td>1</td>\n",
       "      <td>0</td>\n",
       "      <td>Full-time</td>\n",
       "      <td>Not Applicable</td>\n",
       "      <td>None</td>\n",
       "      <td>Marketing and Advertising</td>\n",
       "      <td>Customer Service</td>\n",
       "      <td>0</td>\n",
       "    </tr>\n",
       "    <tr>\n",
       "      <th>2</th>\n",
       "      <td>3</td>\n",
       "      <td>Commissioning Machinery Assistant (CMA)</td>\n",
       "      <td>US, IA, Wever</td>\n",
       "      <td>None</td>\n",
       "      <td>None</td>\n",
       "      <td>Valor Services provides Workforce Solutions th...</td>\n",
       "      <td>Our client, located in Houston, is actively se...</td>\n",
       "      <td>Implement pre-commissioning and commissioning ...</td>\n",
       "      <td>None</td>\n",
       "      <td>0</td>\n",
       "      <td>1</td>\n",
       "      <td>0</td>\n",
       "      <td>None</td>\n",
       "      <td>None</td>\n",
       "      <td>None</td>\n",
       "      <td>None</td>\n",
       "      <td>None</td>\n",
       "      <td>0</td>\n",
       "    </tr>\n",
       "    <tr>\n",
       "      <th>3</th>\n",
       "      <td>4</td>\n",
       "      <td>Account Executive - Washington DC</td>\n",
       "      <td>US, DC, Washington</td>\n",
       "      <td>Sales</td>\n",
       "      <td>None</td>\n",
       "      <td>Our passion for improving quality of life thro...</td>\n",
       "      <td>THE COMPANY: ESRI – Environmental Systems Rese...</td>\n",
       "      <td>EDUCATION: Bachelor’s or Master’s in GIS, busi...</td>\n",
       "      <td>Our culture is anything but corporate—we have ...</td>\n",
       "      <td>0</td>\n",
       "      <td>1</td>\n",
       "      <td>0</td>\n",
       "      <td>Full-time</td>\n",
       "      <td>Mid-Senior level</td>\n",
       "      <td>Bachelor's Degree</td>\n",
       "      <td>Computer Software</td>\n",
       "      <td>Sales</td>\n",
       "      <td>0</td>\n",
       "    </tr>\n",
       "  </tbody>\n",
       "</table>\n",
       "</div>"
      ],
      "text/plain": [
       "   job_id                                      title            location  \\\n",
       "0       1                           Marketing Intern    US, NY, New York   \n",
       "1       2  Customer Service - Cloud Video Production      NZ, , Auckland   \n",
       "2       3    Commissioning Machinery Assistant (CMA)       US, IA, Wever   \n",
       "3       4          Account Executive - Washington DC  US, DC, Washington   \n",
       "\n",
       "  department salary_range                                    company_profile  \\\n",
       "0  Marketing         None  We're Food52, and we've created a groundbreaki...   \n",
       "1    Success         None  90 Seconds, the worlds Cloud Video Production ...   \n",
       "2       None         None  Valor Services provides Workforce Solutions th...   \n",
       "3      Sales         None  Our passion for improving quality of life thro...   \n",
       "\n",
       "                                         description  \\\n",
       "0  Food52, a fast-growing, James Beard Award-winn...   \n",
       "1  Organised - Focused - Vibrant - Awesome!Do you...   \n",
       "2  Our client, located in Houston, is actively se...   \n",
       "3  THE COMPANY: ESRI – Environmental Systems Rese...   \n",
       "\n",
       "                                        requirements  \\\n",
       "0  Experience with content management systems a m...   \n",
       "1  What we expect from you:Your key responsibilit...   \n",
       "2  Implement pre-commissioning and commissioning ...   \n",
       "3  EDUCATION: Bachelor’s or Master’s in GIS, busi...   \n",
       "\n",
       "                                            benefits telecommuting  \\\n",
       "0                                               None             0   \n",
       "1  What you will get from usThrough being part of...             0   \n",
       "2                                               None             0   \n",
       "3  Our culture is anything but corporate—we have ...             0   \n",
       "\n",
       "  has_company_logo has_questions employment_type required_experience  \\\n",
       "0                1             0           Other          Internship   \n",
       "1                1             0       Full-time      Not Applicable   \n",
       "2                1             0            None                None   \n",
       "3                1             0       Full-time    Mid-Senior level   \n",
       "\n",
       "  required_education                   industry          function fraudulent  \n",
       "0               None                       None         Marketing          0  \n",
       "1               None  Marketing and Advertising  Customer Service          0  \n",
       "2               None                       None              None          0  \n",
       "3  Bachelor's Degree          Computer Software             Sales          0  "
      ]
     },
     "execution_count": 35,
     "metadata": {},
     "output_type": "execute_result"
    }
   ],
   "source": [
    "postings.limit(4).toPandas()"
   ]
  },
  {
   "cell_type": "code",
   "execution_count": 36,
   "metadata": {},
   "outputs": [
    {
     "name": "stdout",
     "output_type": "stream",
     "text": [
      "+------+-----------------+---------------+----------+------------+--------------------------------------------------------------------------------------------------------------------------------------------------------------------------------------------------------------------------------------------------------------------------------------------------------------------------------------------------------------------------------------------------------------------------------------------------------------------------------------------------------------------------------------------------------------------------------------------------------------------------------------------------------------------------------------------------------------------------------------------------------------------------------------------------------------------------------------------------------------------------------------------------------------------------------------------------------------------------------------------------------------------------------------------------------------------------------------------------------------+---------------------------------------------------------------------------------------------------------------------------------------------------------------------------------------------------------------------------+---------------------------------------------------------------------------------------------------------------------------------------------------------------------------------------------------------------------------------------------------------------------------------------------------------------------------------------------------------------------------------------------------------------------------------------------------------------------------------------------------------------------------------------------------------------------------------------------------------------------------------------------------------------------------------------------------+----------------------------------------------------------------------------------------------------------------------------------------------+-------------+---------------------------------------------------------------------------------------------------------------------------------------------------------------------------------+-------------+---------------+--------------------------------------------------------------------------------------------------------------------------------------------------------------------------------------------------+-------------------------------------------------------------------------------------------------------------------------------------------------------------------------------------------------------------------------------------------------------------------------------------------------------------------------------------------------------------------------------------------------------------------------------------------------------------------------------------------------------------------------------------------------------------------------------------------------------------------------------------------------------------------------------------------------------------------------------------------------------------------------------------------------------------------------------------------------------------------------------------------------------------------------------------------------------------------------------------------------------------------------------------------------------------------------------------------------------------------------------------------------------------------------------------------------------------------------------------------------------------------------------------------------------------------------------------------------------------------------------------------------------------------------------------------------------------------------------------------------------------------------------------------------------------------------------------------------------------------------------------------------------------------+--------+--------+----------+\n",
      "|job_id|title            |location       |department|salary_range|company_profile                                                                                                                                                                                                                                                                                                                                                                                                                                                                                                                                                                                                                                                                                                                                                                                                                                                                                                                                                                                                                                                                                               |description                                                                                                                                                                                                                |requirements                                                                                                                                                                                                                                                                                                                                                                                                                                                                                                                                                                                                                                                                                       |benefits                                                                                                                                      |telecommuting|has_company_logo                                                                                                                                                                 |has_questions|employment_type|required_experience                                                                                                                                                                               |required_education                                                                                                                                                                                                                                                                                                                                                                                                                                                                                                                                                                                                                                                                                                                                                                                                                                                                                                                                                                                                                                                                                                                                                                                                                                                                                                                                                                                                                                                                                                                                                                                                                                                 |industry|function|fraudulent|\n",
      "+------+-----------------+---------------+----------+------------+--------------------------------------------------------------------------------------------------------------------------------------------------------------------------------------------------------------------------------------------------------------------------------------------------------------------------------------------------------------------------------------------------------------------------------------------------------------------------------------------------------------------------------------------------------------------------------------------------------------------------------------------------------------------------------------------------------------------------------------------------------------------------------------------------------------------------------------------------------------------------------------------------------------------------------------------------------------------------------------------------------------------------------------------------------------------------------------------------------------+---------------------------------------------------------------------------------------------------------------------------------------------------------------------------------------------------------------------------+---------------------------------------------------------------------------------------------------------------------------------------------------------------------------------------------------------------------------------------------------------------------------------------------------------------------------------------------------------------------------------------------------------------------------------------------------------------------------------------------------------------------------------------------------------------------------------------------------------------------------------------------------------------------------------------------------+----------------------------------------------------------------------------------------------------------------------------------------------+-------------+---------------------------------------------------------------------------------------------------------------------------------------------------------------------------------+-------------+---------------+--------------------------------------------------------------------------------------------------------------------------------------------------------------------------------------------------+-------------------------------------------------------------------------------------------------------------------------------------------------------------------------------------------------------------------------------------------------------------------------------------------------------------------------------------------------------------------------------------------------------------------------------------------------------------------------------------------------------------------------------------------------------------------------------------------------------------------------------------------------------------------------------------------------------------------------------------------------------------------------------------------------------------------------------------------------------------------------------------------------------------------------------------------------------------------------------------------------------------------------------------------------------------------------------------------------------------------------------------------------------------------------------------------------------------------------------------------------------------------------------------------------------------------------------------------------------------------------------------------------------------------------------------------------------------------------------------------------------------------------------------------------------------------------------------------------------------------------------------------------------------------+--------+--------+----------+\n",
      "|66    |Digital Developer|NZ, N, Auckland|null      |60-80       |TELL is a digital creative agency.It’s not just who you know, it’s how you get to know them.We live in what we call the Age of Connection. With digital tools and technology and the explosion of social media, people have interpersonal connections and – more importantly for you – connections to brands in ways that they have never had before.With two or three ‘clicks’ (or ‘taps’) they can be talking to you. And equally – lest we forget – with a single click they can disconnect.This is where we work.We work with brands and their partner agencies to build those connections and we do it in many ways.We work strategically. The brand has primacy and we hold to that ensuring that the language and values of the brand are maintained at each touchpoint.We look for opportunities, we create opportunities and we manage those opportunities from beginning to end.And we tell stories. Because that, for us, is the heart of good communication – storytelling.We do it creatively, we do it seamlessly and we do it, on occasion, with a smiling guile and cunning.That’s what we do.|We are a boutique digital agency based in Auckland, serving a wide range of clients including some of New Zealand's best known and most loved consumer brands. We have an immediate need for a promising digital developer.|\"You will be:A master of HTML5/CSS3Knowledgable in Javascript, with experience using libraries such as jQueryProficient with Photoshop / IllustratorHave a basic understanding of PHP, MySQL and basic server-side technology.Experience with using third party APIs (eg, Facebook Open Graph)Up to date on web trends, and the latest with technology (web, mobile and beyond).Experienced in responsive web design, using media queries to maximise cross-device usabilityAnd as a person, you will be:Obsessive about detail, and applying the last 10% of polish to everything you deliver.Able to function independently and still work well in a \"\"team oriented\"\" environment.Self-motivated| and able to multi-task.Able to take initiative to be productive and efficient.Zen-like in the face of expected and unexpected client feedback| amends      | refinements and revisions.Bonus points for:Experience with Greensock JS animation libraryFamiliarity with #URL_968b3a839b798052f33a95a811f8b2366cd66f6bcc98f2885bea5ee47d000659#| MeteorJS    | PhoneGap      | MODx CMSExperience with LESS or similar CSS pre-processorStrong communication skills (both in person and in writing) while interacting with individuals with a range of technical understanding.\"|60-80K salary, based on experienceSouthern Cross Health InsuranceA fully stocked drinks fridge -- with beer, wine and soft drinks... snacks, and all the Whittaker's chocolate you can eat!Team lunch on FridaysBeyond the basicsWork/life balance - while we're a young and ambitious agency and getting things done remains a top priority; we strive for a great work/life balance (and recognise and reward hustle when it's needed)Everyone is 'creative' - we don't practice creative disenfranchisement here, we firmly believe that great ideas can come from anywhere.. and especially from developers like yourself. You'll be part of the project and at at the table to share your ideas from day one.Skills development - digital is constantly evolving.. so should you. We'll invest in and provide you with opportunities (external and internal) so you can keep developing your skills, discovering new technologies, languages and approaches to working.Meaningful work - work is inevitably going to take up a large chunk of your life.. having a real passion for digital leads our aim to only deliver work that is worthwhile, has a real purpose and that you as a maker can be genuinely proud of having a hand in.Great clients - it's fair to say we only work with the best and count companies like Whittaker's, Griffin's and Z Energy as our trusted partners and friends.Adventure - it's a wild, fast moving, interesting world... we're not your boring web dev shop or locked-in-their-processes global agency. We're dead set keen to try new things, take risks and deliver on the cutting edge. Hack now - apologise later.|0       |1       |1         |\n",
      "+------+-----------------+---------------+----------+------------+--------------------------------------------------------------------------------------------------------------------------------------------------------------------------------------------------------------------------------------------------------------------------------------------------------------------------------------------------------------------------------------------------------------------------------------------------------------------------------------------------------------------------------------------------------------------------------------------------------------------------------------------------------------------------------------------------------------------------------------------------------------------------------------------------------------------------------------------------------------------------------------------------------------------------------------------------------------------------------------------------------------------------------------------------------------------------------------------------------------+---------------------------------------------------------------------------------------------------------------------------------------------------------------------------------------------------------------------------+---------------------------------------------------------------------------------------------------------------------------------------------------------------------------------------------------------------------------------------------------------------------------------------------------------------------------------------------------------------------------------------------------------------------------------------------------------------------------------------------------------------------------------------------------------------------------------------------------------------------------------------------------------------------------------------------------+----------------------------------------------------------------------------------------------------------------------------------------------+-------------+---------------------------------------------------------------------------------------------------------------------------------------------------------------------------------+-------------+---------------+--------------------------------------------------------------------------------------------------------------------------------------------------------------------------------------------------+-------------------------------------------------------------------------------------------------------------------------------------------------------------------------------------------------------------------------------------------------------------------------------------------------------------------------------------------------------------------------------------------------------------------------------------------------------------------------------------------------------------------------------------------------------------------------------------------------------------------------------------------------------------------------------------------------------------------------------------------------------------------------------------------------------------------------------------------------------------------------------------------------------------------------------------------------------------------------------------------------------------------------------------------------------------------------------------------------------------------------------------------------------------------------------------------------------------------------------------------------------------------------------------------------------------------------------------------------------------------------------------------------------------------------------------------------------------------------------------------------------------------------------------------------------------------------------------------------------------------------------------------------------------------+--------+--------+----------+\n",
      "only showing top 1 row\n",
      "\n"
     ]
    }
   ],
   "source": [
    "# Let's read a full line of data of fradulent postings\n",
    "postings.filter(\"fraudulent=1\").show(1, False)\n",
    "# These look good!"
   ]
  },
  {
   "cell_type": "code",
   "execution_count": 37,
   "metadata": {},
   "outputs": [
    {
     "name": "stdout",
     "output_type": "stream",
     "text": [
      "root\n",
      " |-- job_id: integer (nullable = true)\n",
      " |-- title: string (nullable = true)\n",
      " |-- location: string (nullable = true)\n",
      " |-- department: string (nullable = true)\n",
      " |-- salary_range: string (nullable = true)\n",
      " |-- company_profile: string (nullable = true)\n",
      " |-- description: string (nullable = true)\n",
      " |-- requirements: string (nullable = true)\n",
      " |-- benefits: string (nullable = true)\n",
      " |-- telecommuting: string (nullable = true)\n",
      " |-- has_company_logo: string (nullable = true)\n",
      " |-- has_questions: string (nullable = true)\n",
      " |-- employment_type: string (nullable = true)\n",
      " |-- required_experience: string (nullable = true)\n",
      " |-- required_education: string (nullable = true)\n",
      " |-- industry: string (nullable = true)\n",
      " |-- function: string (nullable = true)\n",
      " |-- fraudulent: string (nullable = true)\n",
      "\n"
     ]
    }
   ],
   "source": [
    "postings.printSchema()"
   ]
  },
  {
   "cell_type": "markdown",
   "metadata": {},
   "source": [
    "**See how many rows are in the df**"
   ]
  },
  {
   "cell_type": "code",
   "execution_count": 38,
   "metadata": {},
   "outputs": [
    {
     "data": {
      "text/plain": [
       "17880"
      ]
     },
     "execution_count": 38,
     "metadata": {},
     "output_type": "execute_result"
    }
   ],
   "source": [
    "postings.count()"
   ]
  },
  {
   "cell_type": "markdown",
   "metadata": {},
   "source": [
    "## Null Values?"
   ]
  },
  {
   "cell_type": "code",
   "execution_count": 39,
   "metadata": {},
   "outputs": [
    {
     "name": "stdout",
     "output_type": "stream",
     "text": [
      "+-------------------+-----------------+--------------------+\n",
      "|        Column_Name|Null_Values_Count|  Null_Value_Percent|\n",
      "+-------------------+-----------------+--------------------+\n",
      "|           location|              346|  1.9351230425055927|\n",
      "|         department|            11547|   64.58053691275167|\n",
      "|       salary_range|            15011|   83.95413870246085|\n",
      "|    company_profile|             3308|  18.501118568232663|\n",
      "|        description|                1|0.005592841163310962|\n",
      "|       requirements|             2573|  14.390380313199106|\n",
      "|           benefits|             6966|   38.95973154362416|\n",
      "|      telecommuting|               89| 0.49776286353467564|\n",
      "|   has_company_logo|               29|  0.1621923937360179|\n",
      "|      has_questions|               30| 0.16778523489932887|\n",
      "|    employment_type|             3292|   18.41163310961969|\n",
      "|required_experience|             6723|  37.600671140939596|\n",
      "| required_education|             7748|  43.333333333333336|\n",
      "|           industry|             4831|  27.019015659955258|\n",
      "|           function|             6317|   35.32997762863535|\n",
      "|         fraudulent|              176|  0.9843400447427294|\n",
      "+-------------------+-----------------+--------------------+\n",
      "\n"
     ]
    }
   ],
   "source": [
    "from pyspark.sql.functions import *\n",
    "\n",
    "\n",
    "def null_value_calc(df):\n",
    "    null_columns_counts = []\n",
    "    numRows = df.count()\n",
    "    for k in df.columns:\n",
    "        nullRows = df.where(col(k).isNull()).count()\n",
    "        if nullRows > 0:\n",
    "            temp = k, nullRows, (nullRows / numRows) * 100\n",
    "            null_columns_counts.append(temp)\n",
    "    return null_columns_counts\n",
    "\n",
    "\n",
    "null_columns_calc_list = null_value_calc(postings)\n",
    "spark.createDataFrame(\n",
    "    null_columns_calc_list, [\"Column_Name\", \"Null_Values_Count\", \"Null_Value_Percent\"]\n",
    ").show()"
   ]
  },
  {
   "cell_type": "markdown",
   "metadata": {},
   "source": [
    "Quite a bit of missing data here. We better be careful dropping"
   ]
  },
  {
   "cell_type": "code",
   "execution_count": 40,
   "metadata": {},
   "outputs": [
    {
     "name": "stdout",
     "output_type": "stream",
     "text": [
      "Total Null Rows: 17094\n",
      "Percentage Null Rows 0.9560402684563758\n"
     ]
    }
   ],
   "source": [
    "# Let's see how much total\n",
    "og_len = postings.count()\n",
    "drop_len = postings.na.drop().count()\n",
    "print(\"Total Null Rows:\", og_len - drop_len)\n",
    "print(\"Percentage Null Rows\", (og_len - drop_len) / og_len)"
   ]
  },
  {
   "cell_type": "markdown",
   "metadata": {},
   "source": [
    "Wawwww 95% is wayyyy too much. Better find a better approach."
   ]
  },
  {
   "cell_type": "code",
   "execution_count": 41,
   "metadata": {},
   "outputs": [],
   "source": [
    "# How about by subset by just the vars we need for now.\n",
    "df = postings.na.drop(subset=[\"fraudulent\", \"description\"])"
   ]
  },
  {
   "cell_type": "markdown",
   "metadata": {},
   "source": [
    "**Much better**"
   ]
  },
  {
   "cell_type": "code",
   "execution_count": 42,
   "metadata": {},
   "outputs": [
    {
     "data": {
      "text/plain": [
       "17704"
      ]
     },
     "execution_count": 42,
     "metadata": {},
     "output_type": "execute_result"
    }
   ],
   "source": [
    "df.count()"
   ]
  },
  {
   "cell_type": "code",
   "execution_count": 43,
   "metadata": {},
   "outputs": [
    {
     "name": "stdout",
     "output_type": "stream",
     "text": [
      "+--------------------+-----+\n",
      "|          fraudulent|count|\n",
      "+--------------------+-----+\n",
      "|                   0|16080|\n",
      "|                   1|  886|\n",
      "|           Full-time|   73|\n",
      "|Hospital & Health...|   55|\n",
      "|   Bachelor's Degree|   53|\n",
      "|         Engineering|   26|\n",
      "| perform quality ...|   17|\n",
      "|         Unspecified|   15|\n",
      "+--------------------+-----+\n",
      "only showing top 8 rows\n",
      "\n"
     ]
    }
   ],
   "source": [
    "# Quick data quality check on the dependent var....\n",
    "# This should be a binary outcome (0 or 1)\n",
    "df.groupBy(\"fraudulent\").count().orderBy(col(\"count\").desc()).show(8)"
   ]
  },
  {
   "cell_type": "markdown",
   "metadata": {},
   "source": [
    "We can see from the query above that we have some invalid data in the label (fraudulent) column. Let's delete those."
   ]
  },
  {
   "cell_type": "code",
   "execution_count": 44,
   "metadata": {},
   "outputs": [
    {
     "name": "stdout",
     "output_type": "stream",
     "text": [
      "+----------+-----+\n",
      "|fraudulent|count|\n",
      "+----------+-----+\n",
      "|0         |16080|\n",
      "|1         |886  |\n",
      "+----------+-----+\n",
      "\n"
     ]
    }
   ],
   "source": [
    "df = df.filter(\"fraudulent IN('0','1')\")\n",
    "# QA again\n",
    "df.groupBy(\"fraudulent\").count().show(truncate=False)"
   ]
  },
  {
   "cell_type": "markdown",
   "metadata": {},
   "source": [
    "### Balance the signal\n",
    "\n",
    "The other thing I want to do is resample the dataframe so I get a better signal from the data since there is not many fraudulent cases. I mentioned class imbalance earlier on, but we haven't come accross a good example yet. This is a good one where we see that the ratio between the fraudent cases and the real cases is extremley unbalanced. So undersampling the non-fradulent cases will help with that. \n",
    "\n",
    "Luckily, Spark has a cool built in function for this called sampleby to accomplish this. "
   ]
  },
  {
   "cell_type": "code",
   "execution_count": 45,
   "metadata": {},
   "outputs": [
    {
     "name": "stdout",
     "output_type": "stream",
     "text": [
      "+----------+-----+\n",
      "|fraudulent|count|\n",
      "+----------+-----+\n",
      "|0         |6323 |\n",
      "|1         |886  |\n",
      "+----------+-----+\n",
      "\n"
     ]
    }
   ],
   "source": [
    "df = df.sampleBy(\"fraudulent\", fractions={\"0\": 0.4, \"1\": 1.0}, seed=10)\n",
    "# QA again\n",
    "df.groupBy(\"fraudulent\").count().show(truncate=False)"
   ]
  },
  {
   "cell_type": "markdown",
   "metadata": {},
   "source": [
    "That's better!"
   ]
  },
  {
   "cell_type": "markdown",
   "metadata": {},
   "source": [
    "### Encode the label column"
   ]
  },
  {
   "cell_type": "code",
   "execution_count": 46,
   "metadata": {},
   "outputs": [
    {
     "data": {
      "text/html": [
       "<div>\n",
       "<style scoped>\n",
       "    .dataframe tbody tr th:only-of-type {\n",
       "        vertical-align: middle;\n",
       "    }\n",
       "\n",
       "    .dataframe tbody tr th {\n",
       "        vertical-align: top;\n",
       "    }\n",
       "\n",
       "    .dataframe thead th {\n",
       "        text-align: right;\n",
       "    }\n",
       "</style>\n",
       "<table border=\"1\" class=\"dataframe\">\n",
       "  <thead>\n",
       "    <tr style=\"text-align: right;\">\n",
       "      <th></th>\n",
       "      <th>job_id</th>\n",
       "      <th>title</th>\n",
       "      <th>location</th>\n",
       "      <th>department</th>\n",
       "      <th>salary_range</th>\n",
       "      <th>company_profile</th>\n",
       "      <th>description</th>\n",
       "      <th>requirements</th>\n",
       "      <th>benefits</th>\n",
       "      <th>telecommuting</th>\n",
       "      <th>has_company_logo</th>\n",
       "      <th>has_questions</th>\n",
       "      <th>employment_type</th>\n",
       "      <th>required_experience</th>\n",
       "      <th>required_education</th>\n",
       "      <th>industry</th>\n",
       "      <th>function</th>\n",
       "      <th>fraudulent</th>\n",
       "      <th>label</th>\n",
       "    </tr>\n",
       "  </thead>\n",
       "  <tbody>\n",
       "    <tr>\n",
       "      <th>0</th>\n",
       "      <td>1</td>\n",
       "      <td>Marketing Intern</td>\n",
       "      <td>US, NY, New York</td>\n",
       "      <td>Marketing</td>\n",
       "      <td>None</td>\n",
       "      <td>We're Food52, and we've created a groundbreaki...</td>\n",
       "      <td>Food52, a fast-growing, James Beard Award-winn...</td>\n",
       "      <td>Experience with content management systems a m...</td>\n",
       "      <td>None</td>\n",
       "      <td>0</td>\n",
       "      <td>1</td>\n",
       "      <td>0</td>\n",
       "      <td>Other</td>\n",
       "      <td>Internship</td>\n",
       "      <td>None</td>\n",
       "      <td>None</td>\n",
       "      <td>Marketing</td>\n",
       "      <td>0</td>\n",
       "      <td>0.0</td>\n",
       "    </tr>\n",
       "    <tr>\n",
       "      <th>1</th>\n",
       "      <td>5</td>\n",
       "      <td>Bill Review Manager</td>\n",
       "      <td>US, FL, Fort Worth</td>\n",
       "      <td>None</td>\n",
       "      <td>None</td>\n",
       "      <td>SpotSource Solutions LLC is a Global Human Cap...</td>\n",
       "      <td>JOB TITLE: Itemization Review ManagerLOCATION:...</td>\n",
       "      <td>QUALIFICATIONS:RN license in the State of Texa...</td>\n",
       "      <td>Full Benefits Offered</td>\n",
       "      <td>0</td>\n",
       "      <td>1</td>\n",
       "      <td>1</td>\n",
       "      <td>Full-time</td>\n",
       "      <td>Mid-Senior level</td>\n",
       "      <td>Bachelor's Degree</td>\n",
       "      <td>Hospital &amp; Health Care</td>\n",
       "      <td>Health Care Provider</td>\n",
       "      <td>0</td>\n",
       "      <td>0.0</td>\n",
       "    </tr>\n",
       "    <tr>\n",
       "      <th>2</th>\n",
       "      <td>6</td>\n",
       "      <td>Accounting Clerk</td>\n",
       "      <td>US, MD,</td>\n",
       "      <td>None</td>\n",
       "      <td>None</td>\n",
       "      <td>None</td>\n",
       "      <td>Job OverviewApex is an environmental consultin...</td>\n",
       "      <td>None</td>\n",
       "      <td>None</td>\n",
       "      <td>0</td>\n",
       "      <td>0</td>\n",
       "      <td>0</td>\n",
       "      <td>None</td>\n",
       "      <td>None</td>\n",
       "      <td>None</td>\n",
       "      <td>None</td>\n",
       "      <td>None</td>\n",
       "      <td>0</td>\n",
       "      <td>0.0</td>\n",
       "    </tr>\n",
       "    <tr>\n",
       "      <th>3</th>\n",
       "      <td>10</td>\n",
       "      <td>Customer Service Associate - Part Time</td>\n",
       "      <td>US, AZ, Phoenix</td>\n",
       "      <td>None</td>\n",
       "      <td>None</td>\n",
       "      <td>Novitex Enterprise Solutions, formerly Pitney ...</td>\n",
       "      <td>The Customer Service Associate will be based i...</td>\n",
       "      <td>Minimum Requirements:Minimum of 6 months custo...</td>\n",
       "      <td>None</td>\n",
       "      <td>0</td>\n",
       "      <td>1</td>\n",
       "      <td>0</td>\n",
       "      <td>Part-time</td>\n",
       "      <td>Entry level</td>\n",
       "      <td>High School or equivalent</td>\n",
       "      <td>Financial Services</td>\n",
       "      <td>Customer Service</td>\n",
       "      <td>0</td>\n",
       "      <td>0.0</td>\n",
       "    </tr>\n",
       "    <tr>\n",
       "      <th>4</th>\n",
       "      <td>12</td>\n",
       "      <td>Talent Sourcer (6 months fixed-term contract)</td>\n",
       "      <td>GB, LND, London</td>\n",
       "      <td>HR</td>\n",
       "      <td>None</td>\n",
       "      <td>Want to build a 21st century financial service...</td>\n",
       "      <td>TransferWise is the clever new way to move mon...</td>\n",
       "      <td>We’re looking for someone who:Proven track rec...</td>\n",
       "      <td>You will join one of Europe’s most hotly tippe...</td>\n",
       "      <td>0</td>\n",
       "      <td>1</td>\n",
       "      <td>0</td>\n",
       "      <td>None</td>\n",
       "      <td>None</td>\n",
       "      <td>None</td>\n",
       "      <td>None</td>\n",
       "      <td>None</td>\n",
       "      <td>0</td>\n",
       "      <td>0.0</td>\n",
       "    </tr>\n",
       "    <tr>\n",
       "      <th>5</th>\n",
       "      <td>13</td>\n",
       "      <td>Applications Developer, Digital</td>\n",
       "      <td>US, CT, Stamford</td>\n",
       "      <td>None</td>\n",
       "      <td>None</td>\n",
       "      <td>Novitex Enterprise Solutions, formerly Pitney ...</td>\n",
       "      <td>The Applications Developer, Digital will devel...</td>\n",
       "      <td>Requirements:4 – 5 years’ experience in develo...</td>\n",
       "      <td>None</td>\n",
       "      <td>0</td>\n",
       "      <td>1</td>\n",
       "      <td>0</td>\n",
       "      <td>Full-time</td>\n",
       "      <td>Associate</td>\n",
       "      <td>Bachelor's Degree</td>\n",
       "      <td>Management Consulting</td>\n",
       "      <td>Information Technology</td>\n",
       "      <td>0</td>\n",
       "      <td>0.0</td>\n",
       "    </tr>\n",
       "  </tbody>\n",
       "</table>\n",
       "</div>"
      ],
      "text/plain": [
       "   job_id                                          title            location  \\\n",
       "0       1                               Marketing Intern    US, NY, New York   \n",
       "1       5                            Bill Review Manager  US, FL, Fort Worth   \n",
       "2       6                               Accounting Clerk            US, MD,    \n",
       "3      10        Customer Service Associate - Part Time      US, AZ, Phoenix   \n",
       "4      12  Talent Sourcer (6 months fixed-term contract)     GB, LND, London   \n",
       "5      13               Applications Developer, Digital     US, CT, Stamford   \n",
       "\n",
       "  department salary_range                                    company_profile  \\\n",
       "0  Marketing         None  We're Food52, and we've created a groundbreaki...   \n",
       "1       None         None  SpotSource Solutions LLC is a Global Human Cap...   \n",
       "2       None         None                                               None   \n",
       "3       None         None  Novitex Enterprise Solutions, formerly Pitney ...   \n",
       "4         HR         None  Want to build a 21st century financial service...   \n",
       "5       None         None  Novitex Enterprise Solutions, formerly Pitney ...   \n",
       "\n",
       "                                         description  \\\n",
       "0  Food52, a fast-growing, James Beard Award-winn...   \n",
       "1  JOB TITLE: Itemization Review ManagerLOCATION:...   \n",
       "2  Job OverviewApex is an environmental consultin...   \n",
       "3  The Customer Service Associate will be based i...   \n",
       "4  TransferWise is the clever new way to move mon...   \n",
       "5  The Applications Developer, Digital will devel...   \n",
       "\n",
       "                                        requirements  \\\n",
       "0  Experience with content management systems a m...   \n",
       "1  QUALIFICATIONS:RN license in the State of Texa...   \n",
       "2                                               None   \n",
       "3  Minimum Requirements:Minimum of 6 months custo...   \n",
       "4  We’re looking for someone who:Proven track rec...   \n",
       "5  Requirements:4 – 5 years’ experience in develo...   \n",
       "\n",
       "                                            benefits telecommuting  \\\n",
       "0                                               None             0   \n",
       "1                              Full Benefits Offered             0   \n",
       "2                                               None             0   \n",
       "3                                               None             0   \n",
       "4  You will join one of Europe’s most hotly tippe...             0   \n",
       "5                                               None             0   \n",
       "\n",
       "  has_company_logo has_questions employment_type required_experience  \\\n",
       "0                1             0           Other          Internship   \n",
       "1                1             1       Full-time    Mid-Senior level   \n",
       "2                0             0            None                None   \n",
       "3                1             0       Part-time         Entry level   \n",
       "4                1             0            None                None   \n",
       "5                1             0       Full-time           Associate   \n",
       "\n",
       "          required_education                industry                function  \\\n",
       "0                       None                    None               Marketing   \n",
       "1          Bachelor's Degree  Hospital & Health Care    Health Care Provider   \n",
       "2                       None                    None                    None   \n",
       "3  High School or equivalent      Financial Services        Customer Service   \n",
       "4                       None                    None                    None   \n",
       "5          Bachelor's Degree   Management Consulting  Information Technology   \n",
       "\n",
       "  fraudulent  label  \n",
       "0          0    0.0  \n",
       "1          0    0.0  \n",
       "2          0    0.0  \n",
       "3          0    0.0  \n",
       "4          0    0.0  \n",
       "5          0    0.0  "
      ]
     },
     "execution_count": 46,
     "metadata": {},
     "output_type": "execute_result"
    }
   ],
   "source": [
    "# Let's go ahead and encode it too\n",
    "indexer = StringIndexer(inputCol=\"fraudulent\", outputCol=\"label\")\n",
    "df = indexer.fit(df).transform(df)\n",
    "df.limit(6).toPandas()"
   ]
  },
  {
   "cell_type": "code",
   "execution_count": 47,
   "metadata": {},
   "outputs": [
    {
     "name": "stdout",
     "output_type": "stream",
     "text": [
      "+-----------------------------------------------------------------------------------------------------------------------------------------------------------------------------------------------------------------------------------------------------------------------------------------------------------------------------------------------------------------------------------------------------------------------------------------------------------------------------------------------------------------------------------------------------------------------------------------------------------------------------------------------------------------------------------------------------------------------------------------------------------------------------------------------------------------------------------------------------------------------------------------------------------------------------------------+\n",
      "|description                                                                                                                                                                                                                                                                                                                                                                                                                                                                                                                                                                                                                                                                                                                                                                                                                                                                                                                              |\n",
      "+-----------------------------------------------------------------------------------------------------------------------------------------------------------------------------------------------------------------------------------------------------------------------------------------------------------------------------------------------------------------------------------------------------------------------------------------------------------------------------------------------------------------------------------------------------------------------------------------------------------------------------------------------------------------------------------------------------------------------------------------------------------------------------------------------------------------------------------------------------------------------------------------------------------------------------------------+\n",
      "|Food52, a fast-growing, James Beard Award-winning online food community and crowd-sourced and curated recipe hub, is currently interviewing full- and part-time unpaid interns to work in a small team of editors, executives, and developers in its New York City headquarters.Reproducing and/or repackaging existing Food52 content for a number of partner sites, such as Huffington Post, Yahoo, Buzzfeed, and more in their various content management systemsResearching blogs and websites for the Provisions by Food52 Affiliate ProgramAssisting in day-to-day affiliate program support, such as screening affiliates and assisting in any affiliate inquiriesSupporting with PR &amp; Events when neededHelping with office administrative work, such as filing, mailing, and preparing for meetingsWorking with developers to document bugs and suggest improvements to the siteSupporting the marketing and executive staff|\n",
      "+-----------------------------------------------------------------------------------------------------------------------------------------------------------------------------------------------------------------------------------------------------------------------------------------------------------------------------------------------------------------------------------------------------------------------------------------------------------------------------------------------------------------------------------------------------------------------------------------------------------------------------------------------------------------------------------------------------------------------------------------------------------------------------------------------------------------------------------------------------------------------------------------------------------------------------------------+\n",
      "only showing top 1 row\n",
      "\n"
     ]
    }
   ],
   "source": [
    "# Let's check the quality of the description var\n",
    "df.select(\"description\").show(1, False)"
   ]
  },
  {
   "cell_type": "markdown",
   "metadata": {},
   "source": [
    "Looks pretty standard."
   ]
  },
  {
   "cell_type": "markdown",
   "metadata": {},
   "source": [
    "## Clean the datasets"
   ]
  },
  {
   "cell_type": "code",
   "execution_count": 48,
   "metadata": {},
   "outputs": [],
   "source": [
    "# Removing anything that is not a letter\n",
    "df = df.withColumn(\"description\", regexp_replace(df[\"description\"], \"[^A-Za-z ]+\", \"\"))\n",
    "# Remove multiple spaces\n",
    "df = df.withColumn(\"description\", regexp_replace(df[\"description\"], \" +\", \" \"))\n",
    "# Lower case everything\n",
    "df = df.withColumn(\"description\", lower(df[\"description\"]))"
   ]
  },
  {
   "cell_type": "code",
   "execution_count": 49,
   "metadata": {},
   "outputs": [
    {
     "data": {
      "text/html": [
       "<div>\n",
       "<style scoped>\n",
       "    .dataframe tbody tr th:only-of-type {\n",
       "        vertical-align: middle;\n",
       "    }\n",
       "\n",
       "    .dataframe tbody tr th {\n",
       "        vertical-align: top;\n",
       "    }\n",
       "\n",
       "    .dataframe thead th {\n",
       "        text-align: right;\n",
       "    }\n",
       "</style>\n",
       "<table border=\"1\" class=\"dataframe\">\n",
       "  <thead>\n",
       "    <tr style=\"text-align: right;\">\n",
       "      <th></th>\n",
       "      <th>job_id</th>\n",
       "      <th>title</th>\n",
       "      <th>location</th>\n",
       "      <th>department</th>\n",
       "      <th>salary_range</th>\n",
       "      <th>company_profile</th>\n",
       "      <th>description</th>\n",
       "      <th>requirements</th>\n",
       "      <th>benefits</th>\n",
       "      <th>telecommuting</th>\n",
       "      <th>has_company_logo</th>\n",
       "      <th>has_questions</th>\n",
       "      <th>employment_type</th>\n",
       "      <th>required_experience</th>\n",
       "      <th>required_education</th>\n",
       "      <th>industry</th>\n",
       "      <th>function</th>\n",
       "      <th>fraudulent</th>\n",
       "      <th>label</th>\n",
       "    </tr>\n",
       "  </thead>\n",
       "  <tbody>\n",
       "    <tr>\n",
       "      <th>0</th>\n",
       "      <td>1</td>\n",
       "      <td>Marketing Intern</td>\n",
       "      <td>US, NY, New York</td>\n",
       "      <td>Marketing</td>\n",
       "      <td>None</td>\n",
       "      <td>We're Food52, and we've created a groundbreaki...</td>\n",
       "      <td>food a fastgrowing james beard awardwinning on...</td>\n",
       "      <td>Experience with content management systems a m...</td>\n",
       "      <td>None</td>\n",
       "      <td>0</td>\n",
       "      <td>1</td>\n",
       "      <td>0</td>\n",
       "      <td>Other</td>\n",
       "      <td>Internship</td>\n",
       "      <td>None</td>\n",
       "      <td>None</td>\n",
       "      <td>Marketing</td>\n",
       "      <td>0</td>\n",
       "      <td>0.0</td>\n",
       "    </tr>\n",
       "    <tr>\n",
       "      <th>1</th>\n",
       "      <td>5</td>\n",
       "      <td>Bill Review Manager</td>\n",
       "      <td>US, FL, Fort Worth</td>\n",
       "      <td>None</td>\n",
       "      <td>None</td>\n",
       "      <td>SpotSource Solutions LLC is a Global Human Cap...</td>\n",
       "      <td>job title itemization review managerlocation f...</td>\n",
       "      <td>QUALIFICATIONS:RN license in the State of Texa...</td>\n",
       "      <td>Full Benefits Offered</td>\n",
       "      <td>0</td>\n",
       "      <td>1</td>\n",
       "      <td>1</td>\n",
       "      <td>Full-time</td>\n",
       "      <td>Mid-Senior level</td>\n",
       "      <td>Bachelor's Degree</td>\n",
       "      <td>Hospital &amp; Health Care</td>\n",
       "      <td>Health Care Provider</td>\n",
       "      <td>0</td>\n",
       "      <td>0.0</td>\n",
       "    </tr>\n",
       "    <tr>\n",
       "      <th>2</th>\n",
       "      <td>6</td>\n",
       "      <td>Accounting Clerk</td>\n",
       "      <td>US, MD,</td>\n",
       "      <td>None</td>\n",
       "      <td>None</td>\n",
       "      <td>None</td>\n",
       "      <td>job overviewapex is an environmental consultin...</td>\n",
       "      <td>None</td>\n",
       "      <td>None</td>\n",
       "      <td>0</td>\n",
       "      <td>0</td>\n",
       "      <td>0</td>\n",
       "      <td>None</td>\n",
       "      <td>None</td>\n",
       "      <td>None</td>\n",
       "      <td>None</td>\n",
       "      <td>None</td>\n",
       "      <td>0</td>\n",
       "      <td>0.0</td>\n",
       "    </tr>\n",
       "    <tr>\n",
       "      <th>3</th>\n",
       "      <td>10</td>\n",
       "      <td>Customer Service Associate - Part Time</td>\n",
       "      <td>US, AZ, Phoenix</td>\n",
       "      <td>None</td>\n",
       "      <td>None</td>\n",
       "      <td>Novitex Enterprise Solutions, formerly Pitney ...</td>\n",
       "      <td>the customer service associate will be based i...</td>\n",
       "      <td>Minimum Requirements:Minimum of 6 months custo...</td>\n",
       "      <td>None</td>\n",
       "      <td>0</td>\n",
       "      <td>1</td>\n",
       "      <td>0</td>\n",
       "      <td>Part-time</td>\n",
       "      <td>Entry level</td>\n",
       "      <td>High School or equivalent</td>\n",
       "      <td>Financial Services</td>\n",
       "      <td>Customer Service</td>\n",
       "      <td>0</td>\n",
       "      <td>0.0</td>\n",
       "    </tr>\n",
       "    <tr>\n",
       "      <th>4</th>\n",
       "      <td>12</td>\n",
       "      <td>Talent Sourcer (6 months fixed-term contract)</td>\n",
       "      <td>GB, LND, London</td>\n",
       "      <td>HR</td>\n",
       "      <td>None</td>\n",
       "      <td>Want to build a 21st century financial service...</td>\n",
       "      <td>transferwise is the clever new way to move mon...</td>\n",
       "      <td>We’re looking for someone who:Proven track rec...</td>\n",
       "      <td>You will join one of Europe’s most hotly tippe...</td>\n",
       "      <td>0</td>\n",
       "      <td>1</td>\n",
       "      <td>0</td>\n",
       "      <td>None</td>\n",
       "      <td>None</td>\n",
       "      <td>None</td>\n",
       "      <td>None</td>\n",
       "      <td>None</td>\n",
       "      <td>0</td>\n",
       "      <td>0.0</td>\n",
       "    </tr>\n",
       "  </tbody>\n",
       "</table>\n",
       "</div>"
      ],
      "text/plain": [
       "   job_id                                          title            location  \\\n",
       "0       1                               Marketing Intern    US, NY, New York   \n",
       "1       5                            Bill Review Manager  US, FL, Fort Worth   \n",
       "2       6                               Accounting Clerk            US, MD,    \n",
       "3      10        Customer Service Associate - Part Time      US, AZ, Phoenix   \n",
       "4      12  Talent Sourcer (6 months fixed-term contract)     GB, LND, London   \n",
       "\n",
       "  department salary_range                                    company_profile  \\\n",
       "0  Marketing         None  We're Food52, and we've created a groundbreaki...   \n",
       "1       None         None  SpotSource Solutions LLC is a Global Human Cap...   \n",
       "2       None         None                                               None   \n",
       "3       None         None  Novitex Enterprise Solutions, formerly Pitney ...   \n",
       "4         HR         None  Want to build a 21st century financial service...   \n",
       "\n",
       "                                         description  \\\n",
       "0  food a fastgrowing james beard awardwinning on...   \n",
       "1  job title itemization review managerlocation f...   \n",
       "2  job overviewapex is an environmental consultin...   \n",
       "3  the customer service associate will be based i...   \n",
       "4  transferwise is the clever new way to move mon...   \n",
       "\n",
       "                                        requirements  \\\n",
       "0  Experience with content management systems a m...   \n",
       "1  QUALIFICATIONS:RN license in the State of Texa...   \n",
       "2                                               None   \n",
       "3  Minimum Requirements:Minimum of 6 months custo...   \n",
       "4  We’re looking for someone who:Proven track rec...   \n",
       "\n",
       "                                            benefits telecommuting  \\\n",
       "0                                               None             0   \n",
       "1                              Full Benefits Offered             0   \n",
       "2                                               None             0   \n",
       "3                                               None             0   \n",
       "4  You will join one of Europe’s most hotly tippe...             0   \n",
       "\n",
       "  has_company_logo has_questions employment_type required_experience  \\\n",
       "0                1             0           Other          Internship   \n",
       "1                1             1       Full-time    Mid-Senior level   \n",
       "2                0             0            None                None   \n",
       "3                1             0       Part-time         Entry level   \n",
       "4                1             0            None                None   \n",
       "\n",
       "          required_education                industry              function  \\\n",
       "0                       None                    None             Marketing   \n",
       "1          Bachelor's Degree  Hospital & Health Care  Health Care Provider   \n",
       "2                       None                    None                  None   \n",
       "3  High School or equivalent      Financial Services      Customer Service   \n",
       "4                       None                    None                  None   \n",
       "\n",
       "  fraudulent  label  \n",
       "0          0    0.0  \n",
       "1          0    0.0  \n",
       "2          0    0.0  \n",
       "3          0    0.0  \n",
       "4          0    0.0  "
      ]
     },
     "execution_count": 49,
     "metadata": {},
     "output_type": "execute_result"
    }
   ],
   "source": [
    "df.limit(5).toPandas()"
   ]
  },
  {
   "cell_type": "markdown",
   "metadata": {},
   "source": [
    "## Split text into words (Tokenizing)"
   ]
  },
  {
   "cell_type": "code",
   "execution_count": 50,
   "metadata": {},
   "outputs": [
    {
     "data": {
      "text/html": [
       "<div>\n",
       "<style scoped>\n",
       "    .dataframe tbody tr th:only-of-type {\n",
       "        vertical-align: middle;\n",
       "    }\n",
       "\n",
       "    .dataframe tbody tr th {\n",
       "        vertical-align: top;\n",
       "    }\n",
       "\n",
       "    .dataframe thead th {\n",
       "        text-align: right;\n",
       "    }\n",
       "</style>\n",
       "<table border=\"1\" class=\"dataframe\">\n",
       "  <thead>\n",
       "    <tr style=\"text-align: right;\">\n",
       "      <th></th>\n",
       "      <th>job_id</th>\n",
       "      <th>title</th>\n",
       "      <th>location</th>\n",
       "      <th>department</th>\n",
       "      <th>salary_range</th>\n",
       "      <th>company_profile</th>\n",
       "      <th>description</th>\n",
       "      <th>requirements</th>\n",
       "      <th>benefits</th>\n",
       "      <th>telecommuting</th>\n",
       "      <th>has_company_logo</th>\n",
       "      <th>has_questions</th>\n",
       "      <th>employment_type</th>\n",
       "      <th>required_experience</th>\n",
       "      <th>required_education</th>\n",
       "      <th>industry</th>\n",
       "      <th>function</th>\n",
       "      <th>fraudulent</th>\n",
       "      <th>label</th>\n",
       "      <th>words</th>\n",
       "    </tr>\n",
       "  </thead>\n",
       "  <tbody>\n",
       "    <tr>\n",
       "      <th>0</th>\n",
       "      <td>1</td>\n",
       "      <td>Marketing Intern</td>\n",
       "      <td>US, NY, New York</td>\n",
       "      <td>Marketing</td>\n",
       "      <td>None</td>\n",
       "      <td>We're Food52, and we've created a groundbreaki...</td>\n",
       "      <td>food a fastgrowing james beard awardwinning on...</td>\n",
       "      <td>Experience with content management systems a m...</td>\n",
       "      <td>None</td>\n",
       "      <td>0</td>\n",
       "      <td>1</td>\n",
       "      <td>0</td>\n",
       "      <td>Other</td>\n",
       "      <td>Internship</td>\n",
       "      <td>None</td>\n",
       "      <td>None</td>\n",
       "      <td>Marketing</td>\n",
       "      <td>0</td>\n",
       "      <td>0.0</td>\n",
       "      <td>[food, a, fastgrowing, james, beard, awardwinn...</td>\n",
       "    </tr>\n",
       "    <tr>\n",
       "      <th>1</th>\n",
       "      <td>5</td>\n",
       "      <td>Bill Review Manager</td>\n",
       "      <td>US, FL, Fort Worth</td>\n",
       "      <td>None</td>\n",
       "      <td>None</td>\n",
       "      <td>SpotSource Solutions LLC is a Global Human Cap...</td>\n",
       "      <td>job title itemization review managerlocation f...</td>\n",
       "      <td>QUALIFICATIONS:RN license in the State of Texa...</td>\n",
       "      <td>Full Benefits Offered</td>\n",
       "      <td>0</td>\n",
       "      <td>1</td>\n",
       "      <td>1</td>\n",
       "      <td>Full-time</td>\n",
       "      <td>Mid-Senior level</td>\n",
       "      <td>Bachelor's Degree</td>\n",
       "      <td>Hospital &amp; Health Care</td>\n",
       "      <td>Health Care Provider</td>\n",
       "      <td>0</td>\n",
       "      <td>0.0</td>\n",
       "      <td>[job, title, itemization, review, managerlocat...</td>\n",
       "    </tr>\n",
       "    <tr>\n",
       "      <th>2</th>\n",
       "      <td>6</td>\n",
       "      <td>Accounting Clerk</td>\n",
       "      <td>US, MD,</td>\n",
       "      <td>None</td>\n",
       "      <td>None</td>\n",
       "      <td>None</td>\n",
       "      <td>job overviewapex is an environmental consultin...</td>\n",
       "      <td>None</td>\n",
       "      <td>None</td>\n",
       "      <td>0</td>\n",
       "      <td>0</td>\n",
       "      <td>0</td>\n",
       "      <td>None</td>\n",
       "      <td>None</td>\n",
       "      <td>None</td>\n",
       "      <td>None</td>\n",
       "      <td>None</td>\n",
       "      <td>0</td>\n",
       "      <td>0.0</td>\n",
       "      <td>[job, overviewapex, is, an, environmental, con...</td>\n",
       "    </tr>\n",
       "    <tr>\n",
       "      <th>3</th>\n",
       "      <td>10</td>\n",
       "      <td>Customer Service Associate - Part Time</td>\n",
       "      <td>US, AZ, Phoenix</td>\n",
       "      <td>None</td>\n",
       "      <td>None</td>\n",
       "      <td>Novitex Enterprise Solutions, formerly Pitney ...</td>\n",
       "      <td>the customer service associate will be based i...</td>\n",
       "      <td>Minimum Requirements:Minimum of 6 months custo...</td>\n",
       "      <td>None</td>\n",
       "      <td>0</td>\n",
       "      <td>1</td>\n",
       "      <td>0</td>\n",
       "      <td>Part-time</td>\n",
       "      <td>Entry level</td>\n",
       "      <td>High School or equivalent</td>\n",
       "      <td>Financial Services</td>\n",
       "      <td>Customer Service</td>\n",
       "      <td>0</td>\n",
       "      <td>0.0</td>\n",
       "      <td>[the, customer, service, associate, will, be, ...</td>\n",
       "    </tr>\n",
       "    <tr>\n",
       "      <th>4</th>\n",
       "      <td>12</td>\n",
       "      <td>Talent Sourcer (6 months fixed-term contract)</td>\n",
       "      <td>GB, LND, London</td>\n",
       "      <td>HR</td>\n",
       "      <td>None</td>\n",
       "      <td>Want to build a 21st century financial service...</td>\n",
       "      <td>transferwise is the clever new way to move mon...</td>\n",
       "      <td>We’re looking for someone who:Proven track rec...</td>\n",
       "      <td>You will join one of Europe’s most hotly tippe...</td>\n",
       "      <td>0</td>\n",
       "      <td>1</td>\n",
       "      <td>0</td>\n",
       "      <td>None</td>\n",
       "      <td>None</td>\n",
       "      <td>None</td>\n",
       "      <td>None</td>\n",
       "      <td>None</td>\n",
       "      <td>0</td>\n",
       "      <td>0.0</td>\n",
       "      <td>[transferwise, is, the, clever, new, way, to, ...</td>\n",
       "    </tr>\n",
       "  </tbody>\n",
       "</table>\n",
       "</div>"
      ],
      "text/plain": [
       "   job_id                                          title            location  \\\n",
       "0       1                               Marketing Intern    US, NY, New York   \n",
       "1       5                            Bill Review Manager  US, FL, Fort Worth   \n",
       "2       6                               Accounting Clerk            US, MD,    \n",
       "3      10        Customer Service Associate - Part Time      US, AZ, Phoenix   \n",
       "4      12  Talent Sourcer (6 months fixed-term contract)     GB, LND, London   \n",
       "\n",
       "  department salary_range                                    company_profile  \\\n",
       "0  Marketing         None  We're Food52, and we've created a groundbreaki...   \n",
       "1       None         None  SpotSource Solutions LLC is a Global Human Cap...   \n",
       "2       None         None                                               None   \n",
       "3       None         None  Novitex Enterprise Solutions, formerly Pitney ...   \n",
       "4         HR         None  Want to build a 21st century financial service...   \n",
       "\n",
       "                                         description  \\\n",
       "0  food a fastgrowing james beard awardwinning on...   \n",
       "1  job title itemization review managerlocation f...   \n",
       "2  job overviewapex is an environmental consultin...   \n",
       "3  the customer service associate will be based i...   \n",
       "4  transferwise is the clever new way to move mon...   \n",
       "\n",
       "                                        requirements  \\\n",
       "0  Experience with content management systems a m...   \n",
       "1  QUALIFICATIONS:RN license in the State of Texa...   \n",
       "2                                               None   \n",
       "3  Minimum Requirements:Minimum of 6 months custo...   \n",
       "4  We’re looking for someone who:Proven track rec...   \n",
       "\n",
       "                                            benefits telecommuting  \\\n",
       "0                                               None             0   \n",
       "1                              Full Benefits Offered             0   \n",
       "2                                               None             0   \n",
       "3                                               None             0   \n",
       "4  You will join one of Europe’s most hotly tippe...             0   \n",
       "\n",
       "  has_company_logo has_questions employment_type required_experience  \\\n",
       "0                1             0           Other          Internship   \n",
       "1                1             1       Full-time    Mid-Senior level   \n",
       "2                0             0            None                None   \n",
       "3                1             0       Part-time         Entry level   \n",
       "4                1             0            None                None   \n",
       "\n",
       "          required_education                industry              function  \\\n",
       "0                       None                    None             Marketing   \n",
       "1          Bachelor's Degree  Hospital & Health Care  Health Care Provider   \n",
       "2                       None                    None                  None   \n",
       "3  High School or equivalent      Financial Services      Customer Service   \n",
       "4                       None                    None                  None   \n",
       "\n",
       "  fraudulent  label                                              words  \n",
       "0          0    0.0  [food, a, fastgrowing, james, beard, awardwinn...  \n",
       "1          0    0.0  [job, title, itemization, review, managerlocat...  \n",
       "2          0    0.0  [job, overviewapex, is, an, environmental, con...  \n",
       "3          0    0.0  [the, customer, service, associate, will, be, ...  \n",
       "4          0    0.0  [transferwise, is, the, clever, new, way, to, ...  "
      ]
     },
     "execution_count": 50,
     "metadata": {},
     "output_type": "execute_result"
    }
   ],
   "source": [
    "regex_tokenizer = RegexTokenizer(\n",
    "    inputCol=\"description\", outputCol=\"words\", pattern=\"\\\\W\"\n",
    ")\n",
    "df = regex_tokenizer.transform(df)\n",
    "\n",
    "df.limit(5).toPandas()"
   ]
  },
  {
   "cell_type": "markdown",
   "metadata": {},
   "source": [
    "## Removing Stopwords"
   ]
  },
  {
   "cell_type": "code",
   "execution_count": 51,
   "metadata": {},
   "outputs": [
    {
     "data": {
      "text/html": [
       "<div>\n",
       "<style scoped>\n",
       "    .dataframe tbody tr th:only-of-type {\n",
       "        vertical-align: middle;\n",
       "    }\n",
       "\n",
       "    .dataframe tbody tr th {\n",
       "        vertical-align: top;\n",
       "    }\n",
       "\n",
       "    .dataframe thead th {\n",
       "        text-align: right;\n",
       "    }\n",
       "</style>\n",
       "<table border=\"1\" class=\"dataframe\">\n",
       "  <thead>\n",
       "    <tr style=\"text-align: right;\">\n",
       "      <th></th>\n",
       "      <th>job_id</th>\n",
       "      <th>title</th>\n",
       "      <th>location</th>\n",
       "      <th>department</th>\n",
       "      <th>salary_range</th>\n",
       "      <th>company_profile</th>\n",
       "      <th>description</th>\n",
       "      <th>requirements</th>\n",
       "      <th>benefits</th>\n",
       "      <th>telecommuting</th>\n",
       "      <th>...</th>\n",
       "      <th>has_questions</th>\n",
       "      <th>employment_type</th>\n",
       "      <th>required_experience</th>\n",
       "      <th>required_education</th>\n",
       "      <th>industry</th>\n",
       "      <th>function</th>\n",
       "      <th>fraudulent</th>\n",
       "      <th>label</th>\n",
       "      <th>words</th>\n",
       "      <th>filtered</th>\n",
       "    </tr>\n",
       "  </thead>\n",
       "  <tbody>\n",
       "    <tr>\n",
       "      <th>0</th>\n",
       "      <td>1</td>\n",
       "      <td>Marketing Intern</td>\n",
       "      <td>US, NY, New York</td>\n",
       "      <td>Marketing</td>\n",
       "      <td>None</td>\n",
       "      <td>We're Food52, and we've created a groundbreaki...</td>\n",
       "      <td>food a fastgrowing james beard awardwinning on...</td>\n",
       "      <td>Experience with content management systems a m...</td>\n",
       "      <td>None</td>\n",
       "      <td>0</td>\n",
       "      <td>...</td>\n",
       "      <td>0</td>\n",
       "      <td>Other</td>\n",
       "      <td>Internship</td>\n",
       "      <td>None</td>\n",
       "      <td>None</td>\n",
       "      <td>Marketing</td>\n",
       "      <td>0</td>\n",
       "      <td>0.0</td>\n",
       "      <td>[food, a, fastgrowing, james, beard, awardwinn...</td>\n",
       "      <td>[food, fastgrowing, james, beard, awardwinning...</td>\n",
       "    </tr>\n",
       "    <tr>\n",
       "      <th>1</th>\n",
       "      <td>5</td>\n",
       "      <td>Bill Review Manager</td>\n",
       "      <td>US, FL, Fort Worth</td>\n",
       "      <td>None</td>\n",
       "      <td>None</td>\n",
       "      <td>SpotSource Solutions LLC is a Global Human Cap...</td>\n",
       "      <td>job title itemization review managerlocation f...</td>\n",
       "      <td>QUALIFICATIONS:RN license in the State of Texa...</td>\n",
       "      <td>Full Benefits Offered</td>\n",
       "      <td>0</td>\n",
       "      <td>...</td>\n",
       "      <td>1</td>\n",
       "      <td>Full-time</td>\n",
       "      <td>Mid-Senior level</td>\n",
       "      <td>Bachelor's Degree</td>\n",
       "      <td>Hospital &amp; Health Care</td>\n",
       "      <td>Health Care Provider</td>\n",
       "      <td>0</td>\n",
       "      <td>0.0</td>\n",
       "      <td>[job, title, itemization, review, managerlocat...</td>\n",
       "      <td>[job, title, itemization, review, managerlocat...</td>\n",
       "    </tr>\n",
       "    <tr>\n",
       "      <th>2</th>\n",
       "      <td>6</td>\n",
       "      <td>Accounting Clerk</td>\n",
       "      <td>US, MD,</td>\n",
       "      <td>None</td>\n",
       "      <td>None</td>\n",
       "      <td>None</td>\n",
       "      <td>job overviewapex is an environmental consultin...</td>\n",
       "      <td>None</td>\n",
       "      <td>None</td>\n",
       "      <td>0</td>\n",
       "      <td>...</td>\n",
       "      <td>0</td>\n",
       "      <td>None</td>\n",
       "      <td>None</td>\n",
       "      <td>None</td>\n",
       "      <td>None</td>\n",
       "      <td>None</td>\n",
       "      <td>0</td>\n",
       "      <td>0.0</td>\n",
       "      <td>[job, overviewapex, is, an, environmental, con...</td>\n",
       "      <td>[job, overviewapex, environmental, consulting,...</td>\n",
       "    </tr>\n",
       "    <tr>\n",
       "      <th>3</th>\n",
       "      <td>10</td>\n",
       "      <td>Customer Service Associate - Part Time</td>\n",
       "      <td>US, AZ, Phoenix</td>\n",
       "      <td>None</td>\n",
       "      <td>None</td>\n",
       "      <td>Novitex Enterprise Solutions, formerly Pitney ...</td>\n",
       "      <td>the customer service associate will be based i...</td>\n",
       "      <td>Minimum Requirements:Minimum of 6 months custo...</td>\n",
       "      <td>None</td>\n",
       "      <td>0</td>\n",
       "      <td>...</td>\n",
       "      <td>0</td>\n",
       "      <td>Part-time</td>\n",
       "      <td>Entry level</td>\n",
       "      <td>High School or equivalent</td>\n",
       "      <td>Financial Services</td>\n",
       "      <td>Customer Service</td>\n",
       "      <td>0</td>\n",
       "      <td>0.0</td>\n",
       "      <td>[the, customer, service, associate, will, be, ...</td>\n",
       "      <td>[customer, service, associate, based, phoenix,...</td>\n",
       "    </tr>\n",
       "    <tr>\n",
       "      <th>4</th>\n",
       "      <td>12</td>\n",
       "      <td>Talent Sourcer (6 months fixed-term contract)</td>\n",
       "      <td>GB, LND, London</td>\n",
       "      <td>HR</td>\n",
       "      <td>None</td>\n",
       "      <td>Want to build a 21st century financial service...</td>\n",
       "      <td>transferwise is the clever new way to move mon...</td>\n",
       "      <td>We’re looking for someone who:Proven track rec...</td>\n",
       "      <td>You will join one of Europe’s most hotly tippe...</td>\n",
       "      <td>0</td>\n",
       "      <td>...</td>\n",
       "      <td>0</td>\n",
       "      <td>None</td>\n",
       "      <td>None</td>\n",
       "      <td>None</td>\n",
       "      <td>None</td>\n",
       "      <td>None</td>\n",
       "      <td>0</td>\n",
       "      <td>0.0</td>\n",
       "      <td>[transferwise, is, the, clever, new, way, to, ...</td>\n",
       "      <td>[transferwise, clever, new, way, move, money, ...</td>\n",
       "    </tr>\n",
       "  </tbody>\n",
       "</table>\n",
       "<p>5 rows × 21 columns</p>\n",
       "</div>"
      ],
      "text/plain": [
       "   job_id                                          title            location  \\\n",
       "0       1                               Marketing Intern    US, NY, New York   \n",
       "1       5                            Bill Review Manager  US, FL, Fort Worth   \n",
       "2       6                               Accounting Clerk            US, MD,    \n",
       "3      10        Customer Service Associate - Part Time      US, AZ, Phoenix   \n",
       "4      12  Talent Sourcer (6 months fixed-term contract)     GB, LND, London   \n",
       "\n",
       "  department salary_range                                    company_profile  \\\n",
       "0  Marketing         None  We're Food52, and we've created a groundbreaki...   \n",
       "1       None         None  SpotSource Solutions LLC is a Global Human Cap...   \n",
       "2       None         None                                               None   \n",
       "3       None         None  Novitex Enterprise Solutions, formerly Pitney ...   \n",
       "4         HR         None  Want to build a 21st century financial service...   \n",
       "\n",
       "                                         description  \\\n",
       "0  food a fastgrowing james beard awardwinning on...   \n",
       "1  job title itemization review managerlocation f...   \n",
       "2  job overviewapex is an environmental consultin...   \n",
       "3  the customer service associate will be based i...   \n",
       "4  transferwise is the clever new way to move mon...   \n",
       "\n",
       "                                        requirements  \\\n",
       "0  Experience with content management systems a m...   \n",
       "1  QUALIFICATIONS:RN license in the State of Texa...   \n",
       "2                                               None   \n",
       "3  Minimum Requirements:Minimum of 6 months custo...   \n",
       "4  We’re looking for someone who:Proven track rec...   \n",
       "\n",
       "                                            benefits telecommuting  ...  \\\n",
       "0                                               None             0  ...   \n",
       "1                              Full Benefits Offered             0  ...   \n",
       "2                                               None             0  ...   \n",
       "3                                               None             0  ...   \n",
       "4  You will join one of Europe’s most hotly tippe...             0  ...   \n",
       "\n",
       "  has_questions employment_type required_experience  \\\n",
       "0             0           Other          Internship   \n",
       "1             1       Full-time    Mid-Senior level   \n",
       "2             0            None                None   \n",
       "3             0       Part-time         Entry level   \n",
       "4             0            None                None   \n",
       "\n",
       "          required_education                industry              function  \\\n",
       "0                       None                    None             Marketing   \n",
       "1          Bachelor's Degree  Hospital & Health Care  Health Care Provider   \n",
       "2                       None                    None                  None   \n",
       "3  High School or equivalent      Financial Services      Customer Service   \n",
       "4                       None                    None                  None   \n",
       "\n",
       "  fraudulent label                                              words  \\\n",
       "0          0   0.0  [food, a, fastgrowing, james, beard, awardwinn...   \n",
       "1          0   0.0  [job, title, itemization, review, managerlocat...   \n",
       "2          0   0.0  [job, overviewapex, is, an, environmental, con...   \n",
       "3          0   0.0  [the, customer, service, associate, will, be, ...   \n",
       "4          0   0.0  [transferwise, is, the, clever, new, way, to, ...   \n",
       "\n",
       "                                            filtered  \n",
       "0  [food, fastgrowing, james, beard, awardwinning...  \n",
       "1  [job, title, itemization, review, managerlocat...  \n",
       "2  [job, overviewapex, environmental, consulting,...  \n",
       "3  [customer, service, associate, based, phoenix,...  \n",
       "4  [transferwise, clever, new, way, move, money, ...  \n",
       "\n",
       "[5 rows x 21 columns]"
      ]
     },
     "execution_count": 51,
     "metadata": {},
     "output_type": "execute_result"
    }
   ],
   "source": [
    "from pyspark.ml.feature import StopWordsRemover\n",
    "\n",
    "remover = StopWordsRemover(inputCol=\"words\", outputCol=\"filtered\")\n",
    "feature_data = remover.transform(df)\n",
    "\n",
    "feature_data.limit(5).toPandas()"
   ]
  },
  {
   "cell_type": "markdown",
   "metadata": {},
   "source": [
    "## Converting text into vectors\n",
    "\n",
    "We test out the following three vectors\n",
    "\n",
    "1. Count Vectors\n",
    "2. TF-IDF\n",
    "3. Word2Vec"
   ]
  },
  {
   "cell_type": "code",
   "execution_count": 52,
   "metadata": {},
   "outputs": [
    {
     "name": "stderr",
     "output_type": "stream",
     "text": [
      "\r",
      "[Stage 15850:=============>                                         (2 + 6) / 8]\r",
      "\r",
      "                                                                                \r"
     ]
    }
   ],
   "source": [
    "# Count Vector (count vectorizer and hashingTF are basically the same thing)\n",
    "# cv = CountVectorizer(inputCol=\"filtered\", outputCol=\"features\")\n",
    "# model = cv.fit(feature_data)\n",
    "# countVectorizer_features = model.transform(feature_data)\n",
    "\n",
    "# Hashing TF\n",
    "hashingTF = HashingTF(inputCol=\"filtered\", outputCol=\"rawfeatures\", numFeatures=20)\n",
    "HTFfeaturizedData = hashingTF.transform(feature_data)\n",
    "\n",
    "# TF-IDF\n",
    "idf = IDF(inputCol=\"rawfeatures\", outputCol=\"features\")\n",
    "idfModel = idf.fit(HTFfeaturizedData)\n",
    "TFIDFfeaturizedData = idfModel.transform(HTFfeaturizedData)\n",
    "TFIDFfeaturizedData.name = \"TFIDFfeaturizedData\"\n",
    "\n",
    "# rename the HTF features to features to be consistent\n",
    "HTFfeaturizedData = HTFfeaturizedData.withColumnRenamed(\"rawfeatures\", \"features\")\n",
    "HTFfeaturizedData.name = \"HTFfeaturizedData\"  # We will use later for printing"
   ]
  },
  {
   "cell_type": "code",
   "execution_count": 53,
   "metadata": {},
   "outputs": [
    {
     "name": "stderr",
     "output_type": "stream",
     "text": [
      "                                                                                \r"
     ]
    }
   ],
   "source": [
    "# Word2Vec\n",
    "word2Vec = Word2Vec(\n",
    "    vectorSize=30, minCount=0, inputCol=\"filtered\", outputCol=\"features\"\n",
    ")\n",
    "model = word2Vec.fit(feature_data)\n",
    "\n",
    "W2VfeaturizedData = model.transform(feature_data)\n",
    "# W2VfeaturizedData.show(1,False)\n",
    "\n",
    "# W2Vec Dataframes typically has negative values so we will correct for that here so that we can use the Naive Bayes classifier\n",
    "scaler = MinMaxScaler(inputCol=\"features\", outputCol=\"scaledFeatures\")\n",
    "\n",
    "# Compute summary statistics and generate MinMaxScalerModel\n",
    "scalerModel = scaler.fit(W2VfeaturizedData)\n",
    "\n",
    "# rescale each feature to range [min, max].\n",
    "scaled_data = scalerModel.transform(W2VfeaturizedData)\n",
    "W2VfeaturizedData = scaled_data.select(\n",
    "    \"fraudulent\", \"description\", \"label\", \"scaledFeatures\"\n",
    ")\n",
    "W2VfeaturizedData = W2VfeaturizedData.withColumnRenamed(\"scaledFeatures\", \"features\")\n",
    "\n",
    "W2VfeaturizedData.name = \"W2VfeaturizedData\"  # We will need this to print later"
   ]
  },
  {
   "cell_type": "markdown",
   "metadata": {},
   "source": [
    "## Train and Evaluate your model\n",
    "\n",
    "From here on out, is straight up classification. So we can go and use our trusty function!"
   ]
  },
  {
   "cell_type": "code",
   "execution_count": 54,
   "metadata": {},
   "outputs": [],
   "source": [
    "def ClassTrainEval(classifier, features, classes, train, test):\n",
    "    def FindMtype(classifier):\n",
    "        # Intstantiate Model\n",
    "        M = classifier\n",
    "        # Learn what it is\n",
    "        Mtype = type(M).__name__\n",
    "\n",
    "        return Mtype\n",
    "\n",
    "    Mtype = FindMtype(classifier)\n",
    "\n",
    "    def IntanceFitModel(Mtype, classifier, classes, features, train):\n",
    "\n",
    "        if Mtype == \"OneVsRest\":\n",
    "            # instantiate the base classifier.\n",
    "            lr = LogisticRegression()\n",
    "            # instantiate the One Vs Rest Classifier.\n",
    "            OVRclassifier = OneVsRest(classifier=lr)\n",
    "            #             fitModel = OVRclassifier.fit(train)\n",
    "            # Add parameters of your choice here:\n",
    "            paramGrid = ParamGridBuilder().addGrid(lr.regParam, [0.1, 0.01]).build()\n",
    "            # Cross Validator requires the following parameters:\n",
    "            crossval = CrossValidator(\n",
    "                estimator=OVRclassifier,\n",
    "                estimatorParamMaps=paramGrid,\n",
    "                evaluator=MulticlassClassificationEvaluator(),\n",
    "                numFolds=2,\n",
    "            )  # 3 is best practice\n",
    "            # Run cross-validation, and choose the best set of parameters.\n",
    "            fitModel = crossval.fit(train)\n",
    "            return fitModel\n",
    "        if Mtype == \"MultilayerPerceptronClassifier\":\n",
    "            # specify layers for the neural network:\n",
    "            # input layer of size features, two intermediate of features+1 and same size as features\n",
    "            # and output of size number of classes\n",
    "            # Note: crossvalidator cannot be used here\n",
    "            features_count = len(features[0][0])\n",
    "            layers = [features_count, features_count + 1, features_count, classes]\n",
    "            MPC_classifier = MultilayerPerceptronClassifier(\n",
    "                maxIter=100, layers=layers, blockSize=128, seed=1234\n",
    "            )\n",
    "            fitModel = MPC_classifier.fit(train)\n",
    "            return fitModel\n",
    "        if (\n",
    "            Mtype in (\"LinearSVC\", \"GBTClassifier\") and classes != 2\n",
    "        ):  # These classifiers currently only accept binary classification\n",
    "            print(\n",
    "                Mtype,\n",
    "                \" could not be used because PySpark currently only accepts binary classification data for this algorithm\",\n",
    "            )\n",
    "            return\n",
    "        if Mtype in (\n",
    "            \"LogisticRegression\",\n",
    "            \"NaiveBayes\",\n",
    "            \"RandomForestClassifier\",\n",
    "            \"GBTClassifier\",\n",
    "            \"LinearSVC\",\n",
    "            \"DecisionTreeClassifier\",\n",
    "        ):\n",
    "\n",
    "            # Add parameters of your choice here:\n",
    "            if Mtype in (\"LogisticRegression\"):\n",
    "                paramGrid = (\n",
    "                    ParamGridBuilder()  #                              .addGrid(classifier.regParam, [0.1, 0.01]) \\\n",
    "                    .addGrid(classifier.maxIter, [10, 15, 20])\n",
    "                    .build()\n",
    "                )\n",
    "\n",
    "            # Add parameters of your choice here:\n",
    "            if Mtype in (\"NaiveBayes\"):\n",
    "                paramGrid = (\n",
    "                    ParamGridBuilder()\n",
    "                    .addGrid(classifier.smoothing, [0.0, 0.2, 0.4, 0.6])\n",
    "                    .build()\n",
    "                )\n",
    "\n",
    "            # Add parameters of your choice here:\n",
    "            if Mtype in (\"RandomForestClassifier\"):\n",
    "                paramGrid = (\n",
    "                    ParamGridBuilder().addGrid(classifier.maxDepth, [2, 5, 10])\n",
    "                    #                                .addGrid(classifier.maxBins, [5, 10, 20])\n",
    "                    #                                .addGrid(classifier.numTrees, [5, 20, 50])\n",
    "                    .build()\n",
    "                )\n",
    "\n",
    "            # Add parameters of your choice here:\n",
    "            if Mtype in (\"GBTClassifier\"):\n",
    "                paramGrid = (\n",
    "                    ParamGridBuilder()  #                              .addGrid(classifier.maxDepth, [2, 5, 10, 20, 30]) \\\n",
    "                    #                              .addGrid(classifier.maxBins, [10, 20, 40, 80, 100]) \\\n",
    "                    .addGrid(classifier.maxIter, [10, 15, 50, 100]).build()\n",
    "                )\n",
    "\n",
    "            # Add parameters of your choice here:\n",
    "            if Mtype in (\"LinearSVC\"):\n",
    "                paramGrid = (\n",
    "                    ParamGridBuilder()\n",
    "                    .addGrid(classifier.maxIter, [10, 15])\n",
    "                    .addGrid(classifier.regParam, [0.1, 0.01])\n",
    "                    .build()\n",
    "                )\n",
    "\n",
    "            # Add parameters of your choice here:\n",
    "            if Mtype in (\"DecisionTreeClassifier\"):\n",
    "                paramGrid = (\n",
    "                    ParamGridBuilder()  #                              .addGrid(classifier.maxDepth, [2, 5, 10, 20, 30]) \\\n",
    "                    .addGrid(classifier.maxBins, [10, 20, 40, 80, 100])\n",
    "                    .build()\n",
    "                )\n",
    "\n",
    "            # Cross Validator requires all of the following parameters:\n",
    "            crossval = CrossValidator(\n",
    "                estimator=classifier,\n",
    "                estimatorParamMaps=paramGrid,\n",
    "                evaluator=MulticlassClassificationEvaluator(),\n",
    "                numFolds=2,\n",
    "            )  # 3 + is best practice\n",
    "            # Fit Model: Run cross-validation, and choose the best set of parameters.\n",
    "            fitModel = crossval.fit(train)\n",
    "            return fitModel\n",
    "\n",
    "    fitModel = IntanceFitModel(Mtype, classifier, classes, features, train)\n",
    "\n",
    "    # Print feature selection metrics\n",
    "    if fitModel is not None:\n",
    "\n",
    "        if Mtype in (\"OneVsRest\"):\n",
    "            # Get Best Model\n",
    "            BestModel = fitModel.bestModel\n",
    "            print(\" \")\n",
    "            print(\"\\033[1m\" + Mtype + \"\\033[0m\")\n",
    "            # Extract list of binary models\n",
    "            models = BestModel.models\n",
    "            for model in models:\n",
    "                print(\n",
    "                    \"\\033[1m\" + \"Intercept: \" + \"\\033[0m\",\n",
    "                    model.intercept,\n",
    "                    \"\\033[1m\" + \"\\nCoefficients:\" + \"\\033[0m\",\n",
    "                    model.coefficients,\n",
    "                )\n",
    "\n",
    "        if Mtype == \"MultilayerPerceptronClassifier\":\n",
    "            print(\"\")\n",
    "            print(\"\\033[1m\" + Mtype, \" Weights\" + \"\\033[0m\")\n",
    "            print(\"\\033[1m\" + \"Model Weights: \" + \"\\033[0m\", fitModel.weights.size)\n",
    "            print(\"\")\n",
    "\n",
    "        if Mtype in (\n",
    "            \"DecisionTreeClassifier\",\n",
    "            \"GBTClassifier\",\n",
    "            \"RandomForestClassifier\",\n",
    "        ):\n",
    "            # FEATURE IMPORTANCES\n",
    "            # Estimate of the importance of each feature.\n",
    "            # Each feature’s importance is the average of its importance across all trees\n",
    "            # in the ensemble The importance vector is normalized to sum to 1.\n",
    "            # Get Best Model\n",
    "            BestModel = fitModel.bestModel\n",
    "            print(\" \")\n",
    "            print(\"\\033[1m\" + Mtype, \" Feature Importances\" + \"\\033[0m\")\n",
    "            print(\"(Scores add up to 1)\")\n",
    "            print(\"Lowest score is the least important\")\n",
    "            print(\" \")\n",
    "            print(BestModel.featureImportances)\n",
    "\n",
    "            if Mtype in (\"DecisionTreeClassifier\"):\n",
    "                global DT_featureimportances\n",
    "                DT_featureimportances = BestModel.featureImportances.toArray()\n",
    "                global DT_BestModel\n",
    "                DT_BestModel = BestModel\n",
    "            if Mtype in (\"GBTClassifier\"):\n",
    "                global GBT_featureimportances\n",
    "                GBT_featureimportances = BestModel.featureImportances.toArray()\n",
    "                global GBT_BestModel\n",
    "                GBT_BestModel = BestModel\n",
    "            if Mtype in (\"RandomForestClassifier\"):\n",
    "                global RF_featureimportances\n",
    "                RF_featureimportances = BestModel.featureImportances.toArray()\n",
    "                global RF_BestModel\n",
    "                RF_BestModel = BestModel\n",
    "\n",
    "        if Mtype in (\"LogisticRegression\"):\n",
    "            # Get Best Model\n",
    "            BestModel = fitModel.bestModel\n",
    "            print(\" \")\n",
    "            print(\"\\033[1m\" + Mtype, \" Coefficient Matrix\" + \"\\033[0m\")\n",
    "            print(\"You should compares these relative to eachother\")\n",
    "            print(\"Coefficients: \\n\" + str(BestModel.coefficientMatrix))\n",
    "            print(\"Intercept: \" + str(BestModel.interceptVector))\n",
    "            global LR_coefficients\n",
    "            LR_coefficients = BestModel.coefficientMatrix.toArray()\n",
    "            global LR_BestModel\n",
    "            LR_BestModel = BestModel\n",
    "\n",
    "        if Mtype in (\"LinearSVC\"):\n",
    "            # Get Best Model\n",
    "            BestModel = fitModel.bestModel\n",
    "            print(\" \")\n",
    "            print(\"\\033[1m\" + Mtype, \" Coefficients\" + \"\\033[0m\")\n",
    "            print(\"You should compares these relative to eachother\")\n",
    "            print(\"Coefficients: \\n\" + str(BestModel.coefficients))\n",
    "            global LSVC_coefficients\n",
    "            LSVC_coefficients = BestModel.coefficients.toArray()\n",
    "            global LSVC_BestModel\n",
    "            LSVC_BestModel = BestModel\n",
    "\n",
    "    # Set the column names to match the external results dataframe that we will join with later:\n",
    "    columns = [\"Classifier\", \"Result\"]\n",
    "\n",
    "    if Mtype in (\"LinearSVC\", \"GBTClassifier\") and classes != 2:\n",
    "        Mtype = [Mtype]  # make this a list\n",
    "        score = [\"N/A\"]\n",
    "        result = spark.createDataFrame(zip(Mtype, score), schema=columns)\n",
    "    else:\n",
    "        predictions = fitModel.transform(test)\n",
    "        MC_evaluator = MulticlassClassificationEvaluator(\n",
    "            metricName=\"fMeasureByLabel\", beta=1.0\n",
    "        )  # redictionCol=\"prediction\",\n",
    "        accuracy = (MC_evaluator.evaluate(predictions)) * 100\n",
    "        Mtype = [Mtype]  # make this a string\n",
    "        score = [str(accuracy)]  # make this a string and convert to a list\n",
    "        result = spark.createDataFrame(zip(Mtype, score), schema=columns)\n",
    "        result = result.withColumn(\"Result\", result.Result.substr(0, 5))\n",
    "\n",
    "    return result\n",
    "    # Also returns the fit model important scores or p values"
   ]
  },
  {
   "cell_type": "markdown",
   "metadata": {},
   "source": [
    "Read in all dependencies and declare the algorithims you want to test"
   ]
  },
  {
   "cell_type": "code",
   "execution_count": 57,
   "metadata": {},
   "outputs": [],
   "source": [
    "# from pyspark.ml.classification import *\n",
    "# from pyspark.ml.evaluation import *\n",
    "# from pyspark.sql import functions\n",
    "# from pyspark.ml.tuning import CrossValidator, ParamGridBuilder\n",
    "\n",
    "# Comment out Naive Bayes if your data still contains negative values\n",
    "classifiers = [\n",
    "    LogisticRegression(),\n",
    "    OneVsRest(),\n",
    "    LinearSVC(),\n",
    "    NaiveBayes(),\n",
    "    RandomForestClassifier(),\n",
    "    GBTClassifier(),\n",
    "    DecisionTreeClassifier(),\n",
    "    MultilayerPerceptronClassifier(),\n",
    "]\n",
    "\n",
    "featureDF_list = [HTFfeaturizedData, TFIDFfeaturizedData, W2VfeaturizedData]"
   ]
  },
  {
   "cell_type": "markdown",
   "metadata": {},
   "source": [
    "Loop through all feature types (hashingTF, TFIDF and Word2Vec)"
   ]
  },
  {
   "cell_type": "code",
   "execution_count": 58,
   "metadata": {},
   "outputs": [
    {
     "name": "stdout",
     "output_type": "stream",
     "text": [
      "\u001b[1mHTFfeaturizedData  Results:\u001b[0m\n"
     ]
    },
    {
     "name": "stderr",
     "output_type": "stream",
     "text": [
      "                                                                                \r"
     ]
    },
    {
     "name": "stdout",
     "output_type": "stream",
     "text": [
      " \n",
      "\u001b[1mLogisticRegression  Coefficient Matrix\u001b[0m\n",
      "You should compares these relative to eachother\n",
      "Coefficients: \n",
      "DenseMatrix([[-0.02084135, -0.04647101,  0.00528349,  0.04161692, -0.00721138,\n",
      "              -0.00366765,  0.08073108, -0.01817296, -0.0345073 , -0.00674497,\n",
      "               0.04157756, -0.06228243, -0.06560296, -0.01242676, -0.03218051,\n",
      "               0.0797224 ,  0.00129737, -0.02077709,  0.05564467, -0.00402408]])\n",
      "Intercept: [-1.7538739056298203]\n"
     ]
    },
    {
     "name": "stderr",
     "output_type": "stream",
     "text": [
      "                                                                                \r"
     ]
    },
    {
     "name": "stdout",
     "output_type": "stream",
     "text": [
      " \n",
      "\u001b[1mOneVsRest\u001b[0m\n",
      "\u001b[1mIntercept: \u001b[0m 1.8040818650995905 \u001b[1m\n",
      "Coefficients:\u001b[0m [0.0032668759748329715,0.015127916583229546,-0.0016508974173061206,-0.010082744087030818,0.0015380980643082667,0.004266629978340085,-0.02346853560858176,0.006843377266200853,0.008261414271127872,0.002596272944829785,-0.008129814903774929,0.018523592486764568,0.015284280775083295,0.0018330391211245983,0.011937424395062351,-0.021918927987520632,0.0023254236577804387,0.0066718810723855925,-0.014608093971260703,0.0008643948367865949]\n",
      "\u001b[1mIntercept: \u001b[0m -1.8040818650995907 \u001b[1m\n",
      "Coefficients:\u001b[0m [-0.003266875974832974,-0.015127916583229565,0.0016508974173061123,0.010082744087030818,-0.0015380980643082522,-0.004266629978340083,0.023468535608581736,-0.006843377266200848,-0.008261414271127861,-0.0025962729448297905,0.00812981490377493,-0.01852359248676459,-0.015284280775083287,-0.0018330391211245918,-0.01193742439506235,0.02191892798752063,-0.0023254236577804383,-0.006671881072385587,0.01460809397126071,-0.0008643948367865899]\n"
     ]
    },
    {
     "name": "stderr",
     "output_type": "stream",
     "text": [
      "                                                                                \r"
     ]
    },
    {
     "name": "stdout",
     "output_type": "stream",
     "text": [
      " \n",
      "\u001b[1mLinearSVC  Coefficients\u001b[0m\n",
      "You should compares these relative to eachother\n",
      "Coefficients: \n",
      "[-0.0009364279131075579,-0.0021881971164234224,-0.0004688209052867408,0.0021319078724465227,-0.0007381186382697452,0.0,0.006153152018785885,-0.001889439882337969,-0.0022515257801326762,-0.0006627715779285126,0.00028564788208232833,-0.002339193136430156,-0.004857343957189951,-0.0009169301540094105,-0.0011674810984431288,0.004782500017219599,-0.00023310913804272139,-0.0013679016541575377,0.0026932745010846987,-0.0008042571915764504]\n"
     ]
    },
    {
     "name": "stderr",
     "output_type": "stream",
     "text": [
      "                                                                                \r"
     ]
    },
    {
     "name": "stdout",
     "output_type": "stream",
     "text": [
      " \n",
      "\u001b[1mRandomForestClassifier  Feature Importances\u001b[0m\n",
      "(Scores add up to 1)\n",
      "Lowest score is the least important\n",
      " \n",
      "(20,[0,1,2,3,4,5,6,7,8,9,10,11,12,13,14,15,16,17,18,19],[0.07205780921318859,0.05184007738156972,0.04408858740807446,0.044403772551018864,0.03140613983752436,0.04419004754434385,0.06963015734858508,0.04214408685945768,0.05291413762474141,0.03688617971832471,0.0641963890627655,0.04132199662624305,0.059959784154170324,0.0490526006056549,0.0642371848069885,0.05015988237133064,0.03817800168710801,0.05155085478462329,0.05075008054173917,0.04103222987254783])\n"
     ]
    },
    {
     "name": "stderr",
     "output_type": "stream",
     "text": [
      "                                                                                \r"
     ]
    },
    {
     "name": "stdout",
     "output_type": "stream",
     "text": [
      " \n",
      "\u001b[1mGBTClassifier  Feature Importances\u001b[0m\n",
      "(Scores add up to 1)\n",
      "Lowest score is the least important\n",
      " \n",
      "(20,[0,1,2,3,4,5,6,7,8,9,10,11,12,13,14,15,16,17,18,19],[0.061852117682657186,0.05646359791559172,0.054984625282304016,0.054444630977027245,0.05155710766257806,0.04584960779191782,0.0407729632370736,0.04691462371224818,0.05839682980358466,0.03370322316309605,0.059457128899880786,0.0408023574834652,0.058872672513295275,0.06658470539856765,0.04312828366850235,0.05770503959909279,0.031165564155839424,0.054886326764443244,0.0358415129212004,0.04661708136763444])\n"
     ]
    },
    {
     "name": "stderr",
     "output_type": "stream",
     "text": [
      "                                                                                \r"
     ]
    },
    {
     "name": "stdout",
     "output_type": "stream",
     "text": [
      " \n",
      "\u001b[1mDecisionTreeClassifier  Feature Importances\u001b[0m\n",
      "(Scores add up to 1)\n",
      "Lowest score is the least important\n",
      " \n",
      "(20,[0,1,4,5,6,8,10,12,15,16],[0.10126048990695444,0.08688713369120339,0.0617488302671066,0.13019813957588292,0.20256755103104784,0.08221716181849771,0.1055811502359953,0.0445422687310569,0.16950251521150692,0.015494759530747975])\n"
     ]
    },
    {
     "name": "stderr",
     "output_type": "stream",
     "text": [
      "                                                                                \r"
     ]
    },
    {
     "name": "stdout",
     "output_type": "stream",
     "text": [
      "\n",
      "\u001b[1mMultilayerPerceptronClassifier  Weights\u001b[0m\n",
      "\u001b[1mModel Weights: \u001b[0m 923\n",
      "\n"
     ]
    },
    {
     "name": "stderr",
     "output_type": "stream",
     "text": [
      "\r",
      "[Stage 32715:======>                                                (1 + 7) / 8]\r",
      "\r",
      "                                                                                \r"
     ]
    },
    {
     "name": "stdout",
     "output_type": "stream",
     "text": [
      "+------------------------------+------+\n",
      "|Classifier                    |Result|\n",
      "+------------------------------+------+\n",
      "|LogisticRegression            |94.07 |\n",
      "|OneVsRest                     |94.12 |\n",
      "|LinearSVC                     |94.12 |\n",
      "|NaiveBayes                    |93.83 |\n",
      "|RandomForestClassifier        |95.72 |\n",
      "|GBTClassifier                 |95.56 |\n",
      "|DecisionTreeClassifier        |94.35 |\n",
      "|MultilayerPerceptronClassifier|94.35 |\n",
      "+------------------------------+------+\n",
      "\n",
      "None\n",
      "\u001b[1mTFIDFfeaturizedData  Results:\u001b[0m\n"
     ]
    },
    {
     "name": "stderr",
     "output_type": "stream",
     "text": [
      "                                                                                \r"
     ]
    },
    {
     "name": "stdout",
     "output_type": "stream",
     "text": [
      " \n",
      "\u001b[1mLogisticRegression  Coefficient Matrix\u001b[0m\n",
      "You should compares these relative to eachother\n",
      "Coefficients: \n",
      "DenseMatrix([[-0.24325844, -0.43096839,  0.10227758,  0.39384314, -0.06556127,\n",
      "              -0.04469701,  0.8670754 , -0.32004126, -0.3521491 , -0.05515062,\n",
      "               0.63494538, -0.64669185, -1.31449645, -0.23075988, -0.26792781,\n",
      "               0.96448225,  0.01336484, -0.29772685,  0.37715412, -0.02591433]])\n",
      "Intercept: [-1.7538739056298203]\n"
     ]
    },
    {
     "name": "stderr",
     "output_type": "stream",
     "text": [
      "                                                                                \r"
     ]
    },
    {
     "name": "stdout",
     "output_type": "stream",
     "text": [
      " \n",
      "\u001b[1mOneVsRest\u001b[0m\n",
      "\u001b[1mIntercept: \u001b[0m 1.8040818650995907 \u001b[1m\n",
      "Coefficients:\u001b[0m [0.038130699615730596,0.1402950825877816,-0.031957996728523834,-0.09541838532624433,0.013983415933817887,0.05199667183349198,-0.25205892754891596,0.1205176646012542,0.08430822659629478,0.02122857577184317,-0.12415323907376337,0.19233442737327378,0.3062534536296939,0.03403877882261046,0.09938834115993699,-0.2651753596267798,0.02395536818463543,0.09560522649270645,-0.09901222517001501,0.005566541259201662]\n",
      "\u001b[1mIntercept: \u001b[0m -1.8040818650995905 \u001b[1m\n",
      "Coefficients:\u001b[0m [-0.03813069961573053,-0.14029508258778167,0.03195799672852392,0.09541838532624436,-0.013983415933817949,-0.0519966718334922,0.25205892754891596,-0.12051766460125438,-0.08430822659629478,-0.02122857577184309,0.12415323907376348,-0.19233442737327364,-0.30625345362969375,-0.03403877882261052,-0.09938834115993704,0.2651753596267798,-0.02395536818463555,-0.09560522649270645,0.09901222517001508,-0.00556654125920171]\n"
     ]
    },
    {
     "name": "stderr",
     "output_type": "stream",
     "text": [
      "                                                                                \r"
     ]
    },
    {
     "name": "stdout",
     "output_type": "stream",
     "text": [
      " \n",
      "\u001b[1mLinearSVC  Coefficients\u001b[0m\n",
      "You should compares these relative to eachother\n",
      "Coefficients: \n",
      "[-0.010929907269685402,-0.020293164196008122,-0.0090754136509975,0.020175381334414696,-0.006710508365454006,0.0,0.06608665000527114,-0.03327463519342938,-0.02297695520756354,-0.005419190108458121,0.004362228441217207,-0.024288343242931866,-0.09732733808330983,-0.017027013961906395,-0.009720188029658806,0.05785872204622981,-0.0024013754269371257,-0.019601450632379946,0.01825474985789971,-0.005179266059203886]\n"
     ]
    },
    {
     "name": "stderr",
     "output_type": "stream",
     "text": [
      "                                                                                \r"
     ]
    },
    {
     "name": "stdout",
     "output_type": "stream",
     "text": [
      " \n",
      "\u001b[1mRandomForestClassifier  Feature Importances\u001b[0m\n",
      "(Scores add up to 1)\n",
      "Lowest score is the least important\n",
      " \n",
      "(20,[0,1,2,3,4,5,6,7,8,9,10,11,12,13,14,15,16,17,18,19],[0.07205780921318859,0.05184007738156972,0.04408858740807446,0.044403772551018864,0.03140613983752436,0.04419004754434385,0.06963015734858508,0.04214408685945768,0.05291413762474141,0.03688617971832471,0.0641963890627655,0.04132199662624305,0.059959784154170324,0.0490526006056549,0.0642371848069885,0.05015988237133064,0.03817800168710801,0.05155085478462329,0.05075008054173917,0.04103222987254783])\n"
     ]
    },
    {
     "name": "stderr",
     "output_type": "stream",
     "text": [
      "                                                                                \r"
     ]
    },
    {
     "name": "stdout",
     "output_type": "stream",
     "text": [
      " \n",
      "\u001b[1mGBTClassifier  Feature Importances\u001b[0m\n",
      "(Scores add up to 1)\n",
      "Lowest score is the least important\n",
      " \n",
      "(20,[0,1,2,3,4,5,6,7,8,9,10,11,12,13,14,15,16,17,18,19],[0.061852117682657186,0.05646359791559172,0.054984625282304016,0.054444630977027245,0.05155710766257806,0.04584960779191782,0.0407729632370736,0.04691462371224818,0.05839682980358466,0.03370322316309605,0.059457128899880786,0.0408023574834652,0.058872672513295275,0.06658470539856765,0.04312828366850235,0.05770503959909279,0.031165564155839424,0.054886326764443244,0.0358415129212004,0.04661708136763444])\n"
     ]
    },
    {
     "name": "stderr",
     "output_type": "stream",
     "text": [
      "                                                                                \r"
     ]
    },
    {
     "name": "stdout",
     "output_type": "stream",
     "text": [
      " \n",
      "\u001b[1mDecisionTreeClassifier  Feature Importances\u001b[0m\n",
      "(Scores add up to 1)\n",
      "Lowest score is the least important\n",
      " \n",
      "(20,[0,1,4,5,6,8,10,12,15,16],[0.10126048990695444,0.08688713369120339,0.0617488302671066,0.13019813957588292,0.20256755103104784,0.08221716181849771,0.1055811502359953,0.0445422687310569,0.16950251521150692,0.015494759530747975])\n"
     ]
    },
    {
     "name": "stderr",
     "output_type": "stream",
     "text": [
      "                                                                                \r"
     ]
    },
    {
     "name": "stdout",
     "output_type": "stream",
     "text": [
      "\n",
      "\u001b[1mMultilayerPerceptronClassifier  Weights\u001b[0m\n",
      "\u001b[1mModel Weights: \u001b[0m 923\n",
      "\n"
     ]
    },
    {
     "name": "stderr",
     "output_type": "stream",
     "text": [
      "                                                                                \r"
     ]
    },
    {
     "name": "stdout",
     "output_type": "stream",
     "text": [
      "+------------------------------+------+\n",
      "|Classifier                    |Result|\n",
      "+------------------------------+------+\n",
      "|LogisticRegression            |94.07 |\n",
      "|OneVsRest                     |94.12 |\n",
      "|LinearSVC                     |94.12 |\n",
      "|NaiveBayes                    |94.12 |\n",
      "|RandomForestClassifier        |95.72 |\n",
      "|GBTClassifier                 |95.56 |\n",
      "|DecisionTreeClassifier        |94.35 |\n",
      "|MultilayerPerceptronClassifier|94.32 |\n",
      "+------------------------------+------+\n",
      "\n",
      "None\n",
      "\u001b[1mW2VfeaturizedData  Results:\u001b[0m\n"
     ]
    },
    {
     "name": "stderr",
     "output_type": "stream",
     "text": [
      "                                                                                \r"
     ]
    },
    {
     "name": "stdout",
     "output_type": "stream",
     "text": [
      " \n",
      "\u001b[1mLogisticRegression  Coefficient Matrix\u001b[0m\n",
      "You should compares these relative to eachother\n",
      "Coefficients: \n",
      "DenseMatrix([[  2.64158645,  -5.62320747,   0.10734977,   0.13781533,\n",
      "                0.19671607,  -2.61549038,  -1.98890302,  -1.11585628,\n",
      "               -0.13781503,  -4.55711004,   5.89353746,   3.57173211,\n",
      "                1.09644484,   2.58315969,  -0.82239663,  -1.16333416,\n",
      "               10.83813452,  -3.56074531,  13.19126674,   2.37739238,\n",
      "               -9.46037352,   4.26194458,   7.13740955,  -1.89676755,\n",
      "               -5.3934214 ,   2.50765324, -10.52621523,  -0.81733608,\n",
      "                1.1721689 , -10.85111433]])\n",
      "Intercept: [-4.867973470847969]\n"
     ]
    },
    {
     "name": "stderr",
     "output_type": "stream",
     "text": [
      "                                                                                \r"
     ]
    },
    {
     "name": "stdout",
     "output_type": "stream",
     "text": [
      " \n",
      "\u001b[1mOneVsRest\u001b[0m\n",
      "\u001b[1mIntercept: \u001b[0m 3.0336210923429006 \u001b[1m\n",
      "Coefficients:\u001b[0m [-0.8269208489343342,3.4375249207384537,-0.036616885747027435,1.0519231632274761,-1.875852068714575,2.415203723984845,0.05086980277737133,1.1558338650991202,0.5966416890214342,3.118743884625738,-3.983155785794878,-1.3845352528439099,-0.9515333362385202,-1.2727018299061084,-1.0273696979924052,0.7194799675334835,-3.8359283420660293,1.8808973302032472,-4.3671529334900665,-0.3142021762072734,5.41997497178991,-2.6816007339061505,-4.817095450568676,1.5801670652069197,1.5608932791047803,-1.263589423820736,4.764214150527417,-0.06817818704466884,-0.6742289894753323,3.6654908772049533]\n",
      "\u001b[1mIntercept: \u001b[0m -3.0336210920117983 \u001b[1m\n",
      "Coefficients:\u001b[0m [0.8269208489463531,-3.4375249206652367,0.03661688578099322,-1.0519231632777135,1.8758520686405036,-2.4152037239753468,-0.05086980273756305,-1.1558338651447322,-0.5966416890665525,-3.1187438846086306,3.9831557857966016,1.3845352528140444,0.9515333362435512,1.2727018298854336,1.0273696980450164,-0.7194799675340648,3.8359283419163703,-1.8808973302359295,4.367152933377797,0.31420217614042645,-5.419974971849623,2.6816007339198125,4.817095450572512,-1.5801670652498867,-1.5608932791357157,1.2635894237668328,-4.764214150499807,0.06817818704086548,0.6742289894251922,-3.6654908772586534]\n"
     ]
    },
    {
     "name": "stderr",
     "output_type": "stream",
     "text": [
      "                                                                                \r"
     ]
    },
    {
     "name": "stdout",
     "output_type": "stream",
     "text": [
      " \n",
      "\u001b[1mLinearSVC  Coefficients\u001b[0m\n",
      "You should compares these relative to eachother\n",
      "Coefficients: \n",
      "[-0.17982518867374006,-0.16218842249292376,-0.11691535224306704,-0.3064818899495204,0.41238800613207205,-0.3947526688350569,0.21647008102614934,-0.18200337514457626,-0.10046925547427389,-0.37558613678577873,0.30036292674642273,0.0,0.24637836098944504,0.1878409097668752,0.3032674779855532,-0.009434726739579562,0.8373909566505459,-0.30203078755572504,0.41851888297381623,0.3081087322063616,-1.591674776937075,0.4453796094869897,0.8733412288916874,-1.0567664705075452,-0.7506345477506271,0.18420617402311237,-1.2807939053530633,0.2151629610320034,-0.1536263627664864,-0.6004247984001669]\n"
     ]
    },
    {
     "name": "stderr",
     "output_type": "stream",
     "text": [
      "                                                                                \r"
     ]
    },
    {
     "name": "stdout",
     "output_type": "stream",
     "text": [
      " \n",
      "\u001b[1mRandomForestClassifier  Feature Importances\u001b[0m\n",
      "(Scores add up to 1)\n",
      "Lowest score is the least important\n",
      " \n",
      "(30,[0,1,2,3,4,5,6,7,8,9,10,11,12,13,14,15,16,17,18,19,20,21,22,23,24,25,26,27,28,29],[0.03905042058474036,0.030527752676270357,0.026641119564362246,0.041207917892457556,0.027787759444113602,0.03268124277489815,0.022640682624809293,0.020084920517278025,0.02713491375545005,0.027625903745827362,0.036781784274538716,0.04104176585016078,0.04744552157866844,0.037944277719876005,0.021597032699701597,0.04317195066048144,0.030085962374052967,0.03279768861176486,0.05009666009663296,0.026169041697904155,0.021402348075795215,0.03432737060767056,0.04699779812336554,0.033682380098237596,0.03814046174263184,0.02135484479522331,0.05611288200656458,0.023428690386333998,0.029335145438823134,0.03270375958136541])\n"
     ]
    },
    {
     "name": "stderr",
     "output_type": "stream",
     "text": [
      "                                                                                \r"
     ]
    },
    {
     "name": "stdout",
     "output_type": "stream",
     "text": [
      " \n",
      "\u001b[1mGBTClassifier  Feature Importances\u001b[0m\n",
      "(Scores add up to 1)\n",
      "Lowest score is the least important\n",
      " \n",
      "(30,[0,1,2,3,4,5,6,7,8,9,10,11,12,13,14,15,16,17,18,19,20,21,22,23,24,25,26,27,28,29],[0.040771536775404085,0.027606437427680628,0.03397280541403219,0.04443822393632663,0.042574919666305194,0.035933846223804966,0.03134931969555392,0.03179843287259773,0.03515688631408193,0.024302939128858017,0.03385685127660338,0.04165083706946745,0.03833630577634098,0.046004234225889326,0.016331383552858614,0.031506756605892146,0.029242462427359846,0.038940931442438056,0.04340572587825346,0.02831749360476977,0.027117074504201387,0.022346517801055548,0.03161983192440593,0.02313730741828078,0.041739387660839074,0.03442546138452255,0.02827409081158559,0.03698850505808019,0.0317902360267073,0.027063258095803136])\n"
     ]
    },
    {
     "name": "stderr",
     "output_type": "stream",
     "text": [
      "                                                                                \r"
     ]
    },
    {
     "name": "stdout",
     "output_type": "stream",
     "text": [
      " \n",
      "\u001b[1mDecisionTreeClassifier  Feature Importances\u001b[0m\n",
      "(Scores add up to 1)\n",
      "Lowest score is the least important\n",
      " \n",
      "(30,[0,1,3,6,7,8,9,11,12,14,15,16,18,19,21,22,23,25,26],[0.029006263079626254,0.004373288283876313,0.10573944160765653,0.07819726142601052,0.009206922702897517,0.011504682751398126,0.004629052520781673,0.0513456241923609,0.1300576653739016,0.0123112706912943,0.020685234617953994,0.08307815085751616,0.09256843298230528,0.0224920646044361,0.017409240956410475,0.03669327969899995,0.10836675659602771,0.03095045430569636,0.1513849127508503])\n"
     ]
    },
    {
     "name": "stderr",
     "output_type": "stream",
     "text": [
      "                                                                                \r"
     ]
    },
    {
     "name": "stdout",
     "output_type": "stream",
     "text": [
      "\n",
      "\u001b[1mMultilayerPerceptronClassifier  Weights\u001b[0m\n",
      "\u001b[1mModel Weights: \u001b[0m 1983\n",
      "\n"
     ]
    },
    {
     "name": "stderr",
     "output_type": "stream",
     "text": [
      "\r",
      "[Stage 46039:=============>                                         (2 + 6) / 8]\r",
      "\r",
      "                                                                                \r"
     ]
    },
    {
     "name": "stdout",
     "output_type": "stream",
     "text": [
      "+------------------------------+------+\n",
      "|Classifier                    |Result|\n",
      "+------------------------------+------+\n",
      "|LogisticRegression            |94.44 |\n",
      "|OneVsRest                     |93.61 |\n",
      "|LinearSVC                     |93.39 |\n",
      "|NaiveBayes                    |93.39 |\n",
      "|RandomForestClassifier        |96.12 |\n",
      "|GBTClassifier                 |95.92 |\n",
      "|DecisionTreeClassifier        |94.73 |\n",
      "|MultilayerPerceptronClassifier|94.31 |\n",
      "+------------------------------+------+\n",
      "\n",
      "None\n"
     ]
    }
   ],
   "source": [
    "for featureDF in featureDF_list:\n",
    "    print(\"\\033[1m\" + featureDF.name, \" Results:\" + \"\\033[0m\")\n",
    "    train, test = featureDF.randomSplit([0.7, 0.3], seed=11)\n",
    "    features = featureDF.select([\"features\"]).collect()\n",
    "    # Learn how many classes there are in order to specify evaluation type based on binary or multi and turn the df into an object\n",
    "    class_count = featureDF.select(countDistinct(\"label\")).collect()\n",
    "    classes = class_count[0][0]\n",
    "\n",
    "    # set up your results table\n",
    "    columns = [\"Classifier\", \"Result\"]\n",
    "    vals = [(\"Place Holder\", \"N/A\")]\n",
    "    results = spark.createDataFrame(vals, columns)\n",
    "\n",
    "    for classifier in classifiers:\n",
    "        new_result = ClassTrainEval(classifier, features, classes, train, test)\n",
    "        results = results.union(new_result)\n",
    "    results = results.where(\"Classifier!='Place Holder'\")\n",
    "    print(results.show(truncate=False))"
   ]
  },
  {
   "cell_type": "markdown",
   "metadata": {},
   "source": [
    "Looks like the Random Forest classifier with either the HTFfeaturizedData or the TFIDFfeaturizedData are our best performing feature list/classifier combos. Let's go with the Hashing TF vector for the sake of simiplicity and create our final model and play around with the test dataframe. "
   ]
  },
  {
   "cell_type": "code",
   "execution_count": 59,
   "metadata": {},
   "outputs": [
    {
     "name": "stderr",
     "output_type": "stream",
     "text": [
      "                                                                                \r"
     ]
    },
    {
     "name": "stdout",
     "output_type": "stream",
     "text": [
      " \n",
      "\u001b[1mRandomForestClassifier  Feature Importances\u001b[0m\n",
      "(Scores add up to 1)\n",
      "Lowest score is the least important\n",
      " \n",
      "(20,[0,1,2,3,4,5,6,7,8,9,10,11,12,13,14,15,16,17,18,19],[0.07205780921318859,0.05184007738156972,0.04408858740807446,0.044403772551018864,0.03140613983752436,0.04419004754434385,0.06963015734858508,0.04214408685945768,0.05291413762474141,0.03688617971832471,0.0641963890627655,0.04132199662624305,0.059959784154170324,0.0490526006056549,0.0642371848069885,0.05015988237133064,0.03817800168710801,0.05155085478462329,0.05075008054173917,0.04103222987254783])\n"
     ]
    },
    {
     "name": "stderr",
     "output_type": "stream",
     "text": [
      "                                                                                \r"
     ]
    },
    {
     "data": {
      "text/plain": [
       "DataFrame[Classifier: string, Result: string]"
      ]
     },
     "execution_count": 59,
     "metadata": {},
     "output_type": "execute_result"
    }
   ],
   "source": [
    "# Train final model\n",
    "classifier = RandomForestClassifier()\n",
    "featureDF = HTFfeaturizedData\n",
    "\n",
    "train, test = featureDF.randomSplit([0.7, 0.3], seed=11)\n",
    "features = featureDF.select([\"features\"]).collect()\n",
    "\n",
    "# Learn how many classes there are in order to specify evaluation type based on binary or multi and turn the df into an object\n",
    "class_count = featureDF.select(countDistinct(\"label\")).collect()\n",
    "classes = class_count[0][0]\n",
    "\n",
    "# running this afain with generate all the objects need to play around with test data\n",
    "ClassTrainEval(classifier, features, classes, train, test)"
   ]
  },
  {
   "cell_type": "markdown",
   "metadata": {},
   "source": [
    "Let's see some results!"
   ]
  },
  {
   "cell_type": "code",
   "execution_count": 60,
   "metadata": {},
   "outputs": [
    {
     "name": "stdout",
     "output_type": "stream",
     "text": [
      "Predicted Fraudulent:\n"
     ]
    },
    {
     "name": "stderr",
     "output_type": "stream",
     "text": [
      "\r",
      "[Stage 46182:>                                                      (0 + 8) / 8]\r",
      "\r",
      "                                                                                \r"
     ]
    },
    {
     "name": "stdout",
     "output_type": "stream",
     "text": [
      "+----------+---------------------------------------------------------------------------------------------------------------------------------------------------------------------------------------------------------------------------------------------------------------------------------------------------------------------------------------------------------------------------------------------------------------------------------------------------------------------------------------------------------------------------------------------------------------------+\n",
      "|fraudulent|description                                                                                                                                                                                                                                                                                                                                                                                                                                                                                                                                                          |\n",
      "+----------+---------------------------------------------------------------------------------------------------------------------------------------------------------------------------------------------------------------------------------------------------------------------------------------------------------------------------------------------------------------------------------------------------------------------------------------------------------------------------------------------------------------------------------------------------------------------+\n",
      "|1         |weekly part time cash job staff requiredyou can do it all from home in your free time at your own placespend minutes or hours a day amp get biggest cashyou can work in the morning afternoon or at nightperfect for everyone then start immediatelycan earn to extra per dayno any experience requiredzero startup fee visit hereurlebefbebdfcbabcedbfacbcfcrginfo                                                                                                                                                                                                  |\n",
      "|1         |we are a fullservice marketing and staffing firm serving companies ranging from fortune to new startup organizations we work with job seekers in an equally broad range from light industrial temporary workers to executive level candidatesare you looking for a work from home opportunity where you can earn up to and more per week our online service representative position would be perfect for you set your own hours make money every time you decide to work work remotely from home get paid weekly if you have a computer with internet this is for you|\n",
      "|1         |we have several openings available in this area earning per weekwe are seeking only honest selfmotivated people with a desire to work in the home typing and data entry field from the comfort of their own homesthe preferred applicants should be at least years old with internet access no experience is needed however the following skills are desirable                                                                                                                                                                                                       |\n",
      "+----------+---------------------------------------------------------------------------------------------------------------------------------------------------------------------------------------------------------------------------------------------------------------------------------------------------------------------------------------------------------------------------------------------------------------------------------------------------------------------------------------------------------------------------------------------------------------------+\n",
      "only showing top 3 rows\n",
      "\n",
      " \n",
      "Predicted Not Fraudulent:\n",
      "+----------+--------------------------------------------------------------------------------------------------------------------------------------------------------------------------------------------------------------------------------------------------------------------------------------------------------------------------------------------------------------------------------------------------------------------------------------------------------------------------------------------------------------------------------------------------------------+\n",
      "|fraudulent|description                                                                                                                                                                                                                                                                                                                                                                                                                                                                                                                                                   |\n",
      "+----------+--------------------------------------------------------------------------------------------------------------------------------------------------------------------------------------------------------------------------------------------------------------------------------------------------------------------------------------------------------------------------------------------------------------------------------------------------------------------------------------------------------------------------------------------------------------+\n",
      "|0         |our company currently has immediate openings for customer support representativesour support team responds to any issues that our customers may be having on a day to day basis if you arecomfortableworking at a fast pace and are able to pay great attention to detail our support team memberposition may be a good fit for you this is a telecommute position which means you can work from anywhere as long as it is a quiet space with a reliable internet connection                                                                                  |\n",
      "|0         |openings for both senior and intermediate level developersdevelop worldclass products in a microsoft environmentwe want to teach you what we know and learn from you what we dont be a part of a culture that encourages and empowers employees to be the best that they can becreate and support applications using visual studio mvc entity framework dependency injection and web api ms sql it is an advantage having worked with agile methods coding is one of the passions in your life and you are great at it you love working with the net framework|\n",
      "|0         |north paws pet care is seeking a qualified independent contractor to perform pet care services in the indianapolis area services include but are not limited to dog walking individual and multipledog walks multipledog walks will only include samehome pets animal medicine administration feedings animal waste removal litter box and yardsmall animal cage cleaning mail retrievalovernight pet sittinghouse sitting                                                                                                                                    |\n",
      "+----------+--------------------------------------------------------------------------------------------------------------------------------------------------------------------------------------------------------------------------------------------------------------------------------------------------------------------------------------------------------------------------------------------------------------------------------------------------------------------------------------------------------------------------------------------------------------+\n",
      "only showing top 3 rows\n",
      "\n"
     ]
    },
    {
     "name": "stderr",
     "output_type": "stream",
     "text": [
      "\r",
      "[Stage 46183:======>                                                (1 + 7) / 8]\r",
      "\r",
      "                                                                                \r"
     ]
    }
   ],
   "source": [
    "predictions = RF_BestModel.transform(test)\n",
    "print(\"Predicted Fraudulent:\")\n",
    "predictions.select(\"fraudulent\", \"description\").filter(\"prediction=1\").orderBy(\n",
    "    predictions[\"prediction\"].desc()\n",
    ").show(3, False)\n",
    "print(\" \")\n",
    "print(\"Predicted Not Fraudulent:\")\n",
    "predictions.select(\"fraudulent\", \"description\").filter(\"prediction=0\").orderBy(\n",
    "    predictions[\"prediction\"].desc()\n",
    ").show(3, False)"
   ]
  },
  {
   "cell_type": "markdown",
   "metadata": {},
   "source": [
    "## What could be next?\n",
    "\n",
    "This analysis was really just the tip of the ice berg here. We could also consider the following analysis:\n",
    "\n",
    "1. Autotag suspicious descriptions\n",
    "2. Conduct a similar analysis on the company profile field and the requirements field (NLP)\n",
    "3. Frequent pattern mining on null and non null values in other fields\n",
    "4. Consider doing anlaysis on amount of typos in the description"
   ]
  }
 ],
 "metadata": {
  "kernelspec": {
   "display_name": "Python 3 (ipykernel)",
   "language": "python",
   "name": "python3"
  },
  "language_info": {
   "codemirror_mode": {
    "name": "ipython",
    "version": 3
   },
   "file_extension": ".py",
   "mimetype": "text/x-python",
   "name": "python",
   "nbconvert_exporter": "python",
   "pygments_lexer": "ipython3",
   "version": "3.7.10"
  }
 },
 "nbformat": 4,
 "nbformat_minor": 2
}
