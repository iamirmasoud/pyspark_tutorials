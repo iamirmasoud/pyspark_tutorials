{
 "cells": [
  {
   "cell_type": "markdown",
   "metadata": {},
   "source": [
    "# NLP in Pyspark's MLlib\n",
    "\n",
    "Natural Language Processing (NLP) is a very trendy topic in the data science area today that is really handy for tasks like **chat bots**, movie or **product review analysis** and especially **tweet classification**. In this notebook, we will cover the **classification aspect of NLP** and go over the features that Spark has for cleaning and preparing your data for analysis. We will also touch on how to implement **ML Pipelines** to a few of our data processing steps to help make our code run a bit faster. \n",
    "\n",
    "As we learned in the NLP concept review lectures, the text you process must first be cleaned, tokenized and vectorized. Essentially, we need to covert our text into a vector of numbers. But how do we do that? Spark has a variety of built in functions to accomplish all of these tasks very easily. We will cover all of it here!\n",
    "\n",
    "### Agenda\n",
    "\n",
    "    1. Review Data (quality check)\n",
    "    2. Clean up the data (remove puncuation, special characters, etc.)\n",
    "    3. Tokenize text data\n",
    "    4. Remove Stopwords\n",
    "    5. Zero index our label column\n",
    "    5. Create an ML Pipeline (to streamline steps 3-5)\n",
    "    6. Vectorize Text column\n",
    "         - Count Vectors\n",
    "         - TF-IDF\n",
    "         - Word2Vec\n",
    "    7. Train and Evaluate Model (classification)\n",
    "    8. View Predictions"
   ]
  },
  {
   "cell_type": "code",
   "execution_count": 9,
   "metadata": {},
   "outputs": [
    {
     "name": "stdout",
     "output_type": "stream",
     "text": [
      "You are working with 1 core(s)\n"
     ]
    },
    {
     "data": {
      "text/html": [
       "\n",
       "            <div>\n",
       "                <p><b>SparkSession - in-memory</b></p>\n",
       "                \n",
       "        <div>\n",
       "            <p><b>SparkContext</b></p>\n",
       "\n",
       "            <p><a href=\"http://192.168.7.139:4040\">Spark UI</a></p>\n",
       "\n",
       "            <dl>\n",
       "              <dt>Version</dt>\n",
       "                <dd><code>v3.3.0</code></dd>\n",
       "              <dt>Master</dt>\n",
       "                <dd><code>local[*]</code></dd>\n",
       "              <dt>AppName</dt>\n",
       "                <dd><code>NLP</code></dd>\n",
       "            </dl>\n",
       "        </div>\n",
       "        \n",
       "            </div>\n",
       "        "
      ],
      "text/plain": [
       "<pyspark.sql.session.SparkSession at 0x7faec311e950>"
      ]
     },
     "execution_count": 9,
     "metadata": {},
     "output_type": "execute_result"
    }
   ],
   "source": [
    "# First let's create our PySpark instance\n",
    "# import findspark\n",
    "# findspark.init()\n",
    "\n",
    "import pyspark  # only run after findspark.init()\n",
    "from pyspark.sql import SparkSession\n",
    "\n",
    "# May take awhile locally\n",
    "spark = SparkSession.builder.appName(\"NLP\").getOrCreate()\n",
    "\n",
    "spark.sparkContext.setLogLevel(\"ERROR\")\n",
    "\n",
    "cores = spark._jsc.sc().getExecutorMemoryStatus().keySet().size()\n",
    "print(\"You are working with\", cores, \"core(s)\")\n",
    "spark"
   ]
  },
  {
   "cell_type": "markdown",
   "metadata": {},
   "source": [
    "**Import Dependencies**"
   ]
  },
  {
   "cell_type": "code",
   "execution_count": 46,
   "metadata": {},
   "outputs": [],
   "source": [
    "from pyspark.ml.feature import (\n",
    "    MinMaxScaler,\n",
    "    CountVectorizer,\n",
    "    StringIndexer,\n",
    "    RegexTokenizer,\n",
    "    StopWordsRemover,\n",
    "    HashingTF,\n",
    "    IDF,\n",
    "    Word2Vec,\n",
    ")\n",
    "from pyspark.sql.functions import (\n",
    "    col,\n",
    "    udf,\n",
    "    regexp_replace,\n",
    "    isnull,\n",
    "    translate,\n",
    "    lower,\n",
    "    countDistinct,\n",
    ")\n",
    "from pyspark.sql.types import StringType, IntegerType\n",
    "from pyspark.ml.classification import (\n",
    "    LogisticRegression,\n",
    "    OneVsRest,\n",
    "    MultilayerPerceptronClassifier,\n",
    "    NaiveBayes,\n",
    "    LinearSVC,\n",
    "    RandomForestClassifier,\n",
    "    DecisionTreeClassifier,\n",
    "    GBTClassifier,\n",
    ")\n",
    "from pyspark.ml.evaluation import (\n",
    "    BinaryClassificationEvaluator,\n",
    "    MulticlassClassificationEvaluator,\n",
    ")\n",
    "from pyspark.ml.tuning import CrossValidator, ParamGridBuilder\n",
    "\n",
    "# For pipeline development\n",
    "from pyspark.ml import Pipeline"
   ]
  },
  {
   "cell_type": "markdown",
   "metadata": {},
   "source": [
    "## Read in Dataset\n",
    "\n",
    "#### Kickstarter Dataset\n",
    "\n",
    "##### What is Kickstarter?\n",
    "\"Kickstarter is an American public-benefit corporation based in Brooklyn, New York, that maintains a global crowdfunding platform, focused on creativity and merchandising. The company's stated mission is to \"help bring creative projects to life\". Kickstarter, has reportedly received more than $1.9 billion in pledges from 9.4 million backers to fund 257,000 creative projects, such as films, music, stage shows, comics, journalism, video games, technology and food-related projects.\n",
    "\n",
    "People who back Kickstarter projects are offered tangible rewards or experiences in exchange for their pledges. This model traces its roots to subscription model of arts patronage, where artists would go directly to their audiences to fund their work\" ~ Wikipedia\n",
    "\n",
    "So, what if you can predict if a project will be or not to be able to get the money from their backers?\n",
    "\n",
    "#### Content\n",
    "\n",
    "The datastet contains the blurbs or short description of 215,513 projects run along 2017, all written in English and all labeled with \"successful\" or \"failed\", if they get the money or not, respectively. From those texts you can train linguistics models for description, and even embeddings relative to the case.\n",
    "\n",
    "**Source:** https://www.kaggle.com/oscarvilla/kickstarter-nlp"
   ]
  },
  {
   "cell_type": "code",
   "execution_count": 11,
   "metadata": {},
   "outputs": [],
   "source": [
    "path = \"Datasets/\"\n",
    "\n",
    "# CSV\n",
    "df = spark.read.csv(path + \"kickstarter.csv\", inferSchema=True, header=True)"
   ]
  },
  {
   "cell_type": "code",
   "execution_count": 12,
   "metadata": {},
   "outputs": [
    {
     "data": {
      "text/html": [
       "<div>\n",
       "<style scoped>\n",
       "    .dataframe tbody tr th:only-of-type {\n",
       "        vertical-align: middle;\n",
       "    }\n",
       "\n",
       "    .dataframe tbody tr th {\n",
       "        vertical-align: top;\n",
       "    }\n",
       "\n",
       "    .dataframe thead th {\n",
       "        text-align: right;\n",
       "    }\n",
       "</style>\n",
       "<table border=\"1\" class=\"dataframe\">\n",
       "  <thead>\n",
       "    <tr style=\"text-align: right;\">\n",
       "      <th></th>\n",
       "      <th>_c0</th>\n",
       "      <th>blurb</th>\n",
       "      <th>state</th>\n",
       "    </tr>\n",
       "  </thead>\n",
       "  <tbody>\n",
       "    <tr>\n",
       "      <th>0</th>\n",
       "      <td>1</td>\n",
       "      <td>Using their own character, users go on educati...</td>\n",
       "      <td>failed</td>\n",
       "    </tr>\n",
       "    <tr>\n",
       "      <th>1</th>\n",
       "      <td>2</td>\n",
       "      <td>MicroFly is a quadcopter packed with WiFi, 6 s...</td>\n",
       "      <td>successful</td>\n",
       "    </tr>\n",
       "    <tr>\n",
       "      <th>2</th>\n",
       "      <td>3</td>\n",
       "      <td>A small indie press, run as a collective for a...</td>\n",
       "      <td>failed</td>\n",
       "    </tr>\n",
       "    <tr>\n",
       "      <th>3</th>\n",
       "      <td>4</td>\n",
       "      <td>Zylor is a new baby cosplayer! Back this kicks...</td>\n",
       "      <td>failed</td>\n",
       "    </tr>\n",
       "  </tbody>\n",
       "</table>\n",
       "</div>"
      ],
      "text/plain": [
       "  _c0                                              blurb       state\n",
       "0   1  Using their own character, users go on educati...      failed\n",
       "1   2  MicroFly is a quadcopter packed with WiFi, 6 s...  successful\n",
       "2   3  A small indie press, run as a collective for a...      failed\n",
       "3   4  Zylor is a new baby cosplayer! Back this kicks...      failed"
      ]
     },
     "execution_count": 12,
     "metadata": {},
     "output_type": "execute_result"
    }
   ],
   "source": [
    "df.limit(4).toPandas()"
   ]
  },
  {
   "cell_type": "code",
   "execution_count": 13,
   "metadata": {},
   "outputs": [
    {
     "name": "stdout",
     "output_type": "stream",
     "text": [
      "+---+-----------------------------------------------------------------------------------------------------------------------------------+----------+\n",
      "|_c0|blurb                                                                                                                              |state     |\n",
      "+---+-----------------------------------------------------------------------------------------------------------------------------------+----------+\n",
      "|1  |Using their own character, users go on educational quests around a virtual world leveling up subject-oriented skills (ie Physics). |failed    |\n",
      "|2  |MicroFly is a quadcopter packed with WiFi, 6 sensors, and 3 processors for ultimate stability -- and fits in the palm of your hand.|successful|\n",
      "|3  |A small indie press, run as a collective for authors who want to self-publish, and a sexy, smart , hilarious novel!                |failed    |\n",
      "|4  |Zylor is a new baby cosplayer! Back this kickstarter to help fund new cosplay photoshoots to share his cuteness with the world!    |failed    |\n",
      "+---+-----------------------------------------------------------------------------------------------------------------------------------+----------+\n",
      "only showing top 4 rows\n",
      "\n"
     ]
    }
   ],
   "source": [
    "# Let's read a few full blurbs\n",
    "df.show(4, False)"
   ]
  },
  {
   "cell_type": "markdown",
   "metadata": {},
   "source": [
    "We can see from the output above that the blurb text contains a good bit of punctuation and special characters. We'll need to clean that up. "
   ]
  },
  {
   "cell_type": "code",
   "execution_count": 14,
   "metadata": {},
   "outputs": [
    {
     "name": "stdout",
     "output_type": "stream",
     "text": [
      "root\n",
      " |-- _c0: string (nullable = true)\n",
      " |-- blurb: string (nullable = true)\n",
      " |-- state: string (nullable = true)\n",
      "\n"
     ]
    }
   ],
   "source": [
    "df.printSchema()"
   ]
  },
  {
   "cell_type": "markdown",
   "metadata": {},
   "source": [
    "**See how many rows are in the df?**"
   ]
  },
  {
   "cell_type": "code",
   "execution_count": 15,
   "metadata": {},
   "outputs": [
    {
     "data": {
      "text/plain": [
       "223627"
      ]
     },
     "execution_count": 15,
     "metadata": {},
     "output_type": "execute_result"
    }
   ],
   "source": [
    "df.count()"
   ]
  },
  {
   "cell_type": "markdown",
   "metadata": {},
   "source": [
    "## How many null values do we have?\n",
    "\n",
    "Let's use our handy dandy function!"
   ]
  },
  {
   "cell_type": "code",
   "execution_count": 16,
   "metadata": {},
   "outputs": [
    {
     "name": "stdout",
     "output_type": "stream",
     "text": [
      "+-----------+-----------------+------------------+\n",
      "|Column_Name|Null_Values_Count|Null_Value_Percent|\n",
      "+-----------+-----------------+------------------+\n",
      "|      blurb|             1488|0.6653937136392296|\n",
      "|      state|            13157| 5.883457722010312|\n",
      "+-----------+-----------------+------------------+\n",
      "\n"
     ]
    }
   ],
   "source": [
    "def null_value_calc(df):\n",
    "    null_columns_counts = []\n",
    "    numRows = df.count()\n",
    "    for k in df.columns:\n",
    "        nullRows = df.where(col(k).isNull()).count()\n",
    "        if nullRows > 0:\n",
    "            temp = k, nullRows, (nullRows / numRows) * 100\n",
    "            null_columns_counts.append(temp)\n",
    "    return null_columns_counts\n",
    "\n",
    "\n",
    "null_columns_calc_list = null_value_calc(df)\n",
    "spark.createDataFrame(\n",
    "    null_columns_calc_list, [\"Column_Name\", \"Null_Values_Count\", \"Null_Value_Percent\"]\n",
    ").show()"
   ]
  },
  {
   "cell_type": "markdown",
   "metadata": {},
   "source": [
    "Not too bad! Less than 1% for the blurb column and about 5% of the state column. Unfortunately, though, we will need each row of data to contain value in both of these columns to conduct our analysis, so let's how many rows that actually effects. "
   ]
  },
  {
   "cell_type": "code",
   "execution_count": 17,
   "metadata": {},
   "outputs": [
    {
     "name": "stdout",
     "output_type": "stream",
     "text": [
      "Total Rows that contain at least one null value: 13157\n",
      "Percentage of Rows that contain at least one null value: 0.058834577220103115\n"
     ]
    }
   ],
   "source": [
    "# Of course you will want to know how many rows that affected before you actually execute it..\n",
    "og_len = df.count()\n",
    "drop_len = df.na.drop().count()\n",
    "print(\"Total Rows that contain at least one null value:\", og_len - drop_len)\n",
    "print(\n",
    "    \"Percentage of Rows that contain at least one null value:\",\n",
    "    (og_len - drop_len) / og_len,\n",
    ")"
   ]
  },
  {
   "cell_type": "markdown",
   "metadata": {},
   "source": [
    "So dropping all rows that have at least one null value would impact just under 6% of our dataframe. I can live with that, so I'll go ahead and drop them. "
   ]
  },
  {
   "cell_type": "code",
   "execution_count": 18,
   "metadata": {},
   "outputs": [],
   "source": [
    "# Drop the null values\n",
    "# It's only about 6% so that's okay\n",
    "df = df.dropna()"
   ]
  },
  {
   "cell_type": "code",
   "execution_count": 19,
   "metadata": {},
   "outputs": [
    {
     "data": {
      "text/plain": [
       "210470"
      ]
     },
     "execution_count": 19,
     "metadata": {},
     "output_type": "execute_result"
    }
   ],
   "source": [
    "# New df row count\n",
    "df.count()"
   ]
  },
  {
   "cell_type": "markdown",
   "metadata": {},
   "source": [
    "If you want to make this notebook run faster, you can slice the df like this..."
   ]
  },
  {
   "cell_type": "code",
   "execution_count": 20,
   "metadata": {},
   "outputs": [
    {
     "name": "stdout",
     "output_type": "stream",
     "text": [
      "Sliced row count: 400\n"
     ]
    }
   ],
   "source": [
    "# Slice the dataframe down to make this notebook run faster\n",
    "df = df.limit(400)\n",
    "print(\"Sliced row count:\", df.count())"
   ]
  },
  {
   "cell_type": "markdown",
   "metadata": {},
   "source": [
    "## Quality Assurance Check (QA)\n",
    "\n",
    "Let's make sure our dependent variable column is clean before we go any further. This an important step in our analysis. "
   ]
  },
  {
   "cell_type": "code",
   "execution_count": 21,
   "metadata": {},
   "outputs": [
    {
     "name": "stdout",
     "output_type": "stream",
     "text": [
      "+---------------------------------------------------------------------------+-----+\n",
      "|state                                                                      |count|\n",
      "+---------------------------------------------------------------------------+-----+\n",
      "|failed                                                                     |240  |\n",
      "|successful                                                                 |156  |\n",
      "| best experienced with Oculus Rift.\"                                       |1    |\n",
      "| mixing pixel art graphics with deep storytelling and action combat system\"|1    |\n",
      "| smart                                                                     |1    |\n",
      "| Adventure with RPG elements.\"                                             |1    |\n",
      "+---------------------------------------------------------------------------+-----+\n",
      "\n"
     ]
    }
   ],
   "source": [
    "# Quick data quality check on the state column....\n",
    "# This is going to be our category column so it's important\n",
    "df.groupBy(\"state\").count().orderBy(col(\"count\").desc()).show(truncate=False)"
   ]
  },
  {
   "cell_type": "markdown",
   "metadata": {},
   "source": [
    "We can see from the query above that we have some invalid data in the label (state) column. Let's delete those."
   ]
  },
  {
   "cell_type": "code",
   "execution_count": 22,
   "metadata": {},
   "outputs": [
    {
     "name": "stdout",
     "output_type": "stream",
     "text": [
      "+----------+-----+\n",
      "|state     |count|\n",
      "+----------+-----+\n",
      "|failed    |240  |\n",
      "|successful|156  |\n",
      "+----------+-----+\n",
      "\n"
     ]
    }
   ],
   "source": [
    "df = df.filter(\"state IN('successful','failed')\")\n",
    "# Make sure it worked\n",
    "df.groupBy(\"state\").count().orderBy(col(\"count\").desc()).show(truncate=False)"
   ]
  },
  {
   "cell_type": "code",
   "execution_count": 23,
   "metadata": {},
   "outputs": [
    {
     "name": "stdout",
     "output_type": "stream",
     "text": [
      "+-----------------------------------------------------------------------------------------------------------------------------------+\n",
      "|blurb                                                                                                                              |\n",
      "+-----------------------------------------------------------------------------------------------------------------------------------+\n",
      "|Using their own character, users go on educational quests around a virtual world leveling up subject-oriented skills (ie Physics). |\n",
      "|MicroFly is a quadcopter packed with WiFi, 6 sensors, and 3 processors for ultimate stability -- and fits in the palm of your hand.|\n",
      "|A small indie press, run as a collective for authors who want to self-publish, and a sexy, smart , hilarious novel!                |\n",
      "|Zylor is a new baby cosplayer! Back this kickstarter to help fund new cosplay photoshoots to share his cuteness with the world!    |\n",
      "|Hatoful Boyfriend meet Skeletons! A comedy Dating Sim that puts you into a high school full of Skeletons. Rattle some Bones!       |\n",
      "|FastMan is a Infinite running platformer. Go in FastMan's shoes and run through the platform dodging obstacles.                    |\n",
      "|FADE. A dark and somber RPG about survival and hope.(Legend of Zelda/Fable Inspired)                                               |\n",
      "|The next generation of space combat with online progression, leveling, an arsenal of ships, weapons and much more!                 |\n",
      "|Whip around planets and smash your way to victory in this video game of galactic proportions!                                      |\n",
      "|Sneak in, find treasures, avoid cats and collect the loot before time runs out!                                                    |\n",
      "+-----------------------------------------------------------------------------------------------------------------------------------+\n",
      "only showing top 10 rows\n",
      "\n"
     ]
    }
   ],
   "source": [
    "# Let's check the quality of the blurbs\n",
    "df.select(\"blurb\").show(10, False)"
   ]
  },
  {
   "cell_type": "markdown",
   "metadata": {},
   "source": [
    "We see some punctuation proper casing and some slashes which might making parsing problematic. Let's clean this up a bit!"
   ]
  },
  {
   "cell_type": "markdown",
   "metadata": {},
   "source": [
    "## Clean the blurb column\n",
    "\n",
    "Keep in mind that you can/should do all of this in one call...\n",
    "But we will show each individually for the purpose of learning."
   ]
  },
  {
   "cell_type": "code",
   "execution_count": 27,
   "metadata": {},
   "outputs": [
    {
     "name": "stdout",
     "output_type": "stream",
     "text": [
      "+-----------------------------------------------------------------------------------------------------------------------------+\n",
      "|blurb                                                                                                                        |\n",
      "+-----------------------------------------------------------------------------------------------------------------------------+\n",
      "|Using their own character users go on educational quests around a virtual world leveling up subjectoriented skills ie Physics|\n",
      "|MicroFly is a quadcopter packed with WiFi  sensors and  processors for ultimate stability  and fits in the palm of your hand |\n",
      "|A small indie press run as a collective for authors who want to selfpublish and a sexy smart  hilarious novel                |\n",
      "|Zylor is a new baby cosplayer Back this kickstarter to help fund new cosplay photoshoots to share his cuteness with the world|\n",
      "|Hatoful Boyfriend meet Skeletons A comedy Dating Sim that puts you into a high school full of Skeletons Rattle some Bones    |\n",
      "|FastMan is a Infinite running platformer Go in FastMans shoes and run through the platform dodging obstacles                 |\n",
      "|FADE A dark and somber RPG about survival and hopeLegend of ZeldaFable Inspired                                              |\n",
      "+-----------------------------------------------------------------------------------------------------------------------------+\n",
      "only showing top 7 rows\n",
      "\n"
     ]
    }
   ],
   "source": [
    "# Replace Slashes and parenthesis with spaces\n",
    "# You can test your script on line 7 of the df \"(Legend of Zelda/Fable Inspired)\"\n",
    "df = (\n",
    "    df.withColumn(\"blurb\", translate(col(\"blurb\"), \"/\", \" \"))\n",
    "    .withColumn(\"blurb\", translate(col(\"blurb\"), \"(\", \" \"))\n",
    "    .withColumn(\"blurb\", translate(col(\"blurb\"), \")\", \" \"))\n",
    ")\n",
    "df.select(\"blurb\").show(7, False)"
   ]
  },
  {
   "cell_type": "code",
   "execution_count": 28,
   "metadata": {},
   "outputs": [
    {
     "name": "stdout",
     "output_type": "stream",
     "text": [
      "+-----------------------------------------------------------------------------------------------------------------------------+\n",
      "|blurb                                                                                                                        |\n",
      "+-----------------------------------------------------------------------------------------------------------------------------+\n",
      "|Using their own character users go on educational quests around a virtual world leveling up subjectoriented skills ie Physics|\n",
      "|MicroFly is a quadcopter packed with WiFi  sensors and  processors for ultimate stability  and fits in the palm of your hand |\n",
      "|A small indie press run as a collective for authors who want to selfpublish and a sexy smart  hilarious novel                |\n",
      "|Zylor is a new baby cosplayer Back this kickstarter to help fund new cosplay photoshoots to share his cuteness with the world|\n",
      "|Hatoful Boyfriend meet Skeletons A comedy Dating Sim that puts you into a high school full of Skeletons Rattle some Bones    |\n",
      "|FastMan is a Infinite running platformer Go in FastMans shoes and run through the platform dodging obstacles                 |\n",
      "|FADE A dark and somber RPG about survival and hopeLegend of ZeldaFable Inspired                                              |\n",
      "|The next generation of space combat with online progression leveling an arsenal of ships weapons and much more               |\n",
      "|Whip around planets and smash your way to victory in this video game of galactic proportions                                 |\n",
      "|Sneak in find treasures avoid cats and collect the loot before time runs out                                                 |\n",
      "+-----------------------------------------------------------------------------------------------------------------------------+\n",
      "only showing top 10 rows\n",
      "\n"
     ]
    }
   ],
   "source": [
    "# Removing anything that is not a letter\n",
    "df = df.withColumn(\"blurb\", regexp_replace(col(\"blurb\"), \"[^A-Za-z ]+\", \"\"))\n",
    "df.select(\"blurb\").show(10, False)"
   ]
  },
  {
   "cell_type": "code",
   "execution_count": 29,
   "metadata": {},
   "outputs": [
    {
     "name": "stdout",
     "output_type": "stream",
     "text": [
      "+-----------------------------------------------------------------------------------------------------------------------------+\n",
      "|blurb                                                                                                                        |\n",
      "+-----------------------------------------------------------------------------------------------------------------------------+\n",
      "|Using their own character users go on educational quests around a virtual world leveling up subjectoriented skills ie Physics|\n",
      "|MicroFly is a quadcopter packed with WiFi sensors and processors for ultimate stability and fits in the palm of your hand    |\n",
      "|A small indie press run as a collective for authors who want to selfpublish and a sexy smart hilarious novel                 |\n",
      "|Zylor is a new baby cosplayer Back this kickstarter to help fund new cosplay photoshoots to share his cuteness with the world|\n",
      "+-----------------------------------------------------------------------------------------------------------------------------+\n",
      "only showing top 4 rows\n",
      "\n"
     ]
    }
   ],
   "source": [
    "# Remove multiple spaces\n",
    "df = df.withColumn(\"blurb\", regexp_replace(col(\"blurb\"), \" +\", \" \"))\n",
    "df.select(\"blurb\").show(4, False)"
   ]
  },
  {
   "cell_type": "code",
   "execution_count": 32,
   "metadata": {},
   "outputs": [
    {
     "name": "stdout",
     "output_type": "stream",
     "text": [
      "+-----------------------------------------------------------------------------------------------------------------------------+\n",
      "|blurb                                                                                                                        |\n",
      "+-----------------------------------------------------------------------------------------------------------------------------+\n",
      "|using their own character users go on educational quests around a virtual world leveling up subjectoriented skills ie physics|\n",
      "|microfly is a quadcopter packed with wifi sensors and processors for ultimate stability and fits in the palm of your hand    |\n",
      "|a small indie press run as a collective for authors who want to selfpublish and a sexy smart hilarious novel                 |\n",
      "|zylor is a new baby cosplayer back this kickstarter to help fund new cosplay photoshoots to share his cuteness with the world|\n",
      "+-----------------------------------------------------------------------------------------------------------------------------+\n",
      "only showing top 4 rows\n",
      "\n"
     ]
    }
   ],
   "source": [
    "# Lower case everything\n",
    "df = df.withColumn(\"blurb\", lower(col(\"blurb\")))\n",
    "df.select(\"blurb\").show(4, False)"
   ]
  },
  {
   "cell_type": "markdown",
   "metadata": {},
   "source": [
    "Take a pause here and go look at your Spark UI. You'll notice that only the \"show strings\" calls (as opposed to each of the data manipulation calls) are creating jobs. This is because of Sparks lazy computation. \n",
    "\n",
    "<br>\n",
    "So when you want to speed up your notebook those are some calls you can take out. "
   ]
  },
  {
   "cell_type": "markdown",
   "metadata": {},
   "source": [
    "## Prep Data for NLP \n",
    "\n",
    "Alright so here is where our analysis turns from basic text cleaning to actually turning our text into number (the backbone of NLP). These next several steps in our analysis are very unique to NLP. "
   ]
  },
  {
   "cell_type": "markdown",
   "metadata": {},
   "source": [
    "### Split text into words (Tokenizing)\n",
    "\n",
    "You'll see a new column is added to our dataframe that we call \"words\". This column contains an array of strings as opposed to just a string (current data type of the blurb column)."
   ]
  },
  {
   "cell_type": "code",
   "execution_count": 33,
   "metadata": {},
   "outputs": [
    {
     "name": "stdout",
     "output_type": "stream",
     "text": [
      "+---+-----------------------------------------------------------------------------------------------------------------------------+----------+-------------------------------------------------------------------------------------------------------------------------------------------------+\n",
      "|_c0|blurb                                                                                                                        |state     |words                                                                                                                                            |\n",
      "+---+-----------------------------------------------------------------------------------------------------------------------------+----------+-------------------------------------------------------------------------------------------------------------------------------------------------+\n",
      "|1  |using their own character users go on educational quests around a virtual world leveling up subjectoriented skills ie physics|failed    |[using, their, own, character, users, go, on, educational, quests, around, a, virtual, world, leveling, up, subjectoriented, skills, ie, physics]|\n",
      "|2  |microfly is a quadcopter packed with wifi sensors and processors for ultimate stability and fits in the palm of your hand    |successful|[microfly, is, a, quadcopter, packed, with, wifi, sensors, and, processors, for, ultimate, stability, and, fits, in, the, palm, of, your, hand]  |\n",
      "+---+-----------------------------------------------------------------------------------------------------------------------------+----------+-------------------------------------------------------------------------------------------------------------------------------------------------+\n",
      "only showing top 2 rows\n",
      "\n",
      "root\n",
      " |-- _c0: string (nullable = true)\n",
      " |-- blurb: string (nullable = true)\n",
      " |-- state: string (nullable = true)\n",
      " |-- words: array (nullable = true)\n",
      " |    |-- element: string (containsNull = true)\n",
      "\n"
     ]
    }
   ],
   "source": [
    "regex_tokenizer = RegexTokenizer(inputCol=\"blurb\", outputCol=\"words\", pattern=\"\\\\W\")\n",
    "raw_words = regex_tokenizer.transform(df)\n",
    "raw_words.show(2, False)\n",
    "raw_words.printSchema()"
   ]
  },
  {
   "cell_type": "markdown",
   "metadata": {},
   "source": [
    "### Removing Stopwords\n",
    "\n",
    "**Recall from the content review lecture**\n",
    "Recall that \"stopwords\" are any word that we feel would \"distract\" our model from performing it's best. This list can be customized, but for now, we will just use the default list. "
   ]
  },
  {
   "cell_type": "code",
   "execution_count": 34,
   "metadata": {},
   "outputs": [
    {
     "data": {
      "text/plain": [
       "['i', 'me', 'my', 'myself', 'we', 'our', 'ours', 'ourselves', 'you', 'your']"
      ]
     },
     "execution_count": 34,
     "metadata": {},
     "output_type": "execute_result"
    }
   ],
   "source": [
    "# from pyspark.ml.feature import StopWordsRemover\n",
    "\n",
    "# Define a list of stop words or use default list\n",
    "remover = StopWordsRemover(inputCol=\"words\", outputCol=\"filtered\")\n",
    "stopwords = remover.getStopWords()\n",
    "\n",
    "# Display default list\n",
    "stopwords[:10]"
   ]
  },
  {
   "cell_type": "code",
   "execution_count": 35,
   "metadata": {},
   "outputs": [
    {
     "name": "stdout",
     "output_type": "stream",
     "text": [
      "+---+-----------------------------------------------------------------------------------------------------------------------------+------+-------------------------------------------------------------------------------------------------------------------------------------------------+--------------------------------------------------------------------------------------------------------------------------+\n",
      "|_c0|blurb                                                                                                                        |state |words                                                                                                                                            |filtered                                                                                                                  |\n",
      "+---+-----------------------------------------------------------------------------------------------------------------------------+------+-------------------------------------------------------------------------------------------------------------------------------------------------+--------------------------------------------------------------------------------------------------------------------------+\n",
      "|1  |using their own character users go on educational quests around a virtual world leveling up subjectoriented skills ie physics|failed|[using, their, own, character, users, go, on, educational, quests, around, a, virtual, world, leveling, up, subjectoriented, skills, ie, physics]|[using, character, users, go, educational, quests, around, virtual, world, leveling, subjectoriented, skills, ie, physics]|\n",
      "+---+-----------------------------------------------------------------------------------------------------------------------------+------+-------------------------------------------------------------------------------------------------------------------------------------------------+--------------------------------------------------------------------------------------------------------------------------+\n",
      "only showing top 1 row\n",
      "\n"
     ]
    }
   ],
   "source": [
    "words_df = remover.transform(raw_words)\n",
    "words_df.show(1, False)"
   ]
  },
  {
   "cell_type": "markdown",
   "metadata": {},
   "source": [
    "### Now we need to encode state column to a column of indices\n",
    "\n",
    "Remember that MLlib requires our dependent variable to not only be a numeric data type, but also zero indexed. We can Sparks handy built in StringIndexer function to accomplish this, just like we did in the classification lectures. "
   ]
  },
  {
   "cell_type": "code",
   "execution_count": 36,
   "metadata": {},
   "outputs": [
    {
     "name": "stdout",
     "output_type": "stream",
     "text": [
      "+---+--------------------+----------+--------------------+--------------------+-----+\n",
      "|_c0|               blurb|     state|               words|            filtered|label|\n",
      "+---+--------------------+----------+--------------------+--------------------+-----+\n",
      "|  1|using their own c...|    failed|[using, their, ow...|[using, character...|  0.0|\n",
      "|  2|microfly is a qua...|successful|[microfly, is, a,...|[microfly, quadco...|  1.0|\n",
      "|  3|a small indie pre...|    failed|[a, small, indie,...|[small, indie, pr...|  0.0|\n",
      "|  4|zylor is a new ba...|    failed|[zylor, is, a, ne...|[zylor, new, baby...|  0.0|\n",
      "|  5|hatoful boyfriend...|    failed|[hatoful, boyfrie...|[hatoful, boyfrie...|  0.0|\n",
      "+---+--------------------+----------+--------------------+--------------------+-----+\n",
      "only showing top 5 rows\n",
      "\n",
      "root\n",
      " |-- _c0: string (nullable = true)\n",
      " |-- blurb: string (nullable = true)\n",
      " |-- state: string (nullable = true)\n",
      " |-- words: array (nullable = true)\n",
      " |    |-- element: string (containsNull = true)\n",
      " |-- filtered: array (nullable = true)\n",
      " |    |-- element: string (containsNull = true)\n",
      " |-- label: double (nullable = false)\n",
      "\n"
     ]
    }
   ],
   "source": [
    "indexer = StringIndexer(inputCol=\"state\", outputCol=\"label\")\n",
    "feature_data = indexer.fit(words_df).transform(words_df)\n",
    "feature_data.show(5)\n",
    "feature_data.printSchema()"
   ]
  },
  {
   "cell_type": "markdown",
   "metadata": {},
   "source": [
    "## Create an ML Pipeline\n",
    "\n",
    "We could also create an ML Pipeline to accomplish the previous three steps in a more streamlined fashion. Pipelines allow users to combine any transformer call(s) and ONE estimator call in their ML work flow. Si a Pipeline can be a continuous set of transformer calls until you reach a point where you need to call \".fit()\" which is an estimator call. \n",
    "<br>\n",
    "\n",
    "Notice in the script below that we reduced our .transform calls from 3 to 1. So the benefit here is not necessarily speed but a bit less and more organized code (always nice) and little more streamlined. This feature can be especially useful when you get to the point where you want to move your model into production. You can save this pipeline to be called on whenever you need to prep new text. "
   ]
  },
  {
   "cell_type": "code",
   "execution_count": 37,
   "metadata": {},
   "outputs": [
    {
     "name": "stdout",
     "output_type": "stream",
     "text": [
      "+---+-----------------------------------------------------------------------------------------------------------------------------+------+-------------------------------------------------------------------------------------------------------------------------------------------------+--------------------------------------------------------------------------------------------------------------------------+-----+\n",
      "|_c0|blurb                                                                                                                        |state |words                                                                                                                                            |filtered                                                                                                                  |label|\n",
      "+---+-----------------------------------------------------------------------------------------------------------------------------+------+-------------------------------------------------------------------------------------------------------------------------------------------------+--------------------------------------------------------------------------------------------------------------------------+-----+\n",
      "|1  |using their own character users go on educational quests around a virtual world leveling up subjectoriented skills ie physics|failed|[using, their, own, character, users, go, on, educational, quests, around, a, virtual, world, leveling, up, subjectoriented, skills, ie, physics]|[using, character, users, go, educational, quests, around, virtual, world, leveling, subjectoriented, skills, ie, physics]|0.0  |\n",
      "+---+-----------------------------------------------------------------------------------------------------------------------------+------+-------------------------------------------------------------------------------------------------------------------------------------------------+--------------------------------------------------------------------------------------------------------------------------+-----+\n",
      "only showing top 1 row\n",
      "\n"
     ]
    }
   ],
   "source": [
    "######################## BEFORE #############################\n",
    "# Tokenize\n",
    "regex_tokenizer = RegexTokenizer(inputCol=\"blurb\", outputCol=\"words\", pattern=\"\\\\W\")\n",
    "raw_words = regex_tokenizer.transform(df)\n",
    "\n",
    "# Remove Stop words\n",
    "remover = StopWordsRemover(inputCol=\"words\", outputCol=\"filtered\")\n",
    "words_df = remover.transform(raw_words)\n",
    "\n",
    "# Zero Index Label Column\n",
    "indexer = StringIndexer(inputCol=\"state\", outputCol=\"label\")\n",
    "feature_data = indexer.fit(words_df).transform(words_df)\n",
    "\n",
    "feature_data.show(1, False)"
   ]
  },
  {
   "cell_type": "code",
   "execution_count": 38,
   "metadata": {
    "scrolled": true
   },
   "outputs": [
    {
     "name": "stdout",
     "output_type": "stream",
     "text": [
      "+---+-----------------------------------------------------------------------------------------------------------------------------+------+-------------------------------------------------------------------------------------------------------------------------------------------------+--------------------------------------------------------------------------------------------------------------------------+-----+\n",
      "|_c0|blurb                                                                                                                        |state |words                                                                                                                                            |filtered                                                                                                                  |label|\n",
      "+---+-----------------------------------------------------------------------------------------------------------------------------+------+-------------------------------------------------------------------------------------------------------------------------------------------------+--------------------------------------------------------------------------------------------------------------------------+-----+\n",
      "|1  |using their own character users go on educational quests around a virtual world leveling up subjectoriented skills ie physics|failed|[using, their, own, character, users, go, on, educational, quests, around, a, virtual, world, leveling, up, subjectoriented, skills, ie, physics]|[using, character, users, go, educational, quests, around, virtual, world, leveling, subjectoriented, skills, ie, physics]|0.0  |\n",
      "+---+-----------------------------------------------------------------------------------------------------------------------------+------+-------------------------------------------------------------------------------------------------------------------------------------------------+--------------------------------------------------------------------------------------------------------------------------+-----+\n",
      "only showing top 1 row\n",
      "\n"
     ]
    }
   ],
   "source": [
    "################# AFTER ##################\n",
    "\n",
    "# Tokenize\n",
    "regex_tokenizer = RegexTokenizer(inputCol=\"blurb\", outputCol=\"words\", pattern=\"\\\\W\")\n",
    "# raw_words = regex_tokenizer.transform(df)\n",
    "\n",
    "# Remove Stop words\n",
    "remover = StopWordsRemover(\n",
    "    inputCol=regex_tokenizer.getOutputCol(), outputCol=\"filtered\"\n",
    ")\n",
    "# words_df = remover.transform(raw_words)\n",
    "\n",
    "# Zero Index Label Column\n",
    "indexer = StringIndexer(inputCol=\"state\", outputCol=\"label\")\n",
    "# feature_data = indexer.fit(words_df).transform(words_df)\n",
    "\n",
    "# Create the Pipeline\n",
    "pipeline = Pipeline(stages=[regex_tokenizer, remover, indexer])\n",
    "data_prep_pl = pipeline.fit(df)\n",
    "\n",
    "# Now call on the Pipeline to get our final df\n",
    "feature_data = data_prep_pl.transform(df)\n",
    "feature_data.show(1, False)"
   ]
  },
  {
   "cell_type": "markdown",
   "metadata": {},
   "source": [
    "Now take a look at the Spark UI again. You'll see the last 2 \"countbyvalue\" job ids for each one of these. If you take a look at how long it took each of those job ids to run, you will see that the second job id actually took just a bit less time to run. Since we do not have much data here it only saved us .2 seconds but that may translate to a couple of minutes on a much larger df. "
   ]
  },
  {
   "cell_type": "markdown",
   "metadata": {},
   "source": [
    "## Converting text into vectors\n",
    "\n",
    "We will test out the following three vectorizors:\n",
    "\n",
    "1. Count Vectors\n",
    "2. TF-IDF\n",
    "3. Word2Vec"
   ]
  },
  {
   "cell_type": "code",
   "execution_count": 39,
   "metadata": {},
   "outputs": [],
   "source": [
    "# Count Vector (count vectorizer and hashingTF are basically the same thing)\n",
    "# cv = CountVectorizer(inputCol=\"filtered\", outputCol=\"features\")\n",
    "# model = cv.fit(feature_data)\n",
    "# countVectorizer_features = model.transform(feature_data)\n",
    "\n",
    "# Hashing TF\n",
    "hashingTF = HashingTF(inputCol=\"filtered\", outputCol=\"rawfeatures\", numFeatures=20)\n",
    "HTFfeaturizedData = hashingTF.transform(feature_data)\n",
    "\n",
    "# TF-IDF\n",
    "idf = IDF(inputCol=\"rawfeatures\", outputCol=\"features\")\n",
    "idfModel = idf.fit(HTFfeaturizedData)\n",
    "TFIDFfeaturizedData = idfModel.transform(HTFfeaturizedData)\n",
    "TFIDFfeaturizedData.name = \"TFIDFfeaturizedData\"\n",
    "\n",
    "# rename the HTF features to features to be consistent\n",
    "HTFfeaturizedData = HTFfeaturizedData.withColumnRenamed(\"rawfeatures\", \"features\")\n",
    "# We will use later for printing\n",
    "HTFfeaturizedData.name = \"HTFfeaturizedData\""
   ]
  },
  {
   "cell_type": "code",
   "execution_count": 42,
   "metadata": {},
   "outputs": [],
   "source": [
    "# Word2Vec\n",
    "word2Vec = Word2Vec(vectorSize=3, minCount=0, inputCol=\"filtered\", outputCol=\"features\")\n",
    "model = word2Vec.fit(feature_data)\n",
    "\n",
    "W2VfeaturizedData = model.transform(feature_data)\n",
    "# W2VfeaturizedData.show(1,False)\n",
    "\n",
    "# W2Vec Dataframes typically has negative values so we will correct for that here so that we can use the Naive Bayes classifier\n",
    "scaler = MinMaxScaler(inputCol=\"features\", outputCol=\"scaledFeatures\")\n",
    "\n",
    "# Compute summary statistics and generate MinMaxScalerModel\n",
    "scalerModel = scaler.fit(W2VfeaturizedData)\n",
    "\n",
    "# rescale each feature to range [min, max].\n",
    "scaled_data = scalerModel.transform(W2VfeaturizedData)\n",
    "W2VfeaturizedData = scaled_data.select(\"state\", \"blurb\", \"label\", \"scaledFeatures\")\n",
    "W2VfeaturizedData = W2VfeaturizedData.withColumnRenamed(\"scaledFeatures\", \"features\")\n",
    "\n",
    "W2VfeaturizedData.name = \"W2VfeaturizedData\""
   ]
  },
  {
   "cell_type": "markdown",
   "metadata": {},
   "source": [
    "## Train and Evaluate your model\n",
    "\n",
    "From here on out, is straight up classification. So we can go and use our trusty function! I'll just go ahead and copy and paste it in here."
   ]
  },
  {
   "cell_type": "code",
   "execution_count": 47,
   "metadata": {},
   "outputs": [],
   "source": [
    "def ClassTrainEval(classifier, features, classes, train, test):\n",
    "    def FindMtype(classifier):\n",
    "        # Intstantiate Model\n",
    "        M = classifier\n",
    "        # Learn what it is\n",
    "        Mtype = type(M).__name__\n",
    "\n",
    "        return Mtype\n",
    "\n",
    "    Mtype = FindMtype(classifier)\n",
    "\n",
    "    def IntanceFitModel(Mtype, classifier, classes, features, train):\n",
    "\n",
    "        if Mtype == \"OneVsRest\":\n",
    "            # instantiate the base classifier.\n",
    "            lr = LogisticRegression()\n",
    "            # instantiate the One Vs Rest Classifier.\n",
    "            OVRclassifier = OneVsRest(classifier=lr)\n",
    "            #             fitModel = OVRclassifier.fit(train)\n",
    "            # Add parameters of your choice here:\n",
    "            paramGrid = ParamGridBuilder().addGrid(lr.regParam, [0.1, 0.01]).build()\n",
    "            # Cross Validator requires the following parameters:\n",
    "            crossval = CrossValidator(\n",
    "                estimator=OVRclassifier,\n",
    "                estimatorParamMaps=paramGrid,\n",
    "                evaluator=MulticlassClassificationEvaluator(),\n",
    "                numFolds=2,\n",
    "            )  # 3 is best practice\n",
    "            # Run cross-validation, and choose the best set of parameters.\n",
    "            fitModel = crossval.fit(train)\n",
    "            return fitModel\n",
    "        if Mtype == \"MultilayerPerceptronClassifier\":\n",
    "            # specify layers for the neural network:\n",
    "            # input layer of size features, two intermediate of features+1 and same size as features\n",
    "            # and output of size number of classes\n",
    "            # Note: crossvalidator cannot be used here\n",
    "            features_count = len(features[0][0])\n",
    "            layers = [features_count, features_count + 1, features_count, classes]\n",
    "            MPC_classifier = MultilayerPerceptronClassifier(\n",
    "                maxIter=100, layers=layers, blockSize=128, seed=1234\n",
    "            )\n",
    "            fitModel = MPC_classifier.fit(train)\n",
    "            return fitModel\n",
    "        if (\n",
    "            Mtype in (\"LinearSVC\", \"GBTClassifier\") and classes != 2\n",
    "        ):  # These classifiers currently only accept binary classification\n",
    "            print(\n",
    "                Mtype,\n",
    "                \" could not be used because PySpark currently only accepts binary classification data for this algorithm\",\n",
    "            )\n",
    "            return\n",
    "        if Mtype in (\n",
    "            \"LogisticRegression\",\n",
    "            \"NaiveBayes\",\n",
    "            \"RandomForestClassifier\",\n",
    "            \"GBTClassifier\",\n",
    "            \"LinearSVC\",\n",
    "            \"DecisionTreeClassifier\",\n",
    "        ):\n",
    "\n",
    "            # Add parameters of your choice here:\n",
    "            if Mtype in (\"LogisticRegression\"):\n",
    "                paramGrid = (\n",
    "                    ParamGridBuilder()  #                              .addGrid(classifier.regParam, [0.1, 0.01]) \\\n",
    "                    .addGrid(classifier.maxIter, [10, 15, 20])\n",
    "                    .build()\n",
    "                )\n",
    "\n",
    "            # Add parameters of your choice here:\n",
    "            if Mtype in (\"NaiveBayes\"):\n",
    "                paramGrid = (\n",
    "                    ParamGridBuilder()\n",
    "                    .addGrid(classifier.smoothing, [0.0, 0.2, 0.4, 0.6])\n",
    "                    .build()\n",
    "                )\n",
    "\n",
    "            # Add parameters of your choice here:\n",
    "            if Mtype in (\"RandomForestClassifier\"):\n",
    "                paramGrid = (\n",
    "                    ParamGridBuilder().addGrid(classifier.maxDepth, [2, 5, 10])\n",
    "                    #                                .addGrid(classifier.maxBins, [5, 10, 20])\n",
    "                    #                                .addGrid(classifier.numTrees, [5, 20, 50])\n",
    "                    .build()\n",
    "                )\n",
    "\n",
    "            # Add parameters of your choice here:\n",
    "            if Mtype in (\"GBTClassifier\"):\n",
    "                paramGrid = (\n",
    "                    ParamGridBuilder()  #                              .addGrid(classifier.maxDepth, [2, 5, 10, 20, 30]) \\\n",
    "                    #                              .addGrid(classifier.maxBins, [10, 20, 40, 80, 100]) \\\n",
    "                    .addGrid(classifier.maxIter, [10, 15, 50, 100]).build()\n",
    "                )\n",
    "\n",
    "            # Add parameters of your choice here:\n",
    "            if Mtype in (\"LinearSVC\"):\n",
    "                paramGrid = (\n",
    "                    ParamGridBuilder()\n",
    "                    .addGrid(classifier.maxIter, [10, 15])\n",
    "                    .addGrid(classifier.regParam, [0.1, 0.01])\n",
    "                    .build()\n",
    "                )\n",
    "\n",
    "            # Add parameters of your choice here:\n",
    "            if Mtype in (\"DecisionTreeClassifier\"):\n",
    "                paramGrid = (\n",
    "                    ParamGridBuilder()  #                              .addGrid(classifier.maxDepth, [2, 5, 10, 20, 30]) \\\n",
    "                    .addGrid(classifier.maxBins, [10, 20, 40, 80, 100])\n",
    "                    .build()\n",
    "                )\n",
    "\n",
    "            # Cross Validator requires all of the following parameters:\n",
    "            crossval = CrossValidator(\n",
    "                estimator=classifier,\n",
    "                estimatorParamMaps=paramGrid,\n",
    "                evaluator=MulticlassClassificationEvaluator(),\n",
    "                numFolds=2,\n",
    "            )  # 3 + is best practice\n",
    "            # Fit Model: Run cross-validation, and choose the best set of parameters.\n",
    "            fitModel = crossval.fit(train)\n",
    "            return fitModel\n",
    "\n",
    "    fitModel = IntanceFitModel(Mtype, classifier, classes, features, train)\n",
    "\n",
    "    # Print feature selection metrics\n",
    "    if fitModel is not None:\n",
    "\n",
    "        if Mtype in (\"OneVsRest\"):\n",
    "            # Get Best Model\n",
    "            BestModel = fitModel.bestModel\n",
    "            print(\" \")\n",
    "            print(\"\\033[1m\" + Mtype + \"\\033[0m\")\n",
    "            # Extract list of binary models\n",
    "            models = BestModel.models\n",
    "            for model in models:\n",
    "                print(\n",
    "                    \"\\033[1m\" + \"Intercept: \" + \"\\033[0m\",\n",
    "                    model.intercept,\n",
    "                    \"\\033[1m\" + \"\\nCoefficients:\" + \"\\033[0m\",\n",
    "                    model.coefficients,\n",
    "                )\n",
    "\n",
    "        if Mtype == \"MultilayerPerceptronClassifier\":\n",
    "            print(\"\")\n",
    "            print(\"\\033[1m\" + Mtype, \" Weights\" + \"\\033[0m\")\n",
    "            print(\"\\033[1m\" + \"Model Weights: \" + \"\\033[0m\", fitModel.weights.size)\n",
    "            print(\"\")\n",
    "\n",
    "        if Mtype in (\n",
    "            \"DecisionTreeClassifier\",\n",
    "            \"GBTClassifier\",\n",
    "            \"RandomForestClassifier\",\n",
    "        ):\n",
    "            # FEATURE IMPORTANCES\n",
    "            # Estimate of the importance of each feature.\n",
    "            # Each feature’s importance is the average of its importance across all trees\n",
    "            # in the ensemble The importance vector is normalized to sum to 1.\n",
    "            # Get Best Model\n",
    "            BestModel = fitModel.bestModel\n",
    "            print(\" \")\n",
    "            print(\"\\033[1m\" + Mtype, \" Feature Importances\" + \"\\033[0m\")\n",
    "            print(\"(Scores add up to 1)\")\n",
    "            print(\"Lowest score is the least important\")\n",
    "            print(\" \")\n",
    "            print(BestModel.featureImportances)\n",
    "\n",
    "            if Mtype in (\"DecisionTreeClassifier\"):\n",
    "                global DT_featureimportances\n",
    "                DT_featureimportances = BestModel.featureImportances.toArray()\n",
    "                global DT_BestModel\n",
    "                DT_BestModel = BestModel\n",
    "            if Mtype in (\"GBTClassifier\"):\n",
    "                global GBT_featureimportances\n",
    "                GBT_featureimportances = BestModel.featureImportances.toArray()\n",
    "                global GBT_BestModel\n",
    "                GBT_BestModel = BestModel\n",
    "            if Mtype in (\"RandomForestClassifier\"):\n",
    "                global RF_featureimportances\n",
    "                RF_featureimportances = BestModel.featureImportances.toArray()\n",
    "                global RF_BestModel\n",
    "                RF_BestModel = BestModel\n",
    "\n",
    "        if Mtype in (\"LogisticRegression\"):\n",
    "            # Get Best Model\n",
    "            BestModel = fitModel.bestModel\n",
    "            print(\" \")\n",
    "            print(\"\\033[1m\" + Mtype, \" Coefficient Matrix\" + \"\\033[0m\")\n",
    "            print(\"You should compares these relative to eachother\")\n",
    "            print(\"Coefficients: \\n\" + str(BestModel.coefficientMatrix))\n",
    "            print(\"Intercept: \" + str(BestModel.interceptVector))\n",
    "            global LR_coefficients\n",
    "            LR_coefficients = BestModel.coefficientMatrix.toArray()\n",
    "            global LR_BestModel\n",
    "            LR_BestModel = BestModel\n",
    "\n",
    "        if Mtype in (\"LinearSVC\"):\n",
    "            # Get Best Model\n",
    "            BestModel = fitModel.bestModel\n",
    "            print(\" \")\n",
    "            print(\"\\033[1m\" + Mtype, \" Coefficients\" + \"\\033[0m\")\n",
    "            print(\"You should compares these relative to eachother\")\n",
    "            print(\"Coefficients: \\n\" + str(BestModel.coefficients))\n",
    "            global LSVC_coefficients\n",
    "            LSVC_coefficients = BestModel.coefficients.toArray()\n",
    "            global LSVC_BestModel\n",
    "            LSVC_BestModel = BestModel\n",
    "\n",
    "    # Set the column names to match the external results dataframe that we will join with later:\n",
    "    columns = [\"Classifier\", \"Result\"]\n",
    "\n",
    "    if Mtype in (\"LinearSVC\", \"GBTClassifier\") and classes != 2:\n",
    "        Mtype = [Mtype]  # make this a list\n",
    "        score = [\"N/A\"]\n",
    "        result = spark.createDataFrame(zip(Mtype, score), schema=columns)\n",
    "    else:\n",
    "        predictions = fitModel.transform(test)\n",
    "        MC_evaluator = MulticlassClassificationEvaluator(\n",
    "            metricName=\"accuracy\"\n",
    "        )  # redictionCol=\"prediction\",\n",
    "        accuracy = (MC_evaluator.evaluate(predictions)) * 100\n",
    "        Mtype = [Mtype]  # make this a string\n",
    "        score = [str(accuracy)]  # make this a string and convert to a list\n",
    "        result = spark.createDataFrame(zip(Mtype, score), schema=columns)\n",
    "        result = result.withColumn(\"Result\", result.Result.substr(0, 5))\n",
    "\n",
    "    return result\n",
    "    # Also returns the fit model important scores or p values"
   ]
  },
  {
   "cell_type": "markdown",
   "metadata": {},
   "source": [
    "Declare the algorithims you want to test plus declare a list of all the different feature vectors we want to test out that we created above."
   ]
  },
  {
   "cell_type": "code",
   "execution_count": 48,
   "metadata": {},
   "outputs": [],
   "source": [
    "# Comment out Naive Bayes if your data still contains negative values\n",
    "classifiers = [\n",
    "    LogisticRegression(),\n",
    "    OneVsRest(),\n",
    "    LinearSVC(),\n",
    "    NaiveBayes(),\n",
    "    RandomForestClassifier(),\n",
    "    GBTClassifier(),\n",
    "    DecisionTreeClassifier(),\n",
    "    MultilayerPerceptronClassifier(),\n",
    "]\n",
    "\n",
    "featureDF_list = [HTFfeaturizedData, TFIDFfeaturizedData, W2VfeaturizedData]"
   ]
  },
  {
   "cell_type": "markdown",
   "metadata": {},
   "source": [
    "Loop through all feature types (hashingTF, TFIDF and Word2Vec)"
   ]
  },
  {
   "cell_type": "code",
   "execution_count": 49,
   "metadata": {
    "scrolled": true
   },
   "outputs": [
    {
     "name": "stdout",
     "output_type": "stream",
     "text": [
      "\u001b[1mHTFfeaturizedData  Results:\u001b[0m\n",
      " \n",
      "\u001b[1mLogisticRegression  Coefficient Matrix\u001b[0m\n",
      "You should compares these relative to eachother\n",
      "Coefficients: \n",
      "DenseMatrix([[-0.05042318,  0.23998398, -0.07587087,  0.34049138,  0.17109025,\n",
      "               0.03666383, -0.02557567, -0.04588324,  0.01669955, -0.00084086,\n",
      "              -0.24296293, -0.08575197,  0.00988307, -0.34828652, -0.08996442,\n",
      "              -0.36168405,  0.16449764,  0.12314621,  0.12997103, -0.24566485]])\n",
      "Intercept: [-0.09306373755254005]\n"
     ]
    },
    {
     "name": "stderr",
     "output_type": "stream",
     "text": [
      "                                                                                \r"
     ]
    },
    {
     "name": "stdout",
     "output_type": "stream",
     "text": [
      " \n",
      "\u001b[1mOneVsRest\u001b[0m\n",
      "\u001b[1mIntercept: \u001b[0m 0.2361929765871919 \u001b[1m\n",
      "Coefficients:\u001b[0m [0.03537983436336158,-0.15736954505582176,0.03491961519489295,-0.23115335568814774,-0.10912939492778727,-0.03976640618700078,0.007340045268953338,0.029750495268632212,-0.03556967365827326,-0.0004996707019393082,0.15208354477542058,0.052548585502884826,0.006923088105280705,0.22496896550787213,0.06004045201790746,0.23948845578075179,-0.10226091697387049,-0.08707731607322211,-0.06854354839765661,0.1618447698272626]\n",
      "\u001b[1mIntercept: \u001b[0m -0.23619297658719085 \u001b[1m\n",
      "Coefficients:\u001b[0m [-0.03537983436336172,0.1573695450558216,-0.03491961519489287,0.23115335568814777,0.1091293949277873,0.039766406187000815,-0.0073400452689533794,-0.02975049526863222,0.035569673658273016,0.0004996707019390017,-0.15208354477542071,-0.052548585502885055,-0.006923088105280809,-0.22496896550787218,-0.06004045201790767,-0.23948845578075187,0.10226091697387032,0.0870773160732219,0.06854354839765678,-0.16184476982726279]\n",
      " \n",
      "\u001b[1mLinearSVC  Coefficients\u001b[0m\n",
      "You should compares these relative to eachother\n",
      "Coefficients: \n",
      "[0.04818837633139927,0.2869106246678574,-0.08994118004520671,0.3867902185499896,0.20165027155615234,0.03937754025333518,-0.06510925332387979,-0.15908075867260504,-0.018867060992141336,-0.01929389361234836,-0.26842949038633335,-0.06918017789950258,0.03107100568168876,-0.2777084226344263,-0.09082634069877707,-0.37638347530178157,0.15490909241443754,0.2337115848703151,0.16545205901286986,-0.17826984132655485]\n",
      " \n",
      "\u001b[1mRandomForestClassifier  Feature Importances\u001b[0m\n",
      "(Scores add up to 1)\n",
      "Lowest score is the least important\n",
      " \n",
      "(20,[0,1,2,3,4,5,6,7,8,9,10,11,12,13,14,15,16,17,18,19],[0.05747215688003062,0.03619814140608186,0.04939278234502029,0.05286733140965153,0.043071227812227546,0.052207261689025196,0.05188894287236503,0.06023600713122832,0.05227390344025411,0.043697747354782386,0.04052219931662088,0.050573121365770565,0.0585632894090992,0.05405756018294864,0.04392326782025042,0.057874784416686954,0.04662073047322538,0.053280071564352605,0.035603346503792536,0.0596761266065861])\n",
      " \n",
      "\u001b[1mGBTClassifier  Feature Importances\u001b[0m\n",
      "(Scores add up to 1)\n",
      "Lowest score is the least important\n",
      " \n",
      "(20,[0,1,2,3,4,5,6,7,8,9,10,11,12,13,14,15,16,17,18,19],[0.07030112917776307,0.05077325662376042,0.030895904638135754,0.05685973291208724,0.0317960194116825,0.0489490251239432,0.042884329928144824,0.061057391274548505,0.08517458680370775,0.05907157851413613,0.02055975915243599,0.03942802650638487,0.08417332607753403,0.04293769675850997,0.061357923106266164,0.03937810561427345,0.024704396456768696,0.07974103006873284,0.0344205998719721,0.035536181979212406])\n",
      " \n",
      "\u001b[1mDecisionTreeClassifier  Feature Importances\u001b[0m\n",
      "(Scores add up to 1)\n",
      "Lowest score is the least important\n",
      " \n",
      "(20,[0,1,2,3,4,5,6,8,10,11,12,13,15,19],[0.027390847691160933,0.03595671278730581,0.06353602513459475,0.09115674111618362,0.04687307034473311,0.037023403900217064,0.13518840706271976,0.11001578778928635,0.06987845798110853,0.08426803869405138,0.08728550130916612,0.09131827208078896,0.08000300888424779,0.04010572522443582])\n",
      "\n",
      "\u001b[1mMultilayerPerceptronClassifier  Weights\u001b[0m\n",
      "\u001b[1mModel Weights: \u001b[0m 923\n",
      "\n",
      "+------------------------------+------+\n",
      "|Classifier                    |Result|\n",
      "+------------------------------+------+\n",
      "|LogisticRegression            |63.30 |\n",
      "|OneVsRest                     |62.38 |\n",
      "|LinearSVC                     |62.38 |\n",
      "|NaiveBayes                    |63.30 |\n",
      "|RandomForestClassifier        |66.97 |\n",
      "|GBTClassifier                 |63.30 |\n",
      "|DecisionTreeClassifier        |62.38 |\n",
      "|MultilayerPerceptronClassifier|51.37 |\n",
      "+------------------------------+------+\n",
      "\n",
      "None\n",
      "\u001b[1mTFIDFfeaturizedData  Results:\u001b[0m\n",
      " \n",
      "\u001b[1mLogisticRegression  Coefficient Matrix\u001b[0m\n",
      "You should compares these relative to eachother\n",
      "Coefficients: \n",
      "DenseMatrix([[-0.07143899,  0.22401582, -0.0864142 ,  0.50764275,  0.21782748,\n",
      "               0.03979398, -0.02719337, -0.05014386,  0.02187006, -0.00100528,\n",
      "              -0.27293499, -0.09117592,  0.01165268, -0.5900074 , -0.12384273,\n",
      "              -0.65735125,  0.17977254,  0.14825377,  0.13353632, -0.28965203]])\n",
      "Intercept: [-0.0930637375525405]\n"
     ]
    },
    {
     "name": "stderr",
     "output_type": "stream",
     "text": [
      "\r",
      "[Stage 8362:>                                                       (0 + 1) / 1]\r",
      "\r",
      "                                                                                \r"
     ]
    },
    {
     "name": "stdout",
     "output_type": "stream",
     "text": [
      " \n",
      "\u001b[1mOneVsRest\u001b[0m\n",
      "\u001b[1mIntercept: \u001b[0m 0.23619297658719268 \u001b[1m\n",
      "Coefficients:\u001b[0m [0.05012574464684824,-0.14689842071139442,0.03977218773246209,-0.3446293616392367,-0.13894059280610624,-0.043161430455859316,0.007804314878674135,0.032513062622324805,-0.04658274501003366,-0.0005973765295148057,0.1708446674383502,0.05587236763076891,0.008162692134563533,0.3811039078752089,0.08265015268579459,0.4352639793875853,-0.11175664698575144,-0.10483100358191656,-0.07042379422395949,0.19082366273535273]\n",
      "\u001b[1mIntercept: \u001b[0m -0.23619297658719027 \u001b[1m\n",
      "Coefficients:\u001b[0m [-0.05012574464684835,0.14689842071139408,-0.03977218773246234,0.3446293616392363,0.13894059280610624,0.04316143045585878,-0.007804314878674272,-0.03251306262232477,0.04658274501003346,0.0005973765295144777,-0.17084466743835044,-0.0558723676307692,-0.008162692134563516,-0.38110390787520965,-0.08265015268579493,-0.4352639793875858,0.11175664698575127,0.10483100358191647,0.07042379422395953,-0.19082366273535314]\n",
      " \n",
      "\u001b[1mLinearSVC  Coefficients\u001b[0m\n",
      "You should compares these relative to eachother\n",
      "Coefficients: \n",
      "[0.06827274040138814,0.2678200387125578,-0.10243977425502426,0.5766702616552948,0.2567356695055766,0.0427393654124745,-0.06922751779259517,-0.17385265764576052,-0.024708674578498492,-0.023066630007006237,-0.30154312278438444,-0.07355593486242962,0.036634381916566636,-0.4704460674249613,-0.12502922070618275,-0.6840670824883648,0.16929361938214368,0.28136168057905603,0.16999064142776588,-0.21018970284607297]\n",
      " \n",
      "\u001b[1mRandomForestClassifier  Feature Importances\u001b[0m\n",
      "(Scores add up to 1)\n",
      "Lowest score is the least important\n",
      " \n",
      "(20,[0,1,2,3,4,5,6,7,8,9,10,11,12,13,14,15,16,17,18,19],[0.05747215688003062,0.03619814140608186,0.04939278234502029,0.05286733140965153,0.043071227812227546,0.052207261689025196,0.05188894287236503,0.06023600713122832,0.05227390344025411,0.043697747354782386,0.04052219931662088,0.050573121365770565,0.0585632894090992,0.05405756018294864,0.04392326782025042,0.057874784416686954,0.04662073047322538,0.053280071564352605,0.035603346503792536,0.0596761266065861])\n",
      " \n",
      "\u001b[1mGBTClassifier  Feature Importances\u001b[0m\n",
      "(Scores add up to 1)\n",
      "Lowest score is the least important\n",
      " \n",
      "(20,[0,1,2,3,4,5,6,7,8,9,10,11,12,13,14,15,16,17,18,19],[0.07030112917776307,0.05077325662376042,0.030895904638135754,0.05685973291208724,0.0317960194116825,0.0489490251239432,0.042884329928144824,0.061057391274548505,0.08517458680370775,0.05907157851413613,0.02055975915243599,0.03942802650638487,0.08417332607753403,0.04293769675850997,0.061357923106266164,0.03937810561427345,0.024704396456768696,0.07974103006873284,0.0344205998719721,0.035536181979212406])\n"
     ]
    },
    {
     "name": "stderr",
     "output_type": "stream",
     "text": [
      "\r",
      "[Stage 15703:>                                                      (0 + 1) / 1]\r",
      "\r",
      "                                                                                \r"
     ]
    },
    {
     "name": "stdout",
     "output_type": "stream",
     "text": [
      " \n",
      "\u001b[1mDecisionTreeClassifier  Feature Importances\u001b[0m\n",
      "(Scores add up to 1)\n",
      "Lowest score is the least important\n",
      " \n",
      "(20,[0,1,2,3,4,5,6,8,10,11,12,13,15,19],[0.027390847691160933,0.03595671278730581,0.06353602513459475,0.09115674111618362,0.04687307034473311,0.037023403900217064,0.13518840706271976,0.11001578778928635,0.06987845798110853,0.08426803869405138,0.08728550130916612,0.09131827208078896,0.08000300888424779,0.04010572522443582])\n",
      "\n",
      "\u001b[1mMultilayerPerceptronClassifier  Weights\u001b[0m\n",
      "\u001b[1mModel Weights: \u001b[0m 923\n",
      "\n",
      "+------------------------------+------+\n",
      "|Classifier                    |Result|\n",
      "+------------------------------+------+\n",
      "|LogisticRegression            |63.30 |\n",
      "|OneVsRest                     |62.38 |\n",
      "|LinearSVC                     |62.38 |\n",
      "|NaiveBayes                    |61.46 |\n",
      "|RandomForestClassifier        |66.97 |\n",
      "|GBTClassifier                 |63.30 |\n",
      "|DecisionTreeClassifier        |62.38 |\n",
      "|MultilayerPerceptronClassifier|46.78 |\n",
      "+------------------------------+------+\n",
      "\n",
      "None\n",
      "\u001b[1mW2VfeaturizedData  Results:\u001b[0m\n",
      " \n",
      "\u001b[1mLogisticRegression  Coefficient Matrix\u001b[0m\n",
      "You should compares these relative to eachother\n",
      "Coefficients: \n",
      "DenseMatrix([[-0.13504741, -2.70702293, -1.15429385]])\n",
      "\n",
      "Intercept: [1.344331532378886]\n",
      " \n",
      "\u001b[1mOneVsRest\u001b[0m\n",
      "\u001b[1mIntercept: \u001b[0m -0.9196204541723634 \u001b[1m\n",
      "Coefficients:\u001b[0m [0.2624199832787599,1.8397630789215786,0.8886053726952142]\n",
      "\u001b[1mIntercept: \u001b[0m 0.9196204541723682 \u001b[1m\n",
      "Coefficients:\u001b[0m [-0.2624199832787636,-1.839763078921575,-0.8886053726952228]\n",
      " \n",
      "\u001b[1mLinearSVC  Coefficients\u001b[0m\n",
      "You should compares these relative to eachother\n",
      "Coefficients: \n",
      "[-0.0,-0.0525568355792233,-0.04880881500557425]\n",
      " \n",
      "\u001b[1mRandomForestClassifier  Feature Importances\u001b[0m\n",
      "(Scores add up to 1)\n",
      "Lowest score is the least important\n",
      " \n",
      "(3,[0,1,2],[0.35035569540596156,0.3492006025538054,0.30044370204023296])\n",
      " \n",
      "\u001b[1mGBTClassifier  Feature Importances\u001b[0m\n",
      "(Scores add up to 1)\n",
      "Lowest score is the least important\n",
      " \n",
      "(3,[0,1,2],[0.4489404752069684,0.2956190439285709,0.25544048086446075])\n",
      " \n",
      "\u001b[1mDecisionTreeClassifier  Feature Importances\u001b[0m\n",
      "(Scores add up to 1)\n",
      "Lowest score is the least important\n",
      " \n",
      "(3,[0,1,2],[0.20815719202370642,0.53370747845456,0.2581353295217336])\n",
      "\n",
      "\u001b[1mMultilayerPerceptronClassifier  Weights\u001b[0m\n",
      "\u001b[1mModel Weights: \u001b[0m 39\n",
      "\n",
      "+------------------------------+------+\n",
      "|Classifier                    |Result|\n",
      "+------------------------------+------+\n",
      "|LogisticRegression            |66.05 |\n",
      "|OneVsRest                     |68.80 |\n",
      "|LinearSVC                     |62.38 |\n",
      "|NaiveBayes                    |62.38 |\n",
      "|RandomForestClassifier        |65.13 |\n",
      "|GBTClassifier                 |67.88 |\n",
      "|DecisionTreeClassifier        |65.13 |\n",
      "|MultilayerPerceptronClassifier|51.37 |\n",
      "+------------------------------+------+\n",
      "\n",
      "None\n"
     ]
    }
   ],
   "source": [
    "for featureDF in featureDF_list:\n",
    "    print(\"\\033[1m\" + featureDF.name, \" Results:\" + \"\\033[0m\")\n",
    "    train, test = featureDF.randomSplit([0.7, 0.3], seed=11)\n",
    "    features = featureDF.select([\"features\"]).collect()\n",
    "    # Learn how many classes there are in order to specify evaluation type based on binary or multi and turn the df into an object\n",
    "    class_count = featureDF.select(countDistinct(\"label\")).collect()\n",
    "    classes = class_count[0][0]\n",
    "\n",
    "    # set up your results table\n",
    "    columns = [\"Classifier\", \"Result\"]\n",
    "    vals = [(\"Place Holder\", \"N/A\")]\n",
    "    results = spark.createDataFrame(vals, columns)\n",
    "\n",
    "    for classifier in classifiers:\n",
    "        new_result = ClassTrainEval(classifier, features, classes, train, test)\n",
    "        results = results.union(new_result)\n",
    "    results = results.where(\"Classifier!='Place Holder'\")\n",
    "    print(results.show(truncate=False))"
   ]
  },
  {
   "cell_type": "markdown",
   "metadata": {},
   "source": [
    "Looks like the Decision Tree classifier with the W2VfeaturizedData was our best performing feature list/classifier combo. Let's go with that and create our final model and play around with the test dataframe. "
   ]
  },
  {
   "cell_type": "code",
   "execution_count": 50,
   "metadata": {},
   "outputs": [
    {
     "name": "stdout",
     "output_type": "stream",
     "text": [
      " \n",
      "\u001b[1mDecisionTreeClassifier  Feature Importances\u001b[0m\n",
      "(Scores add up to 1)\n",
      "Lowest score is the least important\n",
      " \n",
      "(3,[0,1,2],[0.20815719202370642,0.53370747845456,0.2581353295217336])\n"
     ]
    },
    {
     "data": {
      "text/plain": [
       "DataFrame[Classifier: string, Result: string]"
      ]
     },
     "execution_count": 50,
     "metadata": {},
     "output_type": "execute_result"
    }
   ],
   "source": [
    "classifier = DecisionTreeClassifier()\n",
    "featureDF = W2VfeaturizedData\n",
    "\n",
    "train, test = featureDF.randomSplit([0.7, 0.3], seed=11)\n",
    "features = featureDF.select([\"features\"]).collect()\n",
    "\n",
    "# Learn how many classes there are in order to specify evaluation type based on binary or multi and turn the df into an object\n",
    "class_count = featureDF.select(countDistinct(\"label\")).collect()\n",
    "classes = class_count[0][0]\n",
    "\n",
    "# running this afain with generate all the objects need to play around with test data\n",
    "ClassTrainEval(classifier, features, classes, train, test)"
   ]
  },
  {
   "cell_type": "markdown",
   "metadata": {},
   "source": [
    "Let's see some results!"
   ]
  },
  {
   "cell_type": "code",
   "execution_count": 55,
   "metadata": {},
   "outputs": [
    {
     "name": "stdout",
     "output_type": "stream",
     "text": [
      "Predicted Failures:\n",
      "+------+------------------------------------------------------------------------------------------------------------------------+\n",
      "|state |blurb                                                                                                                   |\n",
      "+------+------------------------------------------------------------------------------------------------------------------------+\n",
      "|failed|a brandnew fullyfledged d jrpg adventure coming to the nintendo ds                                                      |\n",
      "|failed|a challenging puzzle platformer for pc and android                                                                      |\n",
      "|failed|a complete tournament and event system for everyone to compete in involving all video games from all systems new and old|\n",
      "+------+------------------------------------------------------------------------------------------------------------------------+\n",
      "only showing top 3 rows\n",
      "\n",
      " \n",
      "Predicted Success:\n",
      "+------+------------------------------------------------------------------------------------------------------------------------------+\n",
      "|state |blurb                                                                                                                         |\n",
      "+------+------------------------------------------------------------------------------------------------------------------------------+\n",
      "|failed|cave bro is an entertaining mobile game designed to help kids become more active while learning about nutrition and exercise  |\n",
      "|failed|get involved in a funny yet heart touching story join up with olucias new relic technology and help find the stolen ones      |\n",
      "|failed|i think we can all agree that has been a bumpy ride for everyone from the us election to celebrity deaths to brexit and clowns|\n",
      "+------+------------------------------------------------------------------------------------------------------------------------------+\n",
      "only showing top 3 rows\n",
      "\n",
      "Predicted Success and Actually Succeed:\n",
      "+----------+----------------------------------------------------------------------------------------------------------------------------------+\n",
      "|state     |blurb                                                                                                                             |\n",
      "+----------+----------------------------------------------------------------------------------------------------------------------------------+\n",
      "|successful|a corkscrew that is to be taken out of the kitchen drawer and displayed in your home symbolizing hospitality warmth and friendship|\n",
      "|successful|a government department is clamping down on rogue religions but the orona a dangerous cult have plans to ensure their survival    |\n",
      "|successful|after shock an apocalyptic actionthriller short film shot on the red needs your help to record the music for its stunning score   |\n",
      "+----------+----------------------------------------------------------------------------------------------------------------------------------+\n",
      "only showing top 3 rows\n",
      "\n"
     ]
    }
   ],
   "source": [
    "predictions = DT_BestModel.transform(test)\n",
    "print(\"Predicted Failures:\")\n",
    "predictions.select(\"state\", \"blurb\").filter(\"prediction=0\").orderBy(\n",
    "    predictions[\"prediction\"].desc()\n",
    ").show(3, False)\n",
    "print(\" \")\n",
    "print(\"Predicted Success:\")\n",
    "predictions.select(\"state\", \"blurb\").filter(\"prediction=1\").orderBy(\n",
    "    predictions[\"prediction\"].desc()\n",
    ").show(3, False)\n",
    "print(\"Predicted Success and Actually Succeed:\")\n",
    "predictions.select(\"state\", \"blurb\").filter(\n",
    "    \"prediction=1 AND state='successful'\"\n",
    ").orderBy(predictions[\"prediction\"].desc()).show(3, False)"
   ]
  },
  {
   "cell_type": "markdown",
   "metadata": {},
   "source": [
    "## What could be next?\n",
    "\n",
    "Once we have our model and all the vectorizer the sky is really the limit! We could do any of the following for starters:\n",
    "\n",
    "1. Allow a user to input their own \"blurb\" and we could return a prediction of whether or not it would pass\n",
    "2. If we had a time variable here, we could show the most popular words over time\n",
    "3. Provide this algorithim to Kickstarter for prescreening so they can prioritize entries"
   ]
  }
 ],
 "metadata": {
  "kernelspec": {
   "display_name": "Python 3 (ipykernel)",
   "language": "python",
   "name": "python3"
  },
  "language_info": {
   "codemirror_mode": {
    "name": "ipython",
    "version": 3
   },
   "file_extension": ".py",
   "mimetype": "text/x-python",
   "name": "python",
   "nbconvert_exporter": "python",
   "pygments_lexer": "ipython3",
   "version": "3.7.10"
  }
 },
 "nbformat": 4,
 "nbformat_minor": 2
}
